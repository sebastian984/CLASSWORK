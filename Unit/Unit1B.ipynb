{
 "cells": [
  {
   "cell_type": "markdown",
   "metadata": {
    "nbgrader": {
     "grade": false,
     "grade_id": "cell-9e0ef81cf4cfd046",
     "locked": true,
     "schema_version": 3,
     "solution": false,
     "task": false
    }
   },
   "source": [
    "# Regression modeling in R - a second pass\n",
    "\n",
    "The following dataset containts measurements related to the impact of three advertising medias on sales of a product, $P$. The variables are:\n",
    "\n",
    "- `youtube`: the advertising budget allocated to YouTube. Measured in thousands of dollars;\n",
    "\n",
    "- `facebook`: the advertising budget allocated to Facebook. Measured in thousands of dollars; and \n",
    "\n",
    "- `newspaper`: the advertising budget allocated to a local newspaper. Measured in thousands of dollars.\n",
    "\n",
    "- `sales`: the value in the $i^{th}$ row of the sales column is a measurement of the sales (in thousands of units) for product $P$ for company $i$.\n",
    "\n",
    "The advertising data treat \"a company selling product $P$\" as the statistical unit, and \"all companies selling product $P$\" as the population. We assume that the $n = 200$ companies in the dataset were chosen at random from the population (a strong assumption!)."
   ]
  },
  {
   "cell_type": "code",
   "execution_count": 1,
   "metadata": {
    "scrolled": true
   },
   "outputs": [
    {
     "name": "stderr",
     "output_type": "stream",
     "text": [
      "Registered S3 methods overwritten by 'ggplot2':\n",
      "  method         from \n",
      "  [.quosures     rlang\n",
      "  c.quosures     rlang\n",
      "  print.quosures rlang\n",
      "Warning message in data(marketing):\n",
      "“data set ‘marketing’ not found”"
     ]
    },
    {
     "data": {
      "text/html": [
       "<table>\n",
       "<thead><tr><th scope=col>youtube</th><th scope=col>facebook</th><th scope=col>newspaper</th><th scope=col>sales</th></tr></thead>\n",
       "<tbody>\n",
       "\t<tr><td>276.12</td><td>45.36 </td><td>83.04 </td><td>26.52 </td></tr>\n",
       "\t<tr><td> 53.40</td><td>47.16 </td><td>54.12 </td><td>12.48 </td></tr>\n",
       "\t<tr><td> 20.64</td><td>55.08 </td><td>83.16 </td><td>11.16 </td></tr>\n",
       "\t<tr><td>181.80</td><td>49.56 </td><td>70.20 </td><td>22.20 </td></tr>\n",
       "\t<tr><td>216.96</td><td>12.96 </td><td>70.08 </td><td>15.48 </td></tr>\n",
       "\t<tr><td> 10.44</td><td>58.68 </td><td>90.00 </td><td> 8.64 </td></tr>\n",
       "</tbody>\n",
       "</table>\n"
      ],
      "text/latex": [
       "\\begin{tabular}{r|llll}\n",
       " youtube & facebook & newspaper & sales\\\\\n",
       "\\hline\n",
       "\t 276.12 & 45.36  & 83.04  & 26.52 \\\\\n",
       "\t  53.40 & 47.16  & 54.12  & 12.48 \\\\\n",
       "\t  20.64 & 55.08  & 83.16  & 11.16 \\\\\n",
       "\t 181.80 & 49.56  & 70.20  & 22.20 \\\\\n",
       "\t 216.96 & 12.96  & 70.08  & 15.48 \\\\\n",
       "\t  10.44 & 58.68  & 90.00  &  8.64 \\\\\n",
       "\\end{tabular}\n"
      ],
      "text/markdown": [
       "\n",
       "| youtube | facebook | newspaper | sales |\n",
       "|---|---|---|---|\n",
       "| 276.12 | 45.36  | 83.04  | 26.52  |\n",
       "|  53.40 | 47.16  | 54.12  | 12.48  |\n",
       "|  20.64 | 55.08  | 83.16  | 11.16  |\n",
       "| 181.80 | 49.56  | 70.20  | 22.20  |\n",
       "| 216.96 | 12.96  | 70.08  | 15.48  |\n",
       "|  10.44 | 58.68  | 90.00  |  8.64  |\n",
       "\n"
      ],
      "text/plain": [
       "  youtube facebook newspaper sales\n",
       "1 276.12  45.36    83.04     26.52\n",
       "2  53.40  47.16    54.12     12.48\n",
       "3  20.64  55.08    83.16     11.16\n",
       "4 181.80  49.56    70.20     22.20\n",
       "5 216.96  12.96    70.08     15.48\n",
       "6  10.44  58.68    90.00      8.64"
      ]
     },
     "metadata": {},
     "output_type": "display_data"
    }
   ],
   "source": [
    "library(ggplot2)\n",
    "\n",
    "marketing = read.table(url(\"https://raw.githubusercontent.com/bzaharatos/-Statistical-Modeling-for-Data-Science-Applications/master/Modern%20Regression%20Analysis%20/Datasets/marketing.txt\"), sep = \"\")\n",
    "\n",
    "data(marketing)\n",
    "head(marketing)\n",
    "n = dim(marketing)[1]; p = dim(marketing)[2] - 1"
   ]
  },
  {
   "cell_type": "markdown",
   "metadata": {
    "nbgrader": {
     "grade": false,
     "grade_id": "cell-f8020d03ea9706da",
     "locked": true,
     "schema_version": 3,
     "solution": false,
     "task": false
    }
   },
   "source": [
    "Note that, before an analysis, one should explore the data. We did this in \"Regression modeling in R - a first pass\"."
   ]
  },
  {
   "cell_type": "markdown",
   "metadata": {
    "nbgrader": {
     "grade": false,
     "grade_id": "cell-c0c62cb5b91a1b8a",
     "locked": true,
     "schema_version": 3,
     "solution": false,
     "task": false
    }
   },
   "source": [
    "## Linear regression modeling\n",
    "\n"
   ]
  },
  {
   "cell_type": "markdown",
   "metadata": {
    "nbgrader": {
     "grade": false,
     "grade_id": "cell-6eefdf15c439fc5b",
     "locked": true,
     "schema_version": 3,
     "solution": false,
     "task": false
    }
   },
   "source": [
    "### Sums of squares and $R^2$ for simple linear regression\n",
    "\n",
    "First, let's fit the same model that we fit in the previous notebook (but to the entire dataset, rather than just a training set). In addition to running a summary of the model (using `summary()`), we'll also run an \"analysis of variance\", using the `anova()` function. The analysis of variance decomposes the total variability ($TSS$) into the explained variability ($ESS$), and the residual/unexplained variability ($RSS$). It also produces an \"F-test\" that we'll learn how to interpret in the next module."
   ]
  },
  {
   "cell_type": "code",
   "execution_count": 2,
   "metadata": {},
   "outputs": [
    {
     "data": {
      "text/plain": [
       "\n",
       "Call:\n",
       "lm(formula = sales ~ facebook, data = marketing)\n",
       "\n",
       "Residuals:\n",
       "     Min       1Q   Median       3Q      Max \n",
       "-18.8766  -2.5589   0.9248   3.3330   9.8173 \n",
       "\n",
       "Coefficients:\n",
       "            Estimate Std. Error t value Pr(>|t|)    \n",
       "(Intercept) 11.17397    0.67548  16.542   <2e-16 ***\n",
       "facebook     0.20250    0.02041   9.921   <2e-16 ***\n",
       "---\n",
       "Signif. codes:  0 ‘***’ 0.001 ‘**’ 0.01 ‘*’ 0.05 ‘.’ 0.1 ‘ ’ 1\n",
       "\n",
       "Residual standard error: 5.13 on 198 degrees of freedom\n",
       "Multiple R-squared:  0.332,\tAdjusted R-squared:  0.3287 \n",
       "F-statistic: 98.42 on 1 and 198 DF,  p-value: < 2.2e-16\n"
      ]
     },
     "metadata": {},
     "output_type": "display_data"
    },
    {
     "data": {
      "text/html": [
       "<table>\n",
       "<thead><tr><th></th><th scope=col>Df</th><th scope=col>Sum Sq</th><th scope=col>Mean Sq</th><th scope=col>F value</th><th scope=col>Pr(&gt;F)</th></tr></thead>\n",
       "<tbody>\n",
       "\t<tr><th scope=row>facebook</th><td>  1         </td><td>2590.084    </td><td>2590.08365  </td><td>98.42159    </td><td>4.354966e-19</td></tr>\n",
       "\t<tr><th scope=row>Residuals</th><td>198         </td><td>5210.611    </td><td>  26.31621  </td><td>      NA    </td><td>          NA</td></tr>\n",
       "</tbody>\n",
       "</table>\n"
      ],
      "text/latex": [
       "\\begin{tabular}{r|lllll}\n",
       "  & Df & Sum Sq & Mean Sq & F value & Pr(>F)\\\\\n",
       "\\hline\n",
       "\tfacebook &   1          & 2590.084     & 2590.08365   & 98.42159     & 4.354966e-19\\\\\n",
       "\tResiduals & 198          & 5210.611     &   26.31621   &       NA     &           NA\\\\\n",
       "\\end{tabular}\n"
      ],
      "text/markdown": [
       "\n",
       "| <!--/--> | Df | Sum Sq | Mean Sq | F value | Pr(>F) |\n",
       "|---|---|---|---|---|---|\n",
       "| facebook |   1          | 2590.084     | 2590.08365   | 98.42159     | 4.354966e-19 |\n",
       "| Residuals | 198          | 5210.611     |   26.31621   |       NA     |           NA |\n",
       "\n"
      ],
      "text/plain": [
       "          Df  Sum Sq   Mean Sq    F value  Pr(>F)      \n",
       "facebook    1 2590.084 2590.08365 98.42159 4.354966e-19\n",
       "Residuals 198 5210.611   26.31621       NA           NA"
      ]
     },
     "metadata": {},
     "output_type": "display_data"
    }
   ],
   "source": [
    "lm_marketing = lm(sales ~ facebook, data = marketing)\n",
    "summary(lm_marketing)\n",
    "anova(lm_marketing)"
   ]
  },
  {
   "cell_type": "markdown",
   "metadata": {
    "nbgrader": {
     "grade": false,
     "grade_id": "cell-d45e4544120a7095",
     "locked": true,
     "schema_version": 3,
     "solution": false,
     "task": false
    }
   },
   "source": [
    "From the output, we see that:\n",
    "\n",
    "- $ESS \\approx 2,590.1$\n",
    "- $RSS \\approx 5,210.6$\n",
    "- $TSS \\approx 2,590.1 + 5,210.6 = 7,800.7$"
   ]
  },
  {
   "cell_type": "markdown",
   "metadata": {
    "nbgrader": {
     "grade": false,
     "grade_id": "cell-28b2d3711dadaaff",
     "locked": true,
     "schema_version": 3,
     "solution": false,
     "task": false
    }
   },
   "source": [
    "#### Computing regression quantities \"by hand\"\n",
    "\n",
    "Let's connect the `lm()` function output to the computations that we studied in a previous video. "
   ]
  },
  {
   "cell_type": "code",
   "execution_count": 3,
   "metadata": {
    "nbgrader": {
     "grade": true,
     "grade_id": "cell-3716bdda6dc70952",
     "locked": false,
     "points": 2,
     "schema_version": 3,
     "solution": true,
     "task": false
    }
   },
   "outputs": [
    {
     "data": {
      "text/html": [
       "5.15603992489615"
      ],
      "text/latex": [
       "5.15603992489615"
      ],
      "text/markdown": [
       "5.15603992489615"
      ],
      "text/plain": [
       "[1] 5.15604"
      ]
     },
     "metadata": {},
     "output_type": "display_data"
    },
    {
     "name": "stdout",
     "output_type": "stream",
     "text": [
      "The explained sum of squares is 2590.08 .\n",
      "The residual sum of squares is  5210.61 .\n",
      "The total sum of squares is  7800.69 .\n",
      "The coefficient of determination is 0.33 .\n",
      "The estimate of the error standard deviation is 5.16 .\n"
     ]
    }
   ],
   "source": [
    "ess = sum((fitted(lm_marketing) - mean(marketing$sales))^2); \n",
    "rss = sum(residuals(lm_marketing)^2);\n",
    "tss = with(marketing, sum((sales - mean(sales))^2)); \n",
    "r2 = 1-rss/tss; \n",
    "sigma = sqrt(rss/(n - p - 1)); sigma\n",
    "\n",
    "cat(paste(\"The explained sum of squares is\", round(ess,2), \".\"),\n",
    "        paste(\"The residual sum of squares is \", round(rss,2), \".\"),\n",
    "        paste(\"The total sum of squares is \", round(tss,2), \".\"),\n",
    "        paste(\"The coefficient of determination is\", round(r2,2), \".\"),\n",
    "        paste(\"The estimate of the error standard deviation is\", round(sigma,2), \".\"),\n",
    "           sep = \"\\n\"\n",
    "           )"
   ]
  },
  {
   "cell_type": "markdown",
   "metadata": {
    "nbgrader": {
     "grade": false,
     "grade_id": "cell-90e04abfe7514645",
     "locked": true,
     "schema_version": 3,
     "solution": false,
     "task": false
    }
   },
   "source": [
    "Note that you can extract these quantities from the `lm()` object:"
   ]
  },
  {
   "cell_type": "code",
   "execution_count": 4,
   "metadata": {
    "nbgrader": {
     "grade": false,
     "grade_id": "cell-81e7f829e66ec9c6",
     "locked": true,
     "schema_version": 3,
     "solution": false,
     "task": false
    }
   },
   "outputs": [
    {
     "name": "stdout",
     "output_type": "stream",
     "text": [
      "Explained sum of squares: 2590.08\n",
      "Residual sum of squares: 5210.61\n",
      "Total sum of squares: 7800.69\n",
      "Coefficient of determination: 0.33\n"
     ]
    }
   ],
   "source": [
    "cat(paste(\"Explained sum of squares:\", round(anova(lm_marketing)[[2]][1],2)),\n",
    "    paste(\"Residual sum of squares:\",round(anova(lm_marketing)[[2]][2],2)),\n",
    "    paste(\"Total sum of squares:\",round(anova(lm_marketing)[[2]][1] + anova(lm_marketing)[[2]][2],2)),\n",
    "    paste(\"Coefficient of determination:\",round(summary(lm_marketing)$r.squared,2)),\n",
    "       sep = \"\\n\")"
   ]
  },
  {
   "cell_type": "markdown",
   "metadata": {
    "nbgrader": {
     "grade": false,
     "grade_id": "cell-56ed4368796037e4",
     "locked": true,
     "schema_version": 3,
     "solution": false,
     "task": false
    }
   },
   "source": [
    "## Multiple linear regression\n",
    "\n",
    "Now, let's include the other predictors in our regression model.\n",
    "\n"
   ]
  },
  {
   "cell_type": "code",
   "execution_count": 5,
   "metadata": {
    "nbgrader": {
     "grade": true,
     "grade_id": "cell-aadca01c1fd45eb4",
     "locked": false,
     "points": 1,
     "schema_version": 3,
     "solution": true,
     "task": false
    }
   },
   "outputs": [
    {
     "data": {
      "text/plain": [
       "\n",
       "Call:\n",
       "lm(formula = sales ~ facebook + youtube + newspaper, data = marketing)\n",
       "\n",
       "Residuals:\n",
       "     Min       1Q   Median       3Q      Max \n",
       "-10.5932  -1.0690   0.2902   1.4272   3.3951 \n",
       "\n",
       "Coefficients:\n",
       "             Estimate Std. Error t value Pr(>|t|)    \n",
       "(Intercept)  3.526667   0.374290   9.422   <2e-16 ***\n",
       "facebook     0.188530   0.008611  21.893   <2e-16 ***\n",
       "youtube      0.045765   0.001395  32.809   <2e-16 ***\n",
       "newspaper   -0.001037   0.005871  -0.177     0.86    \n",
       "---\n",
       "Signif. codes:  0 ‘***’ 0.001 ‘**’ 0.01 ‘*’ 0.05 ‘.’ 0.1 ‘ ’ 1\n",
       "\n",
       "Residual standard error: 2.023 on 196 degrees of freedom\n",
       "Multiple R-squared:  0.8972,\tAdjusted R-squared:  0.8956 \n",
       "F-statistic: 570.3 on 3 and 196 DF,  p-value: < 2.2e-16\n"
      ]
     },
     "metadata": {},
     "output_type": "display_data"
    }
   ],
   "source": [
    "lm_marketing_MLR = lm(sales ~ facebook + youtube + newspaper, data = marketing)\n",
    "summary(lm_marketing_MLR)"
   ]
  },
  {
   "cell_type": "markdown",
   "metadata": {
    "nbgrader": {
     "grade": true,
     "grade_id": "cell-1aa5eee3b7a9159f",
     "locked": false,
     "points": 1,
     "schema_version": 3,
     "solution": true,
     "task": false
    }
   },
   "source": [
    "First, note that the intercept and `facebook` parameter estimates have changed. The reason for these changes is the fact that we've now introduced new variables that explain some variability in `sales`. \n",
    "\n",
    "- If the model is correct, a company with no Facebook, YouTube, or newspaper advertising budget can expect to sell $\\widehat\\beta_0 \\times 1,000 \\approx 3.53 \\times 1,000 = 3,530$ units of product $P$. Notice that this is down from $\\approx 11,174$ units in our previous simple linear regression model. Different models can have very different predictions and explanations, so it's important to attempt to find a good model! We'll focus more on the problem of model selection later in the course.\n",
    "\n",
    "- If the model is correct, then, for a $\\$1,000$ increase in the Facebook advertising budget, a company can expect to sell roughly $\\widehat\\beta_1 \\times 1000 = 0.19 \\times 1,000 = 190$ more unts, on average, *adjusting for YouTube and newspaper advertising budgets.* The adjustment is important: what we mean here is that the YouTube and newspaper advertising budgets can be held at a constant value, and the $190$ unit change is the specific change associated with the Facebook advertising budget. (Similar interpretations can be made for `youtube` and `newspaper`.)\n",
    "\n",
    "- Recall the interpretation of \"multiple R-squared\", $R^2$: assuming the linear model is correct, $R^2$ is the proportion of observed variability in `sales` that can be explained by the linear regression model. \n",
    "    - For the simple linear regression model, $R^2 \\approx 0.33$. Assuming that the model is correct (but it likely isn't!), only about $33\\%$ of the variability in sales of $P$ can be explained by the Facebook advertising budget. \n",
    "\n",
    "    - For the multiple linear regression model, $R^2$ increases sharply to $0.90$. We should be caseful in comparing $R^2$ across models with a different number of predictors; $R^2$ will always increase when adding a predictor. What we'd really like to know is whether that increase is important enough to attribute to a real relationship between the added precitors and the response. \n",
    "    \n",
    "    - \"Adjusted-$R^2$\", which adjusts for the number of predictors in each model, is meant to compare models of different sizes. The sharp increase in the adjusted-$R^2$ suggests that adding `youtube`  and `newspaper` did, in fact, explain significantly more of the variability. We'll study the adjusted- $R^2$ more later in the course."
   ]
  },
  {
   "cell_type": "markdown",
   "metadata": {
    "nbgrader": {
     "grade": false,
     "grade_id": "cell-468ac9b4a1f0bda3",
     "locked": true,
     "schema_version": 3,
     "solution": false,
     "task": false
    }
   },
   "source": [
    "### Sums of squares and $R^2$ for multiple linear regression\n",
    "\n",
    "Note that we can compute the sums of squares for multiple linear regression in the same was as for simple linear regression."
   ]
  },
  {
   "cell_type": "code",
   "execution_count": 6,
   "metadata": {
    "nbgrader": {
     "grade": true,
     "grade_id": "cell-b62fc79da5c2ec4f",
     "locked": false,
     "points": 0,
     "schema_version": 3,
     "solution": true,
     "task": false
    }
   },
   "outputs": [
    {
     "data": {
      "text/html": [
       "<table>\n",
       "<thead><tr><th></th><th scope=col>Df</th><th scope=col>Sum Sq</th><th scope=col>Mean Sq</th><th scope=col>F value</th><th scope=col>Pr(&gt;F)</th></tr></thead>\n",
       "<tbody>\n",
       "\t<tr><th scope=row>facebook</th><td>  1         </td><td>2590.0836494</td><td>2590.0836494</td><td>6.331235e+02</td><td>2.688795e-63</td></tr>\n",
       "\t<tr><th scope=row>youtube</th><td>  1         </td><td>4408.6544193</td><td>4408.6544193</td><td>1.077657e+03</td><td>1.371149e-81</td></tr>\n",
       "\t<tr><th scope=row>newspaper</th><td>  1         </td><td>   0.1277527</td><td>   0.1277527</td><td>3.122805e-02</td><td>8.599151e-01</td></tr>\n",
       "\t<tr><th scope=row>Residuals</th><td>196         </td><td> 801.8283786</td><td>   4.0909611</td><td>          NA</td><td>          NA</td></tr>\n",
       "</tbody>\n",
       "</table>\n"
      ],
      "text/latex": [
       "\\begin{tabular}{r|lllll}\n",
       "  & Df & Sum Sq & Mean Sq & F value & Pr(>F)\\\\\n",
       "\\hline\n",
       "\tfacebook &   1          & 2590.0836494 & 2590.0836494 & 6.331235e+02 & 2.688795e-63\\\\\n",
       "\tyoutube &   1          & 4408.6544193 & 4408.6544193 & 1.077657e+03 & 1.371149e-81\\\\\n",
       "\tnewspaper &   1          &    0.1277527 &    0.1277527 & 3.122805e-02 & 8.599151e-01\\\\\n",
       "\tResiduals & 196          &  801.8283786 &    4.0909611 &           NA &           NA\\\\\n",
       "\\end{tabular}\n"
      ],
      "text/markdown": [
       "\n",
       "| <!--/--> | Df | Sum Sq | Mean Sq | F value | Pr(>F) |\n",
       "|---|---|---|---|---|---|\n",
       "| facebook |   1          | 2590.0836494 | 2590.0836494 | 6.331235e+02 | 2.688795e-63 |\n",
       "| youtube |   1          | 4408.6544193 | 4408.6544193 | 1.077657e+03 | 1.371149e-81 |\n",
       "| newspaper |   1          |    0.1277527 |    0.1277527 | 3.122805e-02 | 8.599151e-01 |\n",
       "| Residuals | 196          |  801.8283786 |    4.0909611 |           NA |           NA |\n",
       "\n"
      ],
      "text/plain": [
       "          Df  Sum Sq       Mean Sq      F value      Pr(>F)      \n",
       "facebook    1 2590.0836494 2590.0836494 6.331235e+02 2.688795e-63\n",
       "youtube     1 4408.6544193 4408.6544193 1.077657e+03 1.371149e-81\n",
       "newspaper   1    0.1277527    0.1277527 3.122805e-02 8.599151e-01\n",
       "Residuals 196  801.8283786    4.0909611           NA           NA"
      ]
     },
     "metadata": {},
     "output_type": "display_data"
    },
    {
     "name": "stdout",
     "output_type": "stream",
     "text": [
      "The explained sum of squares is 6998.87 .\n",
      "The residual sum of squares is  801.83 .\n",
      "The total sum of squares is  7800.69 .\n",
      "The coefficient of determination is 0.9 .\n",
      "The estimate of the error standard deviation is 2.02 .\n"
     ]
    }
   ],
   "source": [
    "anova(lm_marketing_MLR)\n",
    "\n",
    "ess = sum((fitted(lm_marketing_MLR) - mean(marketing$sales))^2); \n",
    "rss = sum(residuals(lm_marketing_MLR)^2);\n",
    "tss = with(marketing, sum((sales - mean(sales))^2)); \n",
    "r2 = 1-rss/tss; \n",
    "sigma = sqrt(rss/(n - p - 1)); \n",
    "\n",
    "cat(paste(\"The explained sum of squares is\", round(ess,2), \".\"),\n",
    "        paste(\"The residual sum of squares is \", round(rss,2), \".\"),\n",
    "        paste(\"The total sum of squares is \", round(tss,2), \".\"),\n",
    "        paste(\"The coefficient of determination is\", round(r2,2), \".\"),\n",
    "        paste(\"The estimate of the error standard deviation is\", round(sigma,2), \".\"),\n",
    "           sep = \"\\n\"\n",
    "           )"
   ]
  },
  {
   "cell_type": "markdown",
   "metadata": {
    "nbgrader": {
     "grade": false,
     "grade_id": "cell-efbd9446a2dfc380",
     "locked": true,
     "schema_version": 3,
     "solution": false,
     "task": false
    }
   },
   "source": [
    "## Non-identifiability: a simulation\n",
    "\n",
    "Recall that a linear regression model will have non-identifiable parameters when the matrix $\\left(X^TX\\right)^{-1}$ does not exist, where $X$ is the design matrix. $\\left(X^TX\\right)^{-1}$ does not exist when the columns of $X$ are linearly dependent. \n",
    "\n",
    "Let's simulate such a situation. \n",
    "\n",
    "*An aside: simulations are an invaluable tool in statistics and data science. In a simulation, we construct a dataset ourselves, rather than collect it from the world. In doing so, we know how the data were generated. With the simulated data (sometimes called \"synthetic data\"), we can fit various models - models that are correct, and models that are incorrect - and study how those models perform on data with known relationships.*\n",
    "\n",
    "Let's start out by simulating data in the following way. Let $Y_i = 2 + 3x_{i,1} + \\varepsilon_i$,  where $\\varepsilon_i \\overset{iid}{\\sim} N(0, 0.5^2)$,  $i = 1,...,n$, and $n = 75$. We'll generate the predictors, $x_i$ randomly from the interval $(0,1)$. This model will be identifiable."
   ]
  },
  {
   "cell_type": "code",
   "execution_count": 7,
   "metadata": {
    "nbgrader": {
     "grade": true,
     "grade_id": "cell-c383b53859e31965",
     "locked": false,
     "points": 1,
     "schema_version": 3,
     "solution": true,
     "task": false
    }
   },
   "outputs": [
    {
     "data": {
      "image/png": "[encoded data removed]",
      "text/plain": [
       "plot without title"
      ]
     },
     "metadata": {},
     "output_type": "display_data"
    }
   ],
   "source": [
    "library(ggplot2)\n",
    "set.seed(1989)\n",
    "n = 75; beta0 = 2; beta1 = 3; sigma = 0.5; e = rnorm(n, 0, sigma)\n",
    "x1 = runif(n, 0, 1)\n",
    "y = beta0 + beta1*x1 + e\n",
    "df = data.frame(x1 = x1,y = y)\n",
    "\n",
    "ggplot(df, aes(x = x1, y = y)) + \n",
    "    geom_point(alpha = 0.5) + \n",
    "    theme_bw()"
   ]
  },
  {
   "cell_type": "markdown",
   "metadata": {
    "nbgrader": {
     "grade": false,
     "grade_id": "cell-6ead0a77c63aed68",
     "locked": true,
     "schema_version": 3,
     "solution": false,
     "task": false
    }
   },
   "source": [
    "Now that we've simulated the data, let's fit a simple linear regression model to the data. We know that the model will be correct, because we know how the data were generated...we generated it!"
   ]
  },
  {
   "cell_type": "code",
   "execution_count": 8,
   "metadata": {
    "nbgrader": {
     "grade": true,
     "grade_id": "cell-b87926c6a85d02d0",
     "locked": false,
     "points": 1,
     "schema_version": 3,
     "solution": true,
     "task": false
    }
   },
   "outputs": [
    {
     "data": {
      "text/plain": [
       "\n",
       "Call:\n",
       "lm(formula = y ~ x1, data = df)\n",
       "\n",
       "Residuals:\n",
       "     Min       1Q   Median       3Q      Max \n",
       "-1.20649 -0.35046 -0.04997  0.37729  1.03224 \n",
       "\n",
       "Coefficients:\n",
       "            Estimate Std. Error t value Pr(>|t|)    \n",
       "(Intercept)   2.0192     0.1219   16.57   <2e-16 ***\n",
       "x1            2.8794     0.2126   13.54   <2e-16 ***\n",
       "---\n",
       "Signif. codes:  0 ‘***’ 0.001 ‘**’ 0.01 ‘*’ 0.05 ‘.’ 0.1 ‘ ’ 1\n",
       "\n",
       "Residual standard error: 0.5214 on 73 degrees of freedom\n",
       "Multiple R-squared:  0.7154,\tAdjusted R-squared:  0.7115 \n",
       "F-statistic: 183.5 on 1 and 73 DF,  p-value: < 2.2e-16\n"
      ]
     },
     "metadata": {},
     "output_type": "display_data"
    }
   ],
   "source": [
    "l = lm(y ~ x1, df)\n",
    "summary(l)"
   ]
  },
  {
   "cell_type": "markdown",
   "metadata": {
    "nbgrader": {
     "grade": false,
     "grade_id": "cell-34c47a185f4cba15",
     "locked": true,
     "schema_version": 3,
     "solution": false,
     "task": false
    }
   },
   "source": [
    "So far, there is nothing alarming in the summary output, because we've fit the correct linear model. Now, let's add a second predictor, $x_{i,2}$, such that $x_{i,2} = 2x_{i,1}$, and $Y_i = 2 + 3x_{i,1} + 2x_{i,2} + \\varepsilon_i$ (same assumptions on $\\varepsilon_i$). This model should be non-identifiable, since two columns in the design matrix will be a constant multiple of each other."
   ]
  },
  {
   "cell_type": "code",
   "execution_count": 9,
   "metadata": {
    "nbgrader": {
     "grade": true,
     "grade_id": "cell-20ced6cae888800d",
     "locked": false,
     "points": 1,
     "schema_version": 3,
     "solution": true,
     "task": false
    }
   },
   "outputs": [
    {
     "data": {
      "text/plain": [
       "\n",
       "Call:\n",
       "lm(formula = y ~ x1 + x2, data = df)\n",
       "\n",
       "Residuals:\n",
       "     Min       1Q   Median       3Q      Max \n",
       "-1.20649 -0.35046 -0.04997  0.37729  1.03224 \n",
       "\n",
       "Coefficients: (1 not defined because of singularities)\n",
       "            Estimate Std. Error t value Pr(>|t|)    \n",
       "(Intercept)   2.0192     0.1219   16.57   <2e-16 ***\n",
       "x1            2.8794     0.2126   13.54   <2e-16 ***\n",
       "x2                NA         NA      NA       NA    \n",
       "---\n",
       "Signif. codes:  0 ‘***’ 0.001 ‘**’ 0.01 ‘*’ 0.05 ‘.’ 0.1 ‘ ’ 1\n",
       "\n",
       "Residual standard error: 0.5214 on 73 degrees of freedom\n",
       "Multiple R-squared:  0.7154,\tAdjusted R-squared:  0.7115 \n",
       "F-statistic: 183.5 on 1 and 73 DF,  p-value: < 2.2e-16\n"
      ]
     },
     "metadata": {},
     "output_type": "display_data"
    }
   ],
   "source": [
    "x2 = x1*2; beta2 = 2\n",
    "y = beta0 + beta1*x1 + beta2*x2 + e\n",
    "df$x2 = x2\n",
    "l_nonID = lm(y ~ x1 + x2, data = df)\n",
    "summary(l_nonID)"
   ]
  },
  {
   "cell_type": "markdown",
   "metadata": {
    "nbgrader": {
     "grade": false,
     "grade_id": "cell-5e295f95fe40775a",
     "locked": true,
     "schema_version": 3,
     "solution": false,
     "task": false
    }
   },
   "source": [
    "Notice that the row of the cofficients table corresponding to `x2` is populated with `NA`. That is because the coefficient cannot be estimated due to non-identifiability. \n",
    "\n",
    "The situation of \"strict\" non-identifiability is rare and easy to diagnose: if one column is a linear combination of others, it will show up in the coefficients table as `NA`. However, \"near\" non-identifiability, called *collinearity* or *multicollinearity*, is less rare, and a bit trickier to diagnose. Let's simulate some collinear data. We'll set $x_3 = \\gamma x_1$, where $\\gamma \\overset{iid}{\\sim}N(0,0.05^2)$. Then we'll fit the model $Y_i = \\beta_0 + \\beta_1x_{i,1} + \\beta_2x_{i,3} + \\varepsilon_i$."
   ]
  },
  {
   "cell_type": "code",
   "execution_count": 10,
   "metadata": {
    "nbgrader": {
     "grade": true,
     "grade_id": "cell-7ac189d693fa6e42",
     "locked": false,
     "points": 1,
     "schema_version": 3,
     "solution": true,
     "task": false
    }
   },
   "outputs": [
    {
     "data": {
      "text/plain": [
       "\n",
       "Call:\n",
       "lm(formula = y ~ x1 + x3, data = df)\n",
       "\n",
       "Residuals:\n",
       "     Min       1Q   Median       3Q      Max \n",
       "-1.20947 -0.34670 -0.00826  0.38816  1.00133 \n",
       "\n",
       "Coefficients:\n",
       "            Estimate Std. Error t value Pr(>|t|)    \n",
       "(Intercept)   2.0175     0.1223  16.497   <2e-16 ***\n",
       "x1            2.8834     0.2133  13.516   <2e-16 ***\n",
       "x3           -1.5604     2.1481  -0.726     0.47    \n",
       "---\n",
       "Signif. codes:  0 ‘***’ 0.001 ‘**’ 0.01 ‘*’ 0.05 ‘.’ 0.1 ‘ ’ 1\n",
       "\n",
       "Residual standard error: 0.5231 on 72 degrees of freedom\n",
       "Multiple R-squared:  0.7174,\tAdjusted R-squared:  0.7096 \n",
       "F-statistic: 91.41 on 2 and 72 DF,  p-value: < 2.2e-16\n"
      ]
     },
     "metadata": {},
     "output_type": "display_data"
    }
   ],
   "source": [
    "set.seed(88188)\n",
    "x3 = x1*rnorm(n,0,0.05)\n",
    "df$x3 = x3\n",
    "y = beta0 + beta1*x1 + beta2*x3 + e\n",
    "\n",
    "l_MC = lm(y ~ x1 + x3, data = df)\n",
    "summary(l_MC)"
   ]
  },
  {
   "cell_type": "markdown",
   "metadata": {
    "nbgrader": {
     "grade": true,
     "grade_id": "cell-70eaf32021a8c111",
     "locked": false,
     "points": 2,
     "schema_version": 3,
     "solution": true,
     "task": false
    }
   },
   "source": [
    "Here, we notice that the coefficients table does not have any `NA` values. The reason for this is because, strictly speaking, the model is identifiable. However, there are problems with the fit. Notice that the estimate for $\\beta_2$ is negative, but that the true $\\beta_2 = 2$ is positive. This can easily happen with collinear data (for reasons that we will understand soon!), and is a sign that `x3` is a near constant multiple of `x1`. \n",
    "\n",
    "Note that, if we were working with real data - data for which we didn't know the data generating process - it wouldn't necessarily be clear that that the sign of the estimate of the parameter is different from the true parameter. But, you may have reasons to believe that the sign is off, e.g., if you have good theoretical reasons to believe that `x3` and `y` ought to be positively correlated but the sign of the estimate is negative. There are other methods to diagnose and deal with collinear data, and we'll look at some of them in a later lesson!"
   ]
  },
  {
   "cell_type": "code",
   "execution_count": null,
   "metadata": {},
   "outputs": [],
   "source": []
  }
 ],
 "metadata": {
  "celltoolbar": "Create Assignment",
  "kernelspec": {
   "display_name": "R",
   "language": "R",
   "name": "ir"
  },
  "language_info": {
   "codemirror_mode": "r",
   "file_extension": ".r",
   "mimetype": "text/x-r-source",
   "name": "R",
   "pygments_lexer": "r",
   "version": "3.6.1"
  }
 },
 "nbformat": 4,
 "nbformat_minor": 2
}
