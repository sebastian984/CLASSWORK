{
 "cells": [
  {
   "cell_type": "raw",
   "metadata": {
    "nbgrader": {
     "grade": false,
     "grade_id": "cell-1974ed458c9f30c8",
     "locked": true,
     "schema_version": 3,
     "solution": false,
     "task": false
    }
   },
   "source": [
    "# Introduction to R/Jupyter\n",
    "\n",
    " This is a Jupyter Notebook. A Jupyter Notebook is an [\"open-source web application that allows you to create and share documents that contain live code, equations, visualizations and narrative text.\"](http://jupyter.org) We will use the R programming languge and LaTex typsetting in Jupyter to prepare assignments and projects (you can also use other languages in Jupyter). The purpose of this note book is to familiarize yourself with programming in R.\n",
    "\n",
    "R is a powerful open source programming language that is used for statistical computation and graphics. In many ways, it is similar to Matlab and Python (so, if you know these languages, learning R will be fairly easy!). \n",
    "\n",
    "The best way to learn R and Jupyter is to jump right in! Below we walk through how to use Jupyter and R. **Text in boldface indicates exercises that I am asking you to complete.**\n"
   ]
  },
  {
   "cell_type": "code",
   "execution_count": 1,
   "metadata": {
    "nbgrader": {
     "grade": false,
     "grade_id": "cell-b5f07b1cb0c38a80",
     "locked": true,
     "schema_version": 3,
     "solution": false,
     "task": false
    }
   },
   "outputs": [],
   "source": [
    "#This package will be used to autograde some of your answers\n",
    "library(testthat)"
   ]
  },
  {
   "cell_type": "markdown",
   "metadata": {
    "nbgrader": {
     "grade": false,
     "grade_id": "cell-f57e780a9c2875b3",
     "locked": true,
     "schema_version": 3,
     "solution": false,
     "task": false
    }
   },
   "source": [
    "## Part I: Basics\n",
    "\n",
    "Jupyter has different types of cells. This cell is a \"markdown\" cell, and is used to write equations (LaTeX) and text. The other type of cell that we will use is a \"code\" cell. This is where we will program using R. You can create a new cell from the plus sign above (delete using the scissor) and select the type of cell using the drop down menu above and to the right. \n",
    "\n",
    "Note:\n",
    "\n",
    "1. In autograded assignments, don't add or delete cells. This will impact the autograder.\n",
    "2. Here's a [LaTeX cheatsheet](http://wch.github.io/latexsheet/).\n",
    "\n",
    "#### Double click on the \"Type Markdown and LaTex: $a^2$\" and type your favorite equation (come on, you know you have one...)."
   ]
  },
  {
   "cell_type": "markdown",
   "metadata": {
    "nbgrader": {
     "grade": true,
     "grade_id": "cell-91fd505c3c55eb54",
     "locked": false,
     "points": 0,
     "schema_version": 3,
     "solution": true,
     "task": false
    }
   },
   "source": [
    " $P(\\boldsymbol\\theta \\, | \\, \\boldsymbol y) \\propto P(\\boldsymbol y \\, | \\, \\boldsymbol\\theta)P(\\boldsymbol\\theta)$"
   ]
  },
  {
   "cell_type": "markdown",
   "metadata": {
    "nbgrader": {
     "grade": false,
     "grade_id": "cell-585024722e94eee3",
     "locked": true,
     "schema_version": 3,
     "solution": false,
     "task": false
    }
   },
   "source": [
    "In R/code cells, you can do (almost) anything that you can do in R, from basic computations to complex statistical modeling. \n",
    "\n",
    "#### Create an R code cell below this cell. Compute the natural log of e. You may have guessed that the right functions for this are `log()` and `exp()`. But with R, you don't have to guess. You can type `?? log` to get some general information about functions related to logarithms (the same applies to other concepts); if you type \"? X\" you will get information about the specific function X (e.g., try `? exp`). Often, a Google search is a really effective way to learn about R functions."
   ]
  },
  {
   "cell_type": "code",
   "execution_count": 47,
   "metadata": {
    "nbgrader": {
     "grade": true,
     "grade_id": "cell-0f095b08ef5c4662",
     "locked": false,
     "points": 0,
     "schema_version": 3,
     "solution": true,
     "task": false
    }
   },
   "outputs": [
    {
     "data": {
      "text/html": [
       "1"
      ],
      "text/latex": [
       "1"
      ],
      "text/markdown": [
       "1"
      ],
      "text/plain": [
       "[1] 1"
      ]
     },
     "metadata": {},
     "output_type": "display_data"
    }
   ],
   "source": [
    "log(exp(1))"
   ]
  },
  {
   "cell_type": "markdown",
   "metadata": {
    "nbgrader": {
     "grade": false,
     "grade_id": "cell-0b1500818db058b0",
     "locked": true,
     "schema_version": 3,
     "solution": false,
     "task": false
    }
   },
   "source": [
    "The function `c()` will allow you to create vectors (\"c\" for combine). \n",
    "\n",
    "#### In the cell below, create three vectors:\n",
    "\n",
    "1. a vector containing the numbers 1, 2, 5.3, 6, -2, 4;\n",
    "2. a vector containing the strings \"one\", \"two, and \"three\" (strings are formed in R by putting quotes around the words);\n",
    "3. a vector of logicals: `TRUE`, `TRUE`, `FALSE`, `TRUE`."
   ]
  },
  {
   "cell_type": "code",
   "execution_count": 3,
   "metadata": {
    "nbgrader": {
     "grade": true,
     "grade_id": "cell-01d39d3c98243ae2",
     "locked": false,
     "points": 0,
     "schema_version": 3,
     "solution": true,
     "task": false
    }
   },
   "outputs": [
    {
     "data": {
      "text/html": [
       "<ol class=list-inline>\n",
       "\t<li>1</li>\n",
       "\t<li>2</li>\n",
       "\t<li>5.3</li>\n",
       "\t<li>6</li>\n",
       "\t<li>-2</li>\n",
       "\t<li>4</li>\n",
       "</ol>\n"
      ],
      "text/latex": [
       "\\begin{enumerate*}\n",
       "\\item 1\n",
       "\\item 2\n",
       "\\item 5.3\n",
       "\\item 6\n",
       "\\item -2\n",
       "\\item 4\n",
       "\\end{enumerate*}\n"
      ],
      "text/markdown": [
       "1. 1\n",
       "2. 2\n",
       "3. 5.3\n",
       "4. 6\n",
       "5. -2\n",
       "6. 4\n",
       "\n",
       "\n"
      ],
      "text/plain": [
       "[1]  1.0  2.0  5.3  6.0 -2.0  4.0"
      ]
     },
     "metadata": {},
     "output_type": "display_data"
    },
    {
     "data": {
      "text/html": [
       "<ol class=list-inline>\n",
       "\t<li>'one'</li>\n",
       "\t<li>'two'</li>\n",
       "\t<li>'three'</li>\n",
       "</ol>\n"
      ],
      "text/latex": [
       "\\begin{enumerate*}\n",
       "\\item 'one'\n",
       "\\item 'two'\n",
       "\\item 'three'\n",
       "\\end{enumerate*}\n"
      ],
      "text/markdown": [
       "1. 'one'\n",
       "2. 'two'\n",
       "3. 'three'\n",
       "\n",
       "\n"
      ],
      "text/plain": [
       "[1] \"one\"   \"two\"   \"three\""
      ]
     },
     "metadata": {},
     "output_type": "display_data"
    },
    {
     "data": {
      "text/html": [
       "<ol class=list-inline>\n",
       "\t<li>TRUE</li>\n",
       "\t<li>TRUE</li>\n",
       "\t<li>FALSE</li>\n",
       "\t<li>TRUE</li>\n",
       "</ol>\n"
      ],
      "text/latex": [
       "\\begin{enumerate*}\n",
       "\\item TRUE\n",
       "\\item TRUE\n",
       "\\item FALSE\n",
       "\\item TRUE\n",
       "\\end{enumerate*}\n"
      ],
      "text/markdown": [
       "1. TRUE\n",
       "2. TRUE\n",
       "3. FALSE\n",
       "4. TRUE\n",
       "\n",
       "\n"
      ],
      "text/plain": [
       "[1]  TRUE  TRUE FALSE  TRUE"
      ]
     },
     "metadata": {},
     "output_type": "display_data"
    }
   ],
   "source": [
    "c(1, 2, 5.3, 6, -2, 4)\n",
    "c(\"one\", \"two\", \"three\")\n",
    "c(TRUE, TRUE, FALSE, TRUE)"
   ]
  },
  {
   "cell_type": "markdown",
   "metadata": {
    "nbgrader": {
     "grade": false,
     "grade_id": "cell-e64757656325b475",
     "locked": true,
     "schema_version": 3,
     "solution": false,
     "task": false
    }
   },
   "source": [
    "#### Next, type `seq(1,10)` in the R cell below. What does it do? What about `seq(1, 20, by = 2)`? `seq(10, 20, len = 100)`? Why are these convenient?"
   ]
  },
  {
   "cell_type": "code",
   "execution_count": 4,
   "metadata": {
    "nbgrader": {
     "grade": true,
     "grade_id": "cell-099a17eee4c21017",
     "locked": false,
     "points": 0,
     "schema_version": 3,
     "solution": true,
     "task": false
    }
   },
   "outputs": [
    {
     "data": {
      "text/html": [
       "<ol class=list-inline>\n",
       "\t<li>1</li>\n",
       "\t<li>2</li>\n",
       "\t<li>3</li>\n",
       "\t<li>4</li>\n",
       "\t<li>5</li>\n",
       "\t<li>6</li>\n",
       "\t<li>7</li>\n",
       "\t<li>8</li>\n",
       "\t<li>9</li>\n",
       "\t<li>10</li>\n",
       "</ol>\n"
      ],
      "text/latex": [
       "\\begin{enumerate*}\n",
       "\\item 1\n",
       "\\item 2\n",
       "\\item 3\n",
       "\\item 4\n",
       "\\item 5\n",
       "\\item 6\n",
       "\\item 7\n",
       "\\item 8\n",
       "\\item 9\n",
       "\\item 10\n",
       "\\end{enumerate*}\n"
      ],
      "text/markdown": [
       "1. 1\n",
       "2. 2\n",
       "3. 3\n",
       "4. 4\n",
       "5. 5\n",
       "6. 6\n",
       "7. 7\n",
       "8. 8\n",
       "9. 9\n",
       "10. 10\n",
       "\n",
       "\n"
      ],
      "text/plain": [
       " [1]  1  2  3  4  5  6  7  8  9 10"
      ]
     },
     "metadata": {},
     "output_type": "display_data"
    },
    {
     "data": {
      "text/html": [
       "<ol class=list-inline>\n",
       "\t<li>1</li>\n",
       "\t<li>2</li>\n",
       "\t<li>3</li>\n",
       "\t<li>4</li>\n",
       "\t<li>5</li>\n",
       "\t<li>6</li>\n",
       "\t<li>7</li>\n",
       "\t<li>8</li>\n",
       "\t<li>9</li>\n",
       "\t<li>10</li>\n",
       "</ol>\n"
      ],
      "text/latex": [
       "\\begin{enumerate*}\n",
       "\\item 1\n",
       "\\item 2\n",
       "\\item 3\n",
       "\\item 4\n",
       "\\item 5\n",
       "\\item 6\n",
       "\\item 7\n",
       "\\item 8\n",
       "\\item 9\n",
       "\\item 10\n",
       "\\end{enumerate*}\n"
      ],
      "text/markdown": [
       "1. 1\n",
       "2. 2\n",
       "3. 3\n",
       "4. 4\n",
       "5. 5\n",
       "6. 6\n",
       "7. 7\n",
       "8. 8\n",
       "9. 9\n",
       "10. 10\n",
       "\n",
       "\n"
      ],
      "text/plain": [
       " [1]  1  2  3  4  5  6  7  8  9 10"
      ]
     },
     "metadata": {},
     "output_type": "display_data"
    },
    {
     "data": {
      "text/html": [
       "<ol class=list-inline>\n",
       "\t<li>1</li>\n",
       "\t<li>3</li>\n",
       "\t<li>5</li>\n",
       "\t<li>7</li>\n",
       "\t<li>9</li>\n",
       "\t<li>11</li>\n",
       "\t<li>13</li>\n",
       "\t<li>15</li>\n",
       "\t<li>17</li>\n",
       "\t<li>19</li>\n",
       "</ol>\n"
      ],
      "text/latex": [
       "\\begin{enumerate*}\n",
       "\\item 1\n",
       "\\item 3\n",
       "\\item 5\n",
       "\\item 7\n",
       "\\item 9\n",
       "\\item 11\n",
       "\\item 13\n",
       "\\item 15\n",
       "\\item 17\n",
       "\\item 19\n",
       "\\end{enumerate*}\n"
      ],
      "text/markdown": [
       "1. 1\n",
       "2. 3\n",
       "3. 5\n",
       "4. 7\n",
       "5. 9\n",
       "6. 11\n",
       "7. 13\n",
       "8. 15\n",
       "9. 17\n",
       "10. 19\n",
       "\n",
       "\n"
      ],
      "text/plain": [
       " [1]  1  3  5  7  9 11 13 15 17 19"
      ]
     },
     "metadata": {},
     "output_type": "display_data"
    },
    {
     "data": {
      "text/html": [
       "<ol class=list-inline>\n",
       "\t<li>10</li>\n",
       "\t<li>10.1010101010101</li>\n",
       "\t<li>10.2020202020202</li>\n",
       "\t<li>10.3030303030303</li>\n",
       "\t<li>10.4040404040404</li>\n",
       "\t<li>10.5050505050505</li>\n",
       "\t<li>10.6060606060606</li>\n",
       "\t<li>10.7070707070707</li>\n",
       "\t<li>10.8080808080808</li>\n",
       "\t<li>10.9090909090909</li>\n",
       "\t<li>11.010101010101</li>\n",
       "\t<li>11.1111111111111</li>\n",
       "\t<li>11.2121212121212</li>\n",
       "\t<li>11.3131313131313</li>\n",
       "\t<li>11.4141414141414</li>\n",
       "\t<li>11.5151515151515</li>\n",
       "\t<li>11.6161616161616</li>\n",
       "\t<li>11.7171717171717</li>\n",
       "\t<li>11.8181818181818</li>\n",
       "\t<li>11.9191919191919</li>\n",
       "\t<li>12.020202020202</li>\n",
       "\t<li>12.1212121212121</li>\n",
       "\t<li>12.2222222222222</li>\n",
       "\t<li>12.3232323232323</li>\n",
       "\t<li>12.4242424242424</li>\n",
       "\t<li>12.5252525252525</li>\n",
       "\t<li>12.6262626262626</li>\n",
       "\t<li>12.7272727272727</li>\n",
       "\t<li>12.8282828282828</li>\n",
       "\t<li>12.9292929292929</li>\n",
       "\t<li>13.030303030303</li>\n",
       "\t<li>13.1313131313131</li>\n",
       "\t<li>13.2323232323232</li>\n",
       "\t<li>13.3333333333333</li>\n",
       "\t<li>13.4343434343434</li>\n",
       "\t<li>13.5353535353535</li>\n",
       "\t<li>13.6363636363636</li>\n",
       "\t<li>13.7373737373737</li>\n",
       "\t<li>13.8383838383838</li>\n",
       "\t<li>13.9393939393939</li>\n",
       "\t<li>14.040404040404</li>\n",
       "\t<li>14.1414141414141</li>\n",
       "\t<li>14.2424242424242</li>\n",
       "\t<li>14.3434343434343</li>\n",
       "\t<li>14.4444444444444</li>\n",
       "\t<li>14.5454545454545</li>\n",
       "\t<li>14.6464646464646</li>\n",
       "\t<li>14.7474747474747</li>\n",
       "\t<li>14.8484848484848</li>\n",
       "\t<li>14.9494949494949</li>\n",
       "\t<li>15.0505050505051</li>\n",
       "\t<li>15.1515151515152</li>\n",
       "\t<li>15.2525252525253</li>\n",
       "\t<li>15.3535353535354</li>\n",
       "\t<li>15.4545454545455</li>\n",
       "\t<li>15.5555555555556</li>\n",
       "\t<li>15.6565656565657</li>\n",
       "\t<li>15.7575757575758</li>\n",
       "\t<li>15.8585858585859</li>\n",
       "\t<li>15.959595959596</li>\n",
       "\t<li>16.0606060606061</li>\n",
       "\t<li>16.1616161616162</li>\n",
       "\t<li>16.2626262626263</li>\n",
       "\t<li>16.3636363636364</li>\n",
       "\t<li>16.4646464646465</li>\n",
       "\t<li>16.5656565656566</li>\n",
       "\t<li>16.6666666666667</li>\n",
       "\t<li>16.7676767676768</li>\n",
       "\t<li>16.8686868686869</li>\n",
       "\t<li>16.969696969697</li>\n",
       "\t<li>17.0707070707071</li>\n",
       "\t<li>17.1717171717172</li>\n",
       "\t<li>17.2727272727273</li>\n",
       "\t<li>17.3737373737374</li>\n",
       "\t<li>17.4747474747475</li>\n",
       "\t<li>17.5757575757576</li>\n",
       "\t<li>17.6767676767677</li>\n",
       "\t<li>17.7777777777778</li>\n",
       "\t<li>17.8787878787879</li>\n",
       "\t<li>17.979797979798</li>\n",
       "\t<li>18.0808080808081</li>\n",
       "\t<li>18.1818181818182</li>\n",
       "\t<li>18.2828282828283</li>\n",
       "\t<li>18.3838383838384</li>\n",
       "\t<li>18.4848484848485</li>\n",
       "\t<li>18.5858585858586</li>\n",
       "\t<li>18.6868686868687</li>\n",
       "\t<li>18.7878787878788</li>\n",
       "\t<li>18.8888888888889</li>\n",
       "\t<li>18.989898989899</li>\n",
       "\t<li>19.0909090909091</li>\n",
       "\t<li>19.1919191919192</li>\n",
       "\t<li>19.2929292929293</li>\n",
       "\t<li>19.3939393939394</li>\n",
       "\t<li>19.4949494949495</li>\n",
       "\t<li>19.5959595959596</li>\n",
       "\t<li>19.6969696969697</li>\n",
       "\t<li>19.7979797979798</li>\n",
       "\t<li>19.8989898989899</li>\n",
       "\t<li>20</li>\n",
       "</ol>\n"
      ],
      "text/latex": [
       "\\begin{enumerate*}\n",
       "\\item 10\n",
       "\\item 10.1010101010101\n",
       "\\item 10.2020202020202\n",
       "\\item 10.3030303030303\n",
       "\\item 10.4040404040404\n",
       "\\item 10.5050505050505\n",
       "\\item 10.6060606060606\n",
       "\\item 10.7070707070707\n",
       "\\item 10.8080808080808\n",
       "\\item 10.9090909090909\n",
       "\\item 11.010101010101\n",
       "\\item 11.1111111111111\n",
       "\\item 11.2121212121212\n",
       "\\item 11.3131313131313\n",
       "\\item 11.4141414141414\n",
       "\\item 11.5151515151515\n",
       "\\item 11.6161616161616\n",
       "\\item 11.7171717171717\n",
       "\\item 11.8181818181818\n",
       "\\item 11.9191919191919\n",
       "\\item 12.020202020202\n",
       "\\item 12.1212121212121\n",
       "\\item 12.2222222222222\n",
       "\\item 12.3232323232323\n",
       "\\item 12.4242424242424\n",
       "\\item 12.5252525252525\n",
       "\\item 12.6262626262626\n",
       "\\item 12.7272727272727\n",
       "\\item 12.8282828282828\n",
       "\\item 12.9292929292929\n",
       "\\item 13.030303030303\n",
       "\\item 13.1313131313131\n",
       "\\item 13.2323232323232\n",
       "\\item 13.3333333333333\n",
       "\\item 13.4343434343434\n",
       "\\item 13.5353535353535\n",
       "\\item 13.6363636363636\n",
       "\\item 13.7373737373737\n",
       "\\item 13.8383838383838\n",
       "\\item 13.9393939393939\n",
       "\\item 14.040404040404\n",
       "\\item 14.1414141414141\n",
       "\\item 14.2424242424242\n",
       "\\item 14.3434343434343\n",
       "\\item 14.4444444444444\n",
       "\\item 14.5454545454545\n",
       "\\item 14.6464646464646\n",
       "\\item 14.7474747474747\n",
       "\\item 14.8484848484848\n",
       "\\item 14.9494949494949\n",
       "\\item 15.0505050505051\n",
       "\\item 15.1515151515152\n",
       "\\item 15.2525252525253\n",
       "\\item 15.3535353535354\n",
       "\\item 15.4545454545455\n",
       "\\item 15.5555555555556\n",
       "\\item 15.6565656565657\n",
       "\\item 15.7575757575758\n",
       "\\item 15.8585858585859\n",
       "\\item 15.959595959596\n",
       "\\item 16.0606060606061\n",
       "\\item 16.1616161616162\n",
       "\\item 16.2626262626263\n",
       "\\item 16.3636363636364\n",
       "\\item 16.4646464646465\n",
       "\\item 16.5656565656566\n",
       "\\item 16.6666666666667\n",
       "\\item 16.7676767676768\n",
       "\\item 16.8686868686869\n",
       "\\item 16.969696969697\n",
       "\\item 17.0707070707071\n",
       "\\item 17.1717171717172\n",
       "\\item 17.2727272727273\n",
       "\\item 17.3737373737374\n",
       "\\item 17.4747474747475\n",
       "\\item 17.5757575757576\n",
       "\\item 17.6767676767677\n",
       "\\item 17.7777777777778\n",
       "\\item 17.8787878787879\n",
       "\\item 17.979797979798\n",
       "\\item 18.0808080808081\n",
       "\\item 18.1818181818182\n",
       "\\item 18.2828282828283\n",
       "\\item 18.3838383838384\n",
       "\\item 18.4848484848485\n",
       "\\item 18.5858585858586\n",
       "\\item 18.6868686868687\n",
       "\\item 18.7878787878788\n",
       "\\item 18.8888888888889\n",
       "\\item 18.989898989899\n",
       "\\item 19.0909090909091\n",
       "\\item 19.1919191919192\n",
       "\\item 19.2929292929293\n",
       "\\item 19.3939393939394\n",
       "\\item 19.4949494949495\n",
       "\\item 19.5959595959596\n",
       "\\item 19.6969696969697\n",
       "\\item 19.7979797979798\n",
       "\\item 19.8989898989899\n",
       "\\item 20\n",
       "\\end{enumerate*}\n"
      ],
      "text/markdown": [
       "1. 10\n",
       "2. 10.1010101010101\n",
       "3. 10.2020202020202\n",
       "4. 10.3030303030303\n",
       "5. 10.4040404040404\n",
       "6. 10.5050505050505\n",
       "7. 10.6060606060606\n",
       "8. 10.7070707070707\n",
       "9. 10.8080808080808\n",
       "10. 10.9090909090909\n",
       "11. 11.010101010101\n",
       "12. 11.1111111111111\n",
       "13. 11.2121212121212\n",
       "14. 11.3131313131313\n",
       "15. 11.4141414141414\n",
       "16. 11.5151515151515\n",
       "17. 11.6161616161616\n",
       "18. 11.7171717171717\n",
       "19. 11.8181818181818\n",
       "20. 11.9191919191919\n",
       "21. 12.020202020202\n",
       "22. 12.1212121212121\n",
       "23. 12.2222222222222\n",
       "24. 12.3232323232323\n",
       "25. 12.4242424242424\n",
       "26. 12.5252525252525\n",
       "27. 12.6262626262626\n",
       "28. 12.7272727272727\n",
       "29. 12.8282828282828\n",
       "30. 12.9292929292929\n",
       "31. 13.030303030303\n",
       "32. 13.1313131313131\n",
       "33. 13.2323232323232\n",
       "34. 13.3333333333333\n",
       "35. 13.4343434343434\n",
       "36. 13.5353535353535\n",
       "37. 13.6363636363636\n",
       "38. 13.7373737373737\n",
       "39. 13.8383838383838\n",
       "40. 13.9393939393939\n",
       "41. 14.040404040404\n",
       "42. 14.1414141414141\n",
       "43. 14.2424242424242\n",
       "44. 14.3434343434343\n",
       "45. 14.4444444444444\n",
       "46. 14.5454545454545\n",
       "47. 14.6464646464646\n",
       "48. 14.7474747474747\n",
       "49. 14.8484848484848\n",
       "50. 14.9494949494949\n",
       "51. 15.0505050505051\n",
       "52. 15.1515151515152\n",
       "53. 15.2525252525253\n",
       "54. 15.3535353535354\n",
       "55. 15.4545454545455\n",
       "56. 15.5555555555556\n",
       "57. 15.6565656565657\n",
       "58. 15.7575757575758\n",
       "59. 15.8585858585859\n",
       "60. 15.959595959596\n",
       "61. 16.0606060606061\n",
       "62. 16.1616161616162\n",
       "63. 16.2626262626263\n",
       "64. 16.3636363636364\n",
       "65. 16.4646464646465\n",
       "66. 16.5656565656566\n",
       "67. 16.6666666666667\n",
       "68. 16.7676767676768\n",
       "69. 16.8686868686869\n",
       "70. 16.969696969697\n",
       "71. 17.0707070707071\n",
       "72. 17.1717171717172\n",
       "73. 17.2727272727273\n",
       "74. 17.3737373737374\n",
       "75. 17.4747474747475\n",
       "76. 17.5757575757576\n",
       "77. 17.6767676767677\n",
       "78. 17.7777777777778\n",
       "79. 17.8787878787879\n",
       "80. 17.979797979798\n",
       "81. 18.0808080808081\n",
       "82. 18.1818181818182\n",
       "83. 18.2828282828283\n",
       "84. 18.3838383838384\n",
       "85. 18.4848484848485\n",
       "86. 18.5858585858586\n",
       "87. 18.6868686868687\n",
       "88. 18.7878787878788\n",
       "89. 18.8888888888889\n",
       "90. 18.989898989899\n",
       "91. 19.0909090909091\n",
       "92. 19.1919191919192\n",
       "93. 19.2929292929293\n",
       "94. 19.3939393939394\n",
       "95. 19.4949494949495\n",
       "96. 19.5959595959596\n",
       "97. 19.6969696969697\n",
       "98. 19.7979797979798\n",
       "99. 19.8989898989899\n",
       "100. 20\n",
       "\n",
       "\n"
      ],
      "text/plain": [
       "  [1] 10.00000 10.10101 10.20202 10.30303 10.40404 10.50505 10.60606 10.70707\n",
       "  [9] 10.80808 10.90909 11.01010 11.11111 11.21212 11.31313 11.41414 11.51515\n",
       " [17] 11.61616 11.71717 11.81818 11.91919 12.02020 12.12121 12.22222 12.32323\n",
       " [25] 12.42424 12.52525 12.62626 12.72727 12.82828 12.92929 13.03030 13.13131\n",
       " [33] 13.23232 13.33333 13.43434 13.53535 13.63636 13.73737 13.83838 13.93939\n",
       " [41] 14.04040 14.14141 14.24242 14.34343 14.44444 14.54545 14.64646 14.74747\n",
       " [49] 14.84848 14.94949 15.05051 15.15152 15.25253 15.35354 15.45455 15.55556\n",
       " [57] 15.65657 15.75758 15.85859 15.95960 16.06061 16.16162 16.26263 16.36364\n",
       " [65] 16.46465 16.56566 16.66667 16.76768 16.86869 16.96970 17.07071 17.17172\n",
       " [73] 17.27273 17.37374 17.47475 17.57576 17.67677 17.77778 17.87879 17.97980\n",
       " [81] 18.08081 18.18182 18.28283 18.38384 18.48485 18.58586 18.68687 18.78788\n",
       " [89] 18.88889 18.98990 19.09091 19.19192 19.29293 19.39394 19.49495 19.59596\n",
       " [97] 19.69697 19.79798 19.89899 20.00000"
      ]
     },
     "metadata": {},
     "output_type": "display_data"
    }
   ],
   "source": [
    "seq(1, 10)\n",
    "\n",
    "1:10 #same as seq(1,10)\n",
    "\n",
    "seq(1, 20, by = 2) #sequence of numbers from 1 to 20 in increments of 2\n",
    "\n",
    "seq(10, 20, len = 100) #sequence of numbers from 10 to 20 of length 100"
   ]
  },
  {
   "cell_type": "markdown",
   "metadata": {
    "nbgrader": {
     "grade": false,
     "grade_id": "cell-d0f131df5c28546e",
     "locked": true,
     "schema_version": 3,
     "solution": false,
     "task": false
    }
   },
   "source": [
    "#### What does the `rep()` function do? This function can take in several arguments. To see what they are, use the help file! Explore the arguments `times` and `each`. What do they do?"
   ]
  },
  {
   "cell_type": "code",
   "execution_count": 5,
   "metadata": {
    "nbgrader": {
     "grade": true,
     "grade_id": "cell-2c38a58722e63c68",
     "locked": false,
     "points": 0,
     "schema_version": 3,
     "solution": true,
     "task": false
    }
   },
   "outputs": [
    {
     "data": {
      "text/html": [
       "<ol class=list-inline>\n",
       "\t<li>1</li>\n",
       "\t<li>2</li>\n",
       "\t<li>3</li>\n",
       "\t<li>1</li>\n",
       "\t<li>2</li>\n",
       "\t<li>3</li>\n",
       "\t<li>1</li>\n",
       "\t<li>2</li>\n",
       "\t<li>3</li>\n",
       "</ol>\n"
      ],
      "text/latex": [
       "\\begin{enumerate*}\n",
       "\\item 1\n",
       "\\item 2\n",
       "\\item 3\n",
       "\\item 1\n",
       "\\item 2\n",
       "\\item 3\n",
       "\\item 1\n",
       "\\item 2\n",
       "\\item 3\n",
       "\\end{enumerate*}\n"
      ],
      "text/markdown": [
       "1. 1\n",
       "2. 2\n",
       "3. 3\n",
       "4. 1\n",
       "5. 2\n",
       "6. 3\n",
       "7. 1\n",
       "8. 2\n",
       "9. 3\n",
       "\n",
       "\n"
      ],
      "text/plain": [
       "[1] 1 2 3 1 2 3 1 2 3"
      ]
     },
     "metadata": {},
     "output_type": "display_data"
    },
    {
     "data": {
      "text/html": [
       "<ol class=list-inline>\n",
       "\t<li>'trt1'</li>\n",
       "\t<li>'trt2'</li>\n",
       "\t<li>'trt2'</li>\n",
       "\t<li>'trt3'</li>\n",
       "\t<li>'trt3'</li>\n",
       "\t<li>'trt3'</li>\n",
       "</ol>\n"
      ],
      "text/latex": [
       "\\begin{enumerate*}\n",
       "\\item 'trt1'\n",
       "\\item 'trt2'\n",
       "\\item 'trt2'\n",
       "\\item 'trt3'\n",
       "\\item 'trt3'\n",
       "\\item 'trt3'\n",
       "\\end{enumerate*}\n"
      ],
      "text/markdown": [
       "1. 'trt1'\n",
       "2. 'trt2'\n",
       "3. 'trt2'\n",
       "4. 'trt3'\n",
       "5. 'trt3'\n",
       "6. 'trt3'\n",
       "\n",
       "\n"
      ],
      "text/plain": [
       "[1] \"trt1\" \"trt2\" \"trt2\" \"trt3\" \"trt3\" \"trt3\""
      ]
     },
     "metadata": {},
     "output_type": "display_data"
    },
    {
     "data": {
      "text/html": [
       "<ol class=list-inline>\n",
       "\t<li>1</li>\n",
       "\t<li>1</li>\n",
       "\t<li>1</li>\n",
       "\t<li>2</li>\n",
       "\t<li>2</li>\n",
       "\t<li>2</li>\n",
       "\t<li>3</li>\n",
       "\t<li>3</li>\n",
       "\t<li>3</li>\n",
       "</ol>\n"
      ],
      "text/latex": [
       "\\begin{enumerate*}\n",
       "\\item 1\n",
       "\\item 1\n",
       "\\item 1\n",
       "\\item 2\n",
       "\\item 2\n",
       "\\item 2\n",
       "\\item 3\n",
       "\\item 3\n",
       "\\item 3\n",
       "\\end{enumerate*}\n"
      ],
      "text/markdown": [
       "1. 1\n",
       "2. 1\n",
       "3. 1\n",
       "4. 2\n",
       "5. 2\n",
       "6. 2\n",
       "7. 3\n",
       "8. 3\n",
       "9. 3\n",
       "\n",
       "\n"
      ],
      "text/plain": [
       "[1] 1 1 1 2 2 2 3 3 3"
      ]
     },
     "metadata": {},
     "output_type": "display_data"
    }
   ],
   "source": [
    "###Creating vectors using rep\n",
    "#repeat the vector 1:3 three times\n",
    "rep(1:3, times = 3)\n",
    "#trt1 once, trt2 twice, trt3 thrice\n",
    "rep(c(\"trt1\", \"trt2\", \"trt3\"), times = 1:3)\n",
    "# repeat 1, 2, 3 3 times each\n",
    "rep(1:3, each = 3)"
   ]
  },
  {
   "cell_type": "markdown",
   "metadata": {
    "nbgrader": {
     "grade": false,
     "grade_id": "cell-c19db1161fe38f54",
     "locked": true,
     "schema_version": 3,
     "solution": false,
     "task": false
    }
   },
   "source": [
    "You can store vectors in R using ${\\tt =}$ or ${\\tt <-}$. \n",
    "\n",
    "#### Store the numbers 1 through 5 in a vector `v1`. Create another vector, `v2`, and join it together in a new vector, `new`.\n",
    "\n",
    "*Note: This will be an autograded answer. The autograder will check whether you store the correct values in `v1`*."
   ]
  },
  {
   "cell_type": "code",
   "execution_count": 6,
   "metadata": {
    "nbgrader": {
     "grade": false,
     "grade_id": "cell-12f79b87845bfa3f",
     "locked": false,
     "schema_version": 3,
     "solution": true,
     "task": false
    }
   },
   "outputs": [
    {
     "data": {
      "text/html": [
       "<ol class=list-inline>\n",
       "\t<li>1</li>\n",
       "\t<li>2</li>\n",
       "\t<li>3</li>\n",
       "\t<li>4</li>\n",
       "\t<li>5</li>\n",
       "</ol>\n"
      ],
      "text/latex": [
       "\\begin{enumerate*}\n",
       "\\item 1\n",
       "\\item 2\n",
       "\\item 3\n",
       "\\item 4\n",
       "\\item 5\n",
       "\\end{enumerate*}\n"
      ],
      "text/markdown": [
       "1. 1\n",
       "2. 2\n",
       "3. 3\n",
       "4. 4\n",
       "5. 5\n",
       "\n",
       "\n"
      ],
      "text/plain": [
       "[1] 1 2 3 4 5"
      ]
     },
     "metadata": {},
     "output_type": "display_data"
    },
    {
     "data": {
      "text/html": [
       "<ol class=list-inline>\n",
       "\t<li>1</li>\n",
       "\t<li>2</li>\n",
       "\t<li>3</li>\n",
       "\t<li>4</li>\n",
       "\t<li>5</li>\n",
       "\t<li>9</li>\n",
       "\t<li>10</li>\n",
       "\t<li>1</li>\n",
       "</ol>\n"
      ],
      "text/latex": [
       "\\begin{enumerate*}\n",
       "\\item 1\n",
       "\\item 2\n",
       "\\item 3\n",
       "\\item 4\n",
       "\\item 5\n",
       "\\item 9\n",
       "\\item 10\n",
       "\\item 1\n",
       "\\end{enumerate*}\n"
      ],
      "text/markdown": [
       "1. 1\n",
       "2. 2\n",
       "3. 3\n",
       "4. 4\n",
       "5. 5\n",
       "6. 9\n",
       "7. 10\n",
       "8. 1\n",
       "\n",
       "\n"
      ],
      "text/plain": [
       "[1]  1  2  3  4  5  9 10  1"
      ]
     },
     "metadata": {},
     "output_type": "display_data"
    }
   ],
   "source": [
    "#assign 1, 2, 3, 4, 5 to the variable v1\n",
    "### BEGIN SOLUTION HERE\n",
    "v1 = 1:5;\n",
    "### END SOLUTION HERE\n",
    "\n",
    "#accessing data stored in variable v1\n",
    "v1\n",
    "#create two vectors, then join them together in a new vector\n",
    "v2 = c(9, 10, 1)\n",
    "new = c(v1, v2)\n",
    "new"
   ]
  },
  {
   "cell_type": "code",
   "execution_count": 7,
   "metadata": {
    "nbgrader": {
     "grade": true,
     "grade_id": "cell-1d076232e48b3d64",
     "locked": true,
     "points": 1,
     "schema_version": 3,
     "solution": false,
     "task": false
    }
   },
   "outputs": [],
   "source": [
    "# Test Cell\n",
    "### BEGIN HIDDEN TESTS\n",
    "test_that(\"Is v1 correct?\", {expect_equal(1:5, v1)})\n",
    "### END HIDDEN TESTS"
   ]
  },
  {
   "cell_type": "markdown",
   "metadata": {
    "nbgrader": {
     "grade": false,
     "grade_id": "cell-7dd455f2c87eb94f",
     "locked": true,
     "schema_version": 3,
     "solution": false,
     "task": false
    }
   },
   "source": [
    "Factors, also known as categorical/qualitative variables, are important in statistics. \"Shoe color\" (Black, Brown, etc.), \"drink size\" (S, M, L) and \"espresso roast\" (Light, Medium, Dark) are examples of factors. Below, in `f1`, create a factor with six groups, labeled 1 through 6, and one unit in each group, using the `factor()` function; note that R treats these values as factors; so, for example, you can't multiply `f1` by a number. Try multiplying `f1` by 3..."
   ]
  },
  {
   "cell_type": "code",
   "execution_count": 48,
   "metadata": {
    "nbgrader": {
     "grade": false,
     "grade_id": "cell-5df81cab1c31eddd",
     "locked": false,
     "schema_version": 3,
     "solution": true,
     "task": false
    }
   },
   "outputs": [
    {
     "data": {
      "text/html": [
       "<ol class=list-inline>\n",
       "\t<li>1</li>\n",
       "\t<li>2</li>\n",
       "\t<li>3</li>\n",
       "\t<li>4</li>\n",
       "\t<li>5</li>\n",
       "\t<li>6</li>\n",
       "\t<li>1</li>\n",
       "\t<li>2</li>\n",
       "\t<li>3</li>\n",
       "\t<li>4</li>\n",
       "\t<li>5</li>\n",
       "\t<li>6</li>\n",
       "\t<li>1</li>\n",
       "\t<li>2</li>\n",
       "\t<li>3</li>\n",
       "\t<li>4</li>\n",
       "\t<li>5</li>\n",
       "\t<li>6</li>\n",
       "</ol>\n",
       "\n",
       "<details>\n",
       "\t<summary style=display:list-item;cursor:pointer>\n",
       "\t\t<strong>Levels</strong>:\n",
       "\t</summary>\n",
       "\t<ol class=list-inline>\n",
       "\t\t<li>'1'</li>\n",
       "\t\t<li>'2'</li>\n",
       "\t\t<li>'3'</li>\n",
       "\t\t<li>'4'</li>\n",
       "\t\t<li>'5'</li>\n",
       "\t\t<li>'6'</li>\n",
       "\t</ol>\n",
       "</details>"
      ],
      "text/latex": [
       "\\begin{enumerate*}\n",
       "\\item 1\n",
       "\\item 2\n",
       "\\item 3\n",
       "\\item 4\n",
       "\\item 5\n",
       "\\item 6\n",
       "\\item 1\n",
       "\\item 2\n",
       "\\item 3\n",
       "\\item 4\n",
       "\\item 5\n",
       "\\item 6\n",
       "\\item 1\n",
       "\\item 2\n",
       "\\item 3\n",
       "\\item 4\n",
       "\\item 5\n",
       "\\item 6\n",
       "\\end{enumerate*}\n",
       "\n",
       "\\emph{Levels}: \\begin{enumerate*}\n",
       "\\item '1'\n",
       "\\item '2'\n",
       "\\item '3'\n",
       "\\item '4'\n",
       "\\item '5'\n",
       "\\item '6'\n",
       "\\end{enumerate*}\n"
      ],
      "text/markdown": [
       "1. 1\n",
       "2. 2\n",
       "3. 3\n",
       "4. 4\n",
       "5. 5\n",
       "6. 6\n",
       "7. 1\n",
       "8. 2\n",
       "9. 3\n",
       "10. 4\n",
       "11. 5\n",
       "12. 6\n",
       "13. 1\n",
       "14. 2\n",
       "15. 3\n",
       "16. 4\n",
       "17. 5\n",
       "18. 6\n",
       "\n",
       "\n",
       "\n",
       "**Levels**: 1. '1'\n",
       "2. '2'\n",
       "3. '3'\n",
       "4. '4'\n",
       "5. '5'\n",
       "6. '6'\n",
       "\n",
       "\n"
      ],
      "text/plain": [
       " [1] 1 2 3 4 5 6 1 2 3 4 5 6 1 2 3 4 5 6\n",
       "Levels: 1 2 3 4 5 6"
      ]
     },
     "metadata": {},
     "output_type": "display_data"
    },
    {
     "data": {
      "text/html": [
       "<ol class=list-inline>\n",
       "\t<li>a</li>\n",
       "\t<li>7</li>\n",
       "\t<li>blue</li>\n",
       "\t<li>blue</li>\n",
       "</ol>\n",
       "\n",
       "<details>\n",
       "\t<summary style=display:list-item;cursor:pointer>\n",
       "\t\t<strong>Levels</strong>:\n",
       "\t</summary>\n",
       "\t<ol class=list-inline>\n",
       "\t\t<li>'7'</li>\n",
       "\t\t<li>'a'</li>\n",
       "\t\t<li>'blue'</li>\n",
       "\t</ol>\n",
       "</details>"
      ],
      "text/latex": [
       "\\begin{enumerate*}\n",
       "\\item a\n",
       "\\item 7\n",
       "\\item blue\n",
       "\\item blue\n",
       "\\end{enumerate*}\n",
       "\n",
       "\\emph{Levels}: \\begin{enumerate*}\n",
       "\\item '7'\n",
       "\\item 'a'\n",
       "\\item 'blue'\n",
       "\\end{enumerate*}\n"
      ],
      "text/markdown": [
       "1. a\n",
       "2. 7\n",
       "3. blue\n",
       "4. blue\n",
       "\n",
       "\n",
       "\n",
       "**Levels**: 1. '7'\n",
       "2. 'a'\n",
       "3. 'blue'\n",
       "\n",
       "\n"
      ],
      "text/plain": [
       "[1] a    7    blue blue\n",
       "Levels: 7 a blue"
      ]
     },
     "metadata": {},
     "output_type": "display_data"
    },
    {
     "name": "stderr",
     "output_type": "stream",
     "text": [
      "Warning message in Ops.factor(f1, 3):\n",
      "“‘*’ not meaningful for factors”"
     ]
    },
    {
     "data": {
      "text/html": [
       "<ol class=list-inline>\n",
       "\t<li>&lt;NA&gt;</li>\n",
       "\t<li>&lt;NA&gt;</li>\n",
       "\t<li>&lt;NA&gt;</li>\n",
       "\t<li>&lt;NA&gt;</li>\n",
       "\t<li>&lt;NA&gt;</li>\n",
       "\t<li>&lt;NA&gt;</li>\n",
       "\t<li>&lt;NA&gt;</li>\n",
       "\t<li>&lt;NA&gt;</li>\n",
       "\t<li>&lt;NA&gt;</li>\n",
       "\t<li>&lt;NA&gt;</li>\n",
       "\t<li>&lt;NA&gt;</li>\n",
       "\t<li>&lt;NA&gt;</li>\n",
       "\t<li>&lt;NA&gt;</li>\n",
       "\t<li>&lt;NA&gt;</li>\n",
       "\t<li>&lt;NA&gt;</li>\n",
       "\t<li>&lt;NA&gt;</li>\n",
       "\t<li>&lt;NA&gt;</li>\n",
       "\t<li>&lt;NA&gt;</li>\n",
       "</ol>\n"
      ],
      "text/latex": [
       "\\begin{enumerate*}\n",
       "\\item <NA>\n",
       "\\item <NA>\n",
       "\\item <NA>\n",
       "\\item <NA>\n",
       "\\item <NA>\n",
       "\\item <NA>\n",
       "\\item <NA>\n",
       "\\item <NA>\n",
       "\\item <NA>\n",
       "\\item <NA>\n",
       "\\item <NA>\n",
       "\\item <NA>\n",
       "\\item <NA>\n",
       "\\item <NA>\n",
       "\\item <NA>\n",
       "\\item <NA>\n",
       "\\item <NA>\n",
       "\\item <NA>\n",
       "\\end{enumerate*}\n"
      ],
      "text/markdown": [
       "1. &lt;NA&gt;\n",
       "2. &lt;NA&gt;\n",
       "3. &lt;NA&gt;\n",
       "4. &lt;NA&gt;\n",
       "5. &lt;NA&gt;\n",
       "6. &lt;NA&gt;\n",
       "7. &lt;NA&gt;\n",
       "8. &lt;NA&gt;\n",
       "9. &lt;NA&gt;\n",
       "10. &lt;NA&gt;\n",
       "11. &lt;NA&gt;\n",
       "12. &lt;NA&gt;\n",
       "13. &lt;NA&gt;\n",
       "14. &lt;NA&gt;\n",
       "15. &lt;NA&gt;\n",
       "16. &lt;NA&gt;\n",
       "17. &lt;NA&gt;\n",
       "18. &lt;NA&gt;\n",
       "\n",
       "\n"
      ],
      "text/plain": [
       " [1] NA NA NA NA NA NA NA NA NA NA NA NA NA NA NA NA NA NA"
      ]
     },
     "metadata": {},
     "output_type": "display_data"
    }
   ],
   "source": [
    "### BEGIN SOLUTION HERE\n",
    "f1 = factor(1:6)\n",
    "### END SOLUTION HERE\n",
    "\n",
    "f1\n",
    "f2 = factor(c(\"a\",7,\"blue\", \"blue\"))\n",
    "f2\n",
    "\n",
    "f1*3"
   ]
  },
  {
   "cell_type": "code",
   "execution_count": 9,
   "metadata": {
    "nbgrader": {
     "grade": true,
     "grade_id": "cell-778f6a3767007501",
     "locked": true,
     "points": 1,
     "schema_version": 3,
     "solution": false,
     "task": false
    }
   },
   "outputs": [],
   "source": [
    "# Test Cell\n",
    "### BEGIN HIDDEN TESTS\n",
    "test_that(\"Is f1 a factor?\", {expect_is(f1, \"factor\")})\n",
    "test_that(\"Is f1 correct?\", {expect_equal(factor(1:6), f1)})\n",
    "### END HIDDEN TESTS"
   ]
  },
  {
   "cell_type": "markdown",
   "metadata": {
    "nbgrader": {
     "grade": false,
     "grade_id": "cell-a0efddce3ba47f00",
     "locked": true,
     "schema_version": 3,
     "solution": false,
     "task": false
    }
   },
   "source": [
    "#### In the code cell below, I've written several commonly used functions. Explore. Change/add some arguments. See the power of R! \n",
    "\n",
    "Note that the first function creates (pseudo) random numbers from a normal distribution. Don't worry if you don't know what that is yet; we'll learn about it. But R can generate random numbers...that's cool!"
   ]
  },
  {
   "cell_type": "code",
   "execution_count": 10,
   "metadata": {
    "scrolled": false
   },
   "outputs": [
    {
     "data": {
      "text/html": [
       "50"
      ],
      "text/latex": [
       "50"
      ],
      "text/markdown": [
       "50"
      ],
      "text/plain": [
       "[1] 50"
      ]
     },
     "metadata": {},
     "output_type": "display_data"
    },
    {
     "data": {
      "text/html": [
       "242.125861452462"
      ],
      "text/latex": [
       "242.125861452462"
      ],
      "text/markdown": [
       "242.125861452462"
      ],
      "text/plain": [
       "[1] 242.1259"
      ]
     },
     "metadata": {},
     "output_type": "display_data"
    },
    {
     "data": {
      "text/html": [
       "4.84251722904923"
      ],
      "text/latex": [
       "4.84251722904923"
      ],
      "text/markdown": [
       "4.84251722904923"
      ],
      "text/plain": [
       "[1] 4.842517"
      ]
     },
     "metadata": {},
     "output_type": "display_data"
    },
    {
     "data": {
      "text/html": [
       "0.933763093440626"
      ],
      "text/latex": [
       "0.933763093440626"
      ],
      "text/markdown": [
       "0.933763093440626"
      ],
      "text/plain": [
       "[1] 0.9337631"
      ]
     },
     "metadata": {},
     "output_type": "display_data"
    },
    {
     "data": {
      "text/html": [
       "0.966314179467851"
      ],
      "text/latex": [
       "0.966314179467851"
      ],
      "text/markdown": [
       "0.966314179467851"
      ],
      "text/plain": [
       "[1] 0.9663142"
      ]
     },
     "metadata": {},
     "output_type": "display_data"
    },
    {
     "data": {
      "text/html": [
       "4.8712752772014"
      ],
      "text/latex": [
       "4.8712752772014"
      ],
      "text/markdown": [
       "4.8712752772014"
      ],
      "text/plain": [
       "[1] 4.871275"
      ]
     },
     "metadata": {},
     "output_type": "display_data"
    },
    {
     "data": {
      "text/html": [
       "<ol class=list-inline>\n",
       "\t<li>2.9809922881566</li>\n",
       "\t<li>7.58357006042365</li>\n",
       "</ol>\n"
      ],
      "text/latex": [
       "\\begin{enumerate*}\n",
       "\\item 2.9809922881566\n",
       "\\item 7.58357006042365\n",
       "\\end{enumerate*}\n"
      ],
      "text/markdown": [
       "1. 2.9809922881566\n",
       "2. 7.58357006042365\n",
       "\n",
       "\n"
      ],
      "text/plain": [
       "[1] 2.980992 7.583570"
      ]
     },
     "metadata": {},
     "output_type": "display_data"
    },
    {
     "data": {
      "text/html": [
       "<ol class=list-inline>\n",
       "\t<li>1.48061700965936</li>\n",
       "\t<li>1.2649631030311</li>\n",
       "\t<li>1.26507156454565</li>\n",
       "\t<li>1.35136326388358</li>\n",
       "\t<li>1.34124886688473</li>\n",
       "\t<li>1.58343880077578</li>\n",
       "\t<li>1.32834847217895</li>\n",
       "\t<li>1.64558668784627</li>\n",
       "\t<li>1.39920527338234</li>\n",
       "\t<li>1.37714210132929</li>\n",
       "\t<li>1.54463100122997</li>\n",
       "\t<li>1.56665697678682</li>\n",
       "\t<li>1.34535415477151</li>\n",
       "\t<li>1.60458941491645</li>\n",
       "\t<li>1.72287381392249</li>\n",
       "\t<li>1.80334878627644</li>\n",
       "\t<li>1.33983871856549</li>\n",
       "\t<li>1.5832727257607</li>\n",
       "\t<li>1.70148622505666</li>\n",
       "\t<li>1.8826497598309</li>\n",
       "\t<li>1.0922562276938</li>\n",
       "\t<li>1.40170867607361</li>\n",
       "\t<li>1.71603733861283</li>\n",
       "\t<li>1.70554868271302</li>\n",
       "\t<li>1.65363831810397</li>\n",
       "\t<li>1.59751997326328</li>\n",
       "\t<li>1.71528487430176</li>\n",
       "\t<li>1.69255243118143</li>\n",
       "\t<li>1.52775749131643</li>\n",
       "\t<li>1.76790672010523</li>\n",
       "\t<li>1.61406123434416</li>\n",
       "\t<li>1.48242213837545</li>\n",
       "\t<li>1.50789349154459</li>\n",
       "\t<li>2.02598407300078</li>\n",
       "\t<li>1.46760543352985</li>\n",
       "\t<li>1.97495814946557</li>\n",
       "\t<li>1.7809457094552</li>\n",
       "\t<li>1.67065199607311</li>\n",
       "\t<li>1.59164643805008</li>\n",
       "\t<li>1.41898115127748</li>\n",
       "\t<li>1.3671939032844</li>\n",
       "\t<li>1.73602934268818</li>\n",
       "\t<li>1.49811882828313</li>\n",
       "\t<li>1.77655329306665</li>\n",
       "\t<li>1.65243421090762</li>\n",
       "\t<li>1.43957682669699</li>\n",
       "\t<li>1.394894459581</li>\n",
       "\t<li>1.61184834984723</li>\n",
       "\t<li>1.72355700643216</li>\n",
       "\t<li>1.17298632693903</li>\n",
       "</ol>\n"
      ],
      "text/latex": [
       "\\begin{enumerate*}\n",
       "\\item 1.48061700965936\n",
       "\\item 1.2649631030311\n",
       "\\item 1.26507156454565\n",
       "\\item 1.35136326388358\n",
       "\\item 1.34124886688473\n",
       "\\item 1.58343880077578\n",
       "\\item 1.32834847217895\n",
       "\\item 1.64558668784627\n",
       "\\item 1.39920527338234\n",
       "\\item 1.37714210132929\n",
       "\\item 1.54463100122997\n",
       "\\item 1.56665697678682\n",
       "\\item 1.34535415477151\n",
       "\\item 1.60458941491645\n",
       "\\item 1.72287381392249\n",
       "\\item 1.80334878627644\n",
       "\\item 1.33983871856549\n",
       "\\item 1.5832727257607\n",
       "\\item 1.70148622505666\n",
       "\\item 1.8826497598309\n",
       "\\item 1.0922562276938\n",
       "\\item 1.40170867607361\n",
       "\\item 1.71603733861283\n",
       "\\item 1.70554868271302\n",
       "\\item 1.65363831810397\n",
       "\\item 1.59751997326328\n",
       "\\item 1.71528487430176\n",
       "\\item 1.69255243118143\n",
       "\\item 1.52775749131643\n",
       "\\item 1.76790672010523\n",
       "\\item 1.61406123434416\n",
       "\\item 1.48242213837545\n",
       "\\item 1.50789349154459\n",
       "\\item 2.02598407300078\n",
       "\\item 1.46760543352985\n",
       "\\item 1.97495814946557\n",
       "\\item 1.7809457094552\n",
       "\\item 1.67065199607311\n",
       "\\item 1.59164643805008\n",
       "\\item 1.41898115127748\n",
       "\\item 1.3671939032844\n",
       "\\item 1.73602934268818\n",
       "\\item 1.49811882828313\n",
       "\\item 1.77655329306665\n",
       "\\item 1.65243421090762\n",
       "\\item 1.43957682669699\n",
       "\\item 1.394894459581\n",
       "\\item 1.61184834984723\n",
       "\\item 1.72355700643216\n",
       "\\item 1.17298632693903\n",
       "\\end{enumerate*}\n"
      ],
      "text/markdown": [
       "1. 1.48061700965936\n",
       "2. 1.2649631030311\n",
       "3. 1.26507156454565\n",
       "4. 1.35136326388358\n",
       "5. 1.34124886688473\n",
       "6. 1.58343880077578\n",
       "7. 1.32834847217895\n",
       "8. 1.64558668784627\n",
       "9. 1.39920527338234\n",
       "10. 1.37714210132929\n",
       "11. 1.54463100122997\n",
       "12. 1.56665697678682\n",
       "13. 1.34535415477151\n",
       "14. 1.60458941491645\n",
       "15. 1.72287381392249\n",
       "16. 1.80334878627644\n",
       "17. 1.33983871856549\n",
       "18. 1.5832727257607\n",
       "19. 1.70148622505666\n",
       "20. 1.8826497598309\n",
       "21. 1.0922562276938\n",
       "22. 1.40170867607361\n",
       "23. 1.71603733861283\n",
       "24. 1.70554868271302\n",
       "25. 1.65363831810397\n",
       "26. 1.59751997326328\n",
       "27. 1.71528487430176\n",
       "28. 1.69255243118143\n",
       "29. 1.52775749131643\n",
       "30. 1.76790672010523\n",
       "31. 1.61406123434416\n",
       "32. 1.48242213837545\n",
       "33. 1.50789349154459\n",
       "34. 2.02598407300078\n",
       "35. 1.46760543352985\n",
       "36. 1.97495814946557\n",
       "37. 1.7809457094552\n",
       "38. 1.67065199607311\n",
       "39. 1.59164643805008\n",
       "40. 1.41898115127748\n",
       "41. 1.3671939032844\n",
       "42. 1.73602934268818\n",
       "43. 1.49811882828313\n",
       "44. 1.77655329306665\n",
       "45. 1.65243421090762\n",
       "46. 1.43957682669699\n",
       "47. 1.394894459581\n",
       "48. 1.61184834984723\n",
       "49. 1.72355700643216\n",
       "50. 1.17298632693903\n",
       "\n",
       "\n"
      ],
      "text/plain": [
       " [1] 1.480617 1.264963 1.265072 1.351363 1.341249 1.583439 1.328348 1.645587\n",
       " [9] 1.399205 1.377142 1.544631 1.566657 1.345354 1.604589 1.722874 1.803349\n",
       "[17] 1.339839 1.583273 1.701486 1.882650 1.092256 1.401709 1.716037 1.705549\n",
       "[25] 1.653638 1.597520 1.715285 1.692552 1.527757 1.767907 1.614061 1.482422\n",
       "[33] 1.507893 2.025984 1.467605 1.974958 1.780946 1.670652 1.591646 1.418981\n",
       "[41] 1.367194 1.736029 1.498119 1.776553 1.652434 1.439577 1.394894 1.611848\n",
       "[49] 1.723557 1.172986"
      ]
     },
     "metadata": {},
     "output_type": "display_data"
    },
    {
     "data": {
      "text/plain": [
       "   Min. 1st Qu.  Median    Mean 3rd Qu.    Max. \n",
       "  2.981   4.055   4.871   4.843   5.499   7.584 "
      ]
     },
     "metadata": {},
     "output_type": "display_data"
    },
    {
     "data": {
      "image/png": "[encoded data removed]",
      "text/plain": [
       "Plot with title “Histogram of x”"
      ]
     },
     "metadata": {},
     "output_type": "display_data"
    },
    {
     "data": {
      "image/png": "[encoded data removed]",
      "text/plain": [
       "Plot with title “Histogram of x”"
      ]
     },
     "metadata": {},
     "output_type": "display_data"
    }
   ],
   "source": [
    "x <- rnorm(50, mean=5, sd=1) #generates 50 random numbers from a gaussian with mean 5 and sd 1. Don't worry...you'll know what this means soon!\n",
    "hist(x, density = 20)\n",
    "length(x) #return the length of x\n",
    "sum(x) #sum the numbers in x\n",
    "mean(x) #calculate the mean of the numbers in x\n",
    "var(x) #calculate the variance of the numbers in x\n",
    "sd(x) #calculate the standard deviation of x\n",
    "median(x) #calculate the median of x\n",
    "range(x) #calculate the range of x\n",
    "log(x) #calculate the natural log of x\n",
    "summary(x) #return 5-number summary of x\n",
    "\n",
    "hist(x, density = 20, freq = FALSE) #histogram of those random numbers; freq = FALSE makes x a 'density' (integrates to 1); density shades the boxes\n",
    "curve(dnorm(x,mean = mean(x),sd = sd(x)),from = min(x), to = max(x), add = TRUE) #overlay of normal density"
   ]
  },
  {
   "cell_type": "markdown",
   "metadata": {
    "nbgrader": {
     "grade": false,
     "grade_id": "cell-d05143cf1e54cf41",
     "locked": true,
     "schema_version": 3,
     "solution": false,
     "task": false
    }
   },
   "source": [
    "# Part II: Vector Indexing\n",
    "\n",
    "R (like Matlab and Python) has a nice indexing system. Given a matrix $A$, we can access the $[i,j]$ element of $A$ by writing `A[i,j]`. We can access the $i^{th}$ row by typing `A[i,]`. And, we can access the $j^{th}$ column by typing `A[,j]`. And, we can do even fancier things too...\n",
    "\n",
    "#### Modify the third line of code below to access the second, fourth, and sixth elements of the vector `a`. Take note of whether R starts indexing at 0 or 1!  Also, note that the last line uses the minus sign to access elements *other than* those specified in the index."
   ]
  },
  {
   "cell_type": "code",
   "execution_count": 11,
   "metadata": {},
   "outputs": [
    {
     "data": {
      "text/html": [
       "<ol class=list-inline>\n",
       "\t<li>2</li>\n",
       "\t<li>4</li>\n",
       "\t<li>6</li>\n",
       "\t<li>8</li>\n",
       "\t<li>10</li>\n",
       "\t<li>12</li>\n",
       "\t<li>14</li>\n",
       "\t<li>16</li>\n",
       "</ol>\n"
      ],
      "text/latex": [
       "\\begin{enumerate*}\n",
       "\\item 2\n",
       "\\item 4\n",
       "\\item 6\n",
       "\\item 8\n",
       "\\item 10\n",
       "\\item 12\n",
       "\\item 14\n",
       "\\item 16\n",
       "\\end{enumerate*}\n"
      ],
      "text/markdown": [
       "1. 2\n",
       "2. 4\n",
       "3. 6\n",
       "4. 8\n",
       "5. 10\n",
       "6. 12\n",
       "7. 14\n",
       "8. 16\n",
       "\n",
       "\n"
      ],
      "text/plain": [
       "[1]  2  4  6  8 10 12 14 16"
      ]
     },
     "metadata": {},
     "output_type": "display_data"
    },
    {
     "data": {
      "text/html": [
       "<ol class=list-inline>\n",
       "\t<li>2</li>\n",
       "\t<li>8</li>\n",
       "</ol>\n"
      ],
      "text/latex": [
       "\\begin{enumerate*}\n",
       "\\item 2\n",
       "\\item 8\n",
       "\\end{enumerate*}\n"
      ],
      "text/markdown": [
       "1. 2\n",
       "2. 8\n",
       "\n",
       "\n"
      ],
      "text/plain": [
       "[1] 2 8"
      ]
     },
     "metadata": {},
     "output_type": "display_data"
    },
    {
     "data": {
      "text/html": [
       "<ol class=list-inline>\n",
       "\t<li>4</li>\n",
       "\t<li>6</li>\n",
       "\t<li>8</li>\n",
       "\t<li>12</li>\n",
       "\t<li>14</li>\n",
       "\t<li>16</li>\n",
       "</ol>\n"
      ],
      "text/latex": [
       "\\begin{enumerate*}\n",
       "\\item 4\n",
       "\\item 6\n",
       "\\item 8\n",
       "\\item 12\n",
       "\\item 14\n",
       "\\item 16\n",
       "\\end{enumerate*}\n"
      ],
      "text/markdown": [
       "1. 4\n",
       "2. 6\n",
       "3. 8\n",
       "4. 12\n",
       "5. 14\n",
       "6. 16\n",
       "\n",
       "\n"
      ],
      "text/plain": [
       "[1]  4  6  8 12 14 16"
      ]
     },
     "metadata": {},
     "output_type": "display_data"
    }
   ],
   "source": [
    "a = seq(2, 16, by = 2)\n",
    "a\n",
    "a[c(1, 4)]\n",
    "\n",
    "###\n",
    "a[-c(1,5)]"
   ]
  },
  {
   "cell_type": "markdown",
   "metadata": {
    "nbgrader": {
     "grade": false,
     "grade_id": "cell-10bddd1785dbae2f",
     "locked": true,
     "schema_version": 3,
     "solution": false,
     "task": false
    }
   },
   "source": [
    "#### Write code that prints the third through sixth elements of `a` and store it in a variable `b` (there's a short and long way)."
   ]
  },
  {
   "cell_type": "code",
   "execution_count": 12,
   "metadata": {
    "nbgrader": {
     "grade": false,
     "grade_id": "cell-ca2b0c3789a469ff",
     "locked": false,
     "schema_version": 3,
     "solution": true,
     "task": false
    },
    "scrolled": true
   },
   "outputs": [],
   "source": [
    "### BEGIN SOLUTION HERE\n",
    "b = a[3:6]\n",
    "### END SOLUTION HERE"
   ]
  },
  {
   "cell_type": "code",
   "execution_count": 13,
   "metadata": {
    "nbgrader": {
     "grade": true,
     "grade_id": "cell-208c44d46b6a9f4a",
     "locked": true,
     "points": 1,
     "schema_version": 3,
     "solution": false,
     "task": false
    }
   },
   "outputs": [],
   "source": [
    "# Test Cell\n",
    "### BEGIN HIDDEN TESTS\n",
    "test_that(\"Is b correct?\", {expect_equal(b, c(6,8,10,12))})\n",
    "### END HIDDEN TESTS"
   ]
  },
  {
   "cell_type": "markdown",
   "metadata": {
    "nbgrader": {
     "grade": false,
     "grade_id": "cell-7a5919d10f0ff115",
     "locked": true,
     "schema_version": 3,
     "solution": false,
     "task": false
    }
   },
   "source": [
    "Logical indexing is another powerful tool for working with data in R. \n",
    "\n",
    "#### Let's start with typing things like `a > 10`, `a <= 4`, `a == 10`, and `a != 10`. What do these lines do?"
   ]
  },
  {
   "cell_type": "code",
   "execution_count": 14,
   "metadata": {
    "nbgrader": {
     "grade": true,
     "grade_id": "cell-82ec56dcfad8858e",
     "locked": false,
     "points": 0,
     "schema_version": 3,
     "solution": true,
     "task": false
    }
   },
   "outputs": [
    {
     "data": {
      "text/html": [
       "<ol class=list-inline>\n",
       "\t<li>FALSE</li>\n",
       "\t<li>FALSE</li>\n",
       "\t<li>FALSE</li>\n",
       "\t<li>FALSE</li>\n",
       "\t<li>FALSE</li>\n",
       "\t<li>TRUE</li>\n",
       "\t<li>TRUE</li>\n",
       "\t<li>TRUE</li>\n",
       "</ol>\n"
      ],
      "text/latex": [
       "\\begin{enumerate*}\n",
       "\\item FALSE\n",
       "\\item FALSE\n",
       "\\item FALSE\n",
       "\\item FALSE\n",
       "\\item FALSE\n",
       "\\item TRUE\n",
       "\\item TRUE\n",
       "\\item TRUE\n",
       "\\end{enumerate*}\n"
      ],
      "text/markdown": [
       "1. FALSE\n",
       "2. FALSE\n",
       "3. FALSE\n",
       "4. FALSE\n",
       "5. FALSE\n",
       "6. TRUE\n",
       "7. TRUE\n",
       "8. TRUE\n",
       "\n",
       "\n"
      ],
      "text/plain": [
       "[1] FALSE FALSE FALSE FALSE FALSE  TRUE  TRUE  TRUE"
      ]
     },
     "metadata": {},
     "output_type": "display_data"
    },
    {
     "data": {
      "text/html": [
       "<ol class=list-inline>\n",
       "\t<li>TRUE</li>\n",
       "\t<li>TRUE</li>\n",
       "\t<li>FALSE</li>\n",
       "\t<li>FALSE</li>\n",
       "\t<li>FALSE</li>\n",
       "\t<li>FALSE</li>\n",
       "\t<li>FALSE</li>\n",
       "\t<li>FALSE</li>\n",
       "</ol>\n"
      ],
      "text/latex": [
       "\\begin{enumerate*}\n",
       "\\item TRUE\n",
       "\\item TRUE\n",
       "\\item FALSE\n",
       "\\item FALSE\n",
       "\\item FALSE\n",
       "\\item FALSE\n",
       "\\item FALSE\n",
       "\\item FALSE\n",
       "\\end{enumerate*}\n"
      ],
      "text/markdown": [
       "1. TRUE\n",
       "2. TRUE\n",
       "3. FALSE\n",
       "4. FALSE\n",
       "5. FALSE\n",
       "6. FALSE\n",
       "7. FALSE\n",
       "8. FALSE\n",
       "\n",
       "\n"
      ],
      "text/plain": [
       "[1]  TRUE  TRUE FALSE FALSE FALSE FALSE FALSE FALSE"
      ]
     },
     "metadata": {},
     "output_type": "display_data"
    },
    {
     "data": {
      "text/html": [
       "<ol class=list-inline>\n",
       "\t<li>FALSE</li>\n",
       "\t<li>FALSE</li>\n",
       "\t<li>FALSE</li>\n",
       "\t<li>FALSE</li>\n",
       "\t<li>TRUE</li>\n",
       "\t<li>FALSE</li>\n",
       "\t<li>FALSE</li>\n",
       "\t<li>FALSE</li>\n",
       "</ol>\n"
      ],
      "text/latex": [
       "\\begin{enumerate*}\n",
       "\\item FALSE\n",
       "\\item FALSE\n",
       "\\item FALSE\n",
       "\\item FALSE\n",
       "\\item TRUE\n",
       "\\item FALSE\n",
       "\\item FALSE\n",
       "\\item FALSE\n",
       "\\end{enumerate*}\n"
      ],
      "text/markdown": [
       "1. FALSE\n",
       "2. FALSE\n",
       "3. FALSE\n",
       "4. FALSE\n",
       "5. TRUE\n",
       "6. FALSE\n",
       "7. FALSE\n",
       "8. FALSE\n",
       "\n",
       "\n"
      ],
      "text/plain": [
       "[1] FALSE FALSE FALSE FALSE  TRUE FALSE FALSE FALSE"
      ]
     },
     "metadata": {},
     "output_type": "display_data"
    },
    {
     "data": {
      "text/html": [
       "<ol class=list-inline>\n",
       "\t<li>TRUE</li>\n",
       "\t<li>TRUE</li>\n",
       "\t<li>TRUE</li>\n",
       "\t<li>TRUE</li>\n",
       "\t<li>FALSE</li>\n",
       "\t<li>TRUE</li>\n",
       "\t<li>TRUE</li>\n",
       "\t<li>TRUE</li>\n",
       "</ol>\n"
      ],
      "text/latex": [
       "\\begin{enumerate*}\n",
       "\\item TRUE\n",
       "\\item TRUE\n",
       "\\item TRUE\n",
       "\\item TRUE\n",
       "\\item FALSE\n",
       "\\item TRUE\n",
       "\\item TRUE\n",
       "\\item TRUE\n",
       "\\end{enumerate*}\n"
      ],
      "text/markdown": [
       "1. TRUE\n",
       "2. TRUE\n",
       "3. TRUE\n",
       "4. TRUE\n",
       "5. FALSE\n",
       "6. TRUE\n",
       "7. TRUE\n",
       "8. TRUE\n",
       "\n",
       "\n"
      ],
      "text/plain": [
       "[1]  TRUE  TRUE  TRUE  TRUE FALSE  TRUE  TRUE  TRUE"
      ]
     },
     "metadata": {},
     "output_type": "display_data"
    }
   ],
   "source": [
    "###Logical index vectors and operators\n",
    "#values greater than 10\n",
    "a > 10 \n",
    "#values less than or equal to 4\n",
    "a <= 4 \n",
    "#values equal to 10\n",
    "a == 10 \n",
    "#values not equal to 10\n",
    "a != 10 "
   ]
  },
  {
   "cell_type": "markdown",
   "metadata": {
    "nbgrader": {
     "grade": false,
     "grade_id": "cell-0717f5cbae296e02",
     "locked": true,
     "schema_version": 3,
     "solution": false,
     "task": false
    }
   },
   "source": [
    "Now let's look at more complicated logical statements. Note that ${\\tt \\&}$ represents \"and\", and ${\\tt |}$ represents \"or\" in R. \n",
    "\n",
    "#### Write code that prints ${\\tt TRUE}$ for values of $a$ greater than 6 and less than or equal to 10, and ${\\tt FALSE}$ otherwise. Then, write code that prints ${\\tt TRUE}$ for values of $a$  less than or equal to 4 or greater or equal to 12, and ${\\tt FALSE}$ otherwise."
   ]
  },
  {
   "cell_type": "code",
   "execution_count": 15,
   "metadata": {
    "nbgrader": {
     "grade": true,
     "grade_id": "cell-d201b4f9c6c2e47c",
     "locked": false,
     "points": 0,
     "schema_version": 3,
     "solution": true,
     "task": false
    }
   },
   "outputs": [
    {
     "data": {
      "text/html": [
       "<ol class=list-inline>\n",
       "\t<li>FALSE</li>\n",
       "\t<li>FALSE</li>\n",
       "\t<li>FALSE</li>\n",
       "\t<li>TRUE</li>\n",
       "\t<li>TRUE</li>\n",
       "\t<li>FALSE</li>\n",
       "\t<li>FALSE</li>\n",
       "\t<li>FALSE</li>\n",
       "</ol>\n"
      ],
      "text/latex": [
       "\\begin{enumerate*}\n",
       "\\item FALSE\n",
       "\\item FALSE\n",
       "\\item FALSE\n",
       "\\item TRUE\n",
       "\\item TRUE\n",
       "\\item FALSE\n",
       "\\item FALSE\n",
       "\\item FALSE\n",
       "\\end{enumerate*}\n"
      ],
      "text/markdown": [
       "1. FALSE\n",
       "2. FALSE\n",
       "3. FALSE\n",
       "4. TRUE\n",
       "5. TRUE\n",
       "6. FALSE\n",
       "7. FALSE\n",
       "8. FALSE\n",
       "\n",
       "\n"
      ],
      "text/plain": [
       "[1] FALSE FALSE FALSE  TRUE  TRUE FALSE FALSE FALSE"
      ]
     },
     "metadata": {},
     "output_type": "display_data"
    },
    {
     "data": {
      "text/html": [
       "<ol class=list-inline>\n",
       "\t<li>TRUE</li>\n",
       "\t<li>TRUE</li>\n",
       "\t<li>FALSE</li>\n",
       "\t<li>FALSE</li>\n",
       "\t<li>FALSE</li>\n",
       "\t<li>TRUE</li>\n",
       "\t<li>TRUE</li>\n",
       "\t<li>TRUE</li>\n",
       "</ol>\n"
      ],
      "text/latex": [
       "\\begin{enumerate*}\n",
       "\\item TRUE\n",
       "\\item TRUE\n",
       "\\item FALSE\n",
       "\\item FALSE\n",
       "\\item FALSE\n",
       "\\item TRUE\n",
       "\\item TRUE\n",
       "\\item TRUE\n",
       "\\end{enumerate*}\n"
      ],
      "text/markdown": [
       "1. TRUE\n",
       "2. TRUE\n",
       "3. FALSE\n",
       "4. FALSE\n",
       "5. FALSE\n",
       "6. TRUE\n",
       "7. TRUE\n",
       "8. TRUE\n",
       "\n",
       "\n"
      ],
      "text/plain": [
       "[1]  TRUE  TRUE FALSE FALSE FALSE  TRUE  TRUE  TRUE"
      ]
     },
     "metadata": {},
     "output_type": "display_data"
    }
   ],
   "source": [
    "#values greater than 6 and less than or equal to 10\n",
    "(a > 6) & (a <= 10)\t\n",
    "#values less than or equal to 4 or greater or equal to 12\n",
    "(a <= 4)|(a >= 12)\n"
   ]
  },
  {
   "cell_type": "markdown",
   "metadata": {
    "nbgrader": {
     "grade": false,
     "grade_id": "cell-e00cd77cdad99b3b",
     "locked": true,
     "schema_version": 3,
     "solution": false,
     "task": false
    }
   },
   "source": [
    "The real power of logical indexing comes when we take these vectors of logicals and put them in the index of a vector. The first line below tells R to print all elements of `a` such that `a < 6`.\n",
    "\n",
    "#### Write code to print elements of `a` equal to 10. Then, print elements of `a` less than six or equal to 10."
   ]
  },
  {
   "cell_type": "code",
   "execution_count": 16,
   "metadata": {
    "nbgrader": {
     "grade": true,
     "grade_id": "cell-ac0010499195bcfa",
     "locked": false,
     "points": 0,
     "schema_version": 3,
     "solution": true,
     "task": false
    },
    "scrolled": true
   },
   "outputs": [
    {
     "data": {
      "text/html": [
       "10"
      ],
      "text/latex": [
       "10"
      ],
      "text/markdown": [
       "10"
      ],
      "text/plain": [
       "[1] 10"
      ]
     },
     "metadata": {},
     "output_type": "display_data"
    },
    {
     "data": {
      "text/html": [
       "<ol class=list-inline>\n",
       "\t<li>2</li>\n",
       "\t<li>4</li>\n",
       "</ol>\n"
      ],
      "text/latex": [
       "\\begin{enumerate*}\n",
       "\\item 2\n",
       "\\item 4\n",
       "\\end{enumerate*}\n"
      ],
      "text/markdown": [
       "1. 2\n",
       "2. 4\n",
       "\n",
       "\n"
      ],
      "text/plain": [
       "[1] 2 4"
      ]
     },
     "metadata": {},
     "output_type": "display_data"
    },
    {
     "data": {
      "text/html": [
       "<ol class=list-inline>\n",
       "\t<li>2</li>\n",
       "\t<li>4</li>\n",
       "\t<li>10</li>\n",
       "</ol>\n"
      ],
      "text/latex": [
       "\\begin{enumerate*}\n",
       "\\item 2\n",
       "\\item 4\n",
       "\\item 10\n",
       "\\end{enumerate*}\n"
      ],
      "text/markdown": [
       "1. 2\n",
       "2. 4\n",
       "3. 10\n",
       "\n",
       "\n"
      ],
      "text/plain": [
       "[1]  2  4 10"
      ]
     },
     "metadata": {},
     "output_type": "display_data"
    }
   ],
   "source": [
    "#elements of a equal to 10\n",
    "a[a == 10]\n",
    "#elements of a less than 6\n",
    "a[a < 6]\n",
    "#elements of a less than 6 or equal to 10\n",
    "a[a < 6 | a ==10]"
   ]
  },
  {
   "cell_type": "markdown",
   "metadata": {
    "nbgrader": {
     "grade": false,
     "grade_id": "cell-6629e8e56c350283",
     "locked": true,
     "schema_version": 3,
     "solution": false,
     "task": false
    }
   },
   "source": [
    "## Part III: Functions, Loops and Beyond!\n",
    "\n",
    "As we've seen, R has many built in functions; but, you can write your own, too! Below is the syntax.\n",
    "\n",
    "#### Write a function that concatenates two vectors."
   ]
  },
  {
   "cell_type": "code",
   "execution_count": 17,
   "metadata": {
    "nbgrader": {
     "grade": true,
     "grade_id": "cell-f0099c15888e7efb",
     "locked": false,
     "points": 0,
     "schema_version": 3,
     "solution": true,
     "task": false
    }
   },
   "outputs": [
    {
     "data": {
      "text/html": [
       "<ol class=list-inline>\n",
       "\t<li>1</li>\n",
       "\t<li>2</li>\n",
       "\t<li>3</li>\n",
       "\t<li>9</li>\n",
       "\t<li>4</li>\n",
       "\t<li>2</li>\n",
       "</ol>\n"
      ],
      "text/latex": [
       "\\begin{enumerate*}\n",
       "\\item 1\n",
       "\\item 2\n",
       "\\item 3\n",
       "\\item 9\n",
       "\\item 4\n",
       "\\item 2\n",
       "\\end{enumerate*}\n"
      ],
      "text/markdown": [
       "1. 1\n",
       "2. 2\n",
       "3. 3\n",
       "4. 9\n",
       "5. 4\n",
       "6. 2\n",
       "\n",
       "\n"
      ],
      "text/plain": [
       "[1] 1 2 3 9 4 2"
      ]
     },
     "metadata": {},
     "output_type": "display_data"
    }
   ],
   "source": [
    "y = function(input){\n",
    "    #stuff\n",
    "    return(output)\n",
    "}\n",
    "\n",
    "### BEGIN SOLUTION HERE\n",
    "x = c(1,2,3,9); y = c(4,2)\n",
    "f = function(x,y){\n",
    "    z = c(x,y)\n",
    "    return(z)\n",
    "}\n",
    "\n",
    "f(x,y)\n",
    "### END SOLUTION HERE"
   ]
  },
  {
   "cell_type": "markdown",
   "metadata": {
    "nbgrader": {
     "grade": false,
     "grade_id": "cell-8f25eb7bd9eb75dd",
     "locked": true,
     "schema_version": 3,
     "solution": false,
     "task": false
    }
   },
   "source": [
    "The function f1 below produces results like 'T' 'H' 'T' 'T'. We can think of `f1` a function that flips a coin four times. \n",
    "\n",
    "#### Write a function `f2` that can be interpreted as rolling a fair die eight times. How could you modify the code to roll a biased die?\n",
    "\n",
    "#### Notice that every time you run these function, the results are different! Uncomment the line `set.seed(99)` and notice what happens."
   ]
  },
  {
   "cell_type": "code",
   "execution_count": 18,
   "metadata": {
    "scrolled": true
   },
   "outputs": [
    {
     "data": {
      "text/html": [
       "<ol class=list-inline>\n",
       "\t<li>'T'</li>\n",
       "\t<li>'T'</li>\n",
       "\t<li>'T'</li>\n",
       "\t<li>'T'</li>\n",
       "</ol>\n"
      ],
      "text/latex": [
       "\\begin{enumerate*}\n",
       "\\item 'T'\n",
       "\\item 'T'\n",
       "\\item 'T'\n",
       "\\item 'T'\n",
       "\\end{enumerate*}\n"
      ],
      "text/markdown": [
       "1. 'T'\n",
       "2. 'T'\n",
       "3. 'T'\n",
       "4. 'T'\n",
       "\n",
       "\n"
      ],
      "text/plain": [
       "[1] \"T\" \"T\" \"T\" \"T\""
      ]
     },
     "metadata": {},
     "output_type": "display_data"
    },
    {
     "data": {
      "text/html": [
       "<ol class=list-inline>\n",
       "\t<li>3</li>\n",
       "\t<li>1</li>\n",
       "\t<li>3</li>\n",
       "\t<li>5</li>\n",
       "\t<li>5</li>\n",
       "\t<li>6</li>\n",
       "\t<li>3</li>\n",
       "\t<li>3</li>\n",
       "</ol>\n"
      ],
      "text/latex": [
       "\\begin{enumerate*}\n",
       "\\item 3\n",
       "\\item 1\n",
       "\\item 3\n",
       "\\item 5\n",
       "\\item 5\n",
       "\\item 6\n",
       "\\item 3\n",
       "\\item 3\n",
       "\\end{enumerate*}\n"
      ],
      "text/markdown": [
       "1. 3\n",
       "2. 1\n",
       "3. 3\n",
       "4. 5\n",
       "5. 5\n",
       "6. 6\n",
       "7. 3\n",
       "8. 3\n",
       "\n",
       "\n"
      ],
      "text/plain": [
       "[1] 3 1 3 5 5 6 3 3"
      ]
     },
     "metadata": {},
     "output_type": "display_data"
    }
   ],
   "source": [
    "#set.seed(99)\n",
    "f1 = function(){\n",
    "    s = sample(c(\"H\", \"T\"), size = 4, replace = TRUE)\n",
    "    return(s)\n",
    "}\n",
    "\n",
    "f1()\n",
    "\n",
    "f2 = function(){\n",
    "    s = sample(c(1,2,3,4,5,6), size = 8, replace = TRUE)\n",
    "    return(s)\n",
    "}\n",
    "\n",
    "f2()"
   ]
  },
  {
   "cell_type": "markdown",
   "metadata": {
    "nbgrader": {
     "grade": false,
     "grade_id": "cell-4c6457c1505c7089",
     "locked": true,
     "schema_version": 3,
     "solution": false,
     "task": false
    }
   },
   "source": [
    "In R, just like in C++, Matlab, Python, etc., you can write loops to repeat a sequence of instructions until a certain condition is met.  \n",
    "\n",
    "#### Below is the syntax for a loop. Inside the loop, write a line of code that populates the matrix `M` with the numbers 1 through 20."
   ]
  },
  {
   "cell_type": "code",
   "execution_count": 19,
   "metadata": {
    "nbgrader": {
     "grade": true,
     "grade_id": "cell-86173bd48cc9dffe",
     "locked": false,
     "points": 0,
     "schema_version": 3,
     "solution": true,
     "task": false
    }
   },
   "outputs": [
    {
     "data": {
      "text/html": [
       "<table>\n",
       "<tbody>\n",
       "\t<tr><td> 1</td><td>11</td></tr>\n",
       "\t<tr><td> 2</td><td>12</td></tr>\n",
       "\t<tr><td> 3</td><td>13</td></tr>\n",
       "\t<tr><td> 4</td><td>14</td></tr>\n",
       "\t<tr><td> 5</td><td>15</td></tr>\n",
       "\t<tr><td> 6</td><td>16</td></tr>\n",
       "\t<tr><td> 7</td><td>17</td></tr>\n",
       "\t<tr><td> 8</td><td>18</td></tr>\n",
       "\t<tr><td> 9</td><td>19</td></tr>\n",
       "\t<tr><td>10</td><td>20</td></tr>\n",
       "</tbody>\n",
       "</table>\n"
      ],
      "text/latex": [
       "\\begin{tabular}{ll}\n",
       "\t  1 & 11\\\\\n",
       "\t  2 & 12\\\\\n",
       "\t  3 & 13\\\\\n",
       "\t  4 & 14\\\\\n",
       "\t  5 & 15\\\\\n",
       "\t  6 & 16\\\\\n",
       "\t  7 & 17\\\\\n",
       "\t  8 & 18\\\\\n",
       "\t  9 & 19\\\\\n",
       "\t 10 & 20\\\\\n",
       "\\end{tabular}\n"
      ],
      "text/markdown": [
       "\n",
       "|  1 | 11 |\n",
       "|  2 | 12 |\n",
       "|  3 | 13 |\n",
       "|  4 | 14 |\n",
       "|  5 | 15 |\n",
       "|  6 | 16 |\n",
       "|  7 | 17 |\n",
       "|  8 | 18 |\n",
       "|  9 | 19 |\n",
       "| 10 | 20 |\n",
       "\n"
      ],
      "text/plain": [
       "      [,1] [,2]\n",
       " [1,]  1   11  \n",
       " [2,]  2   12  \n",
       " [3,]  3   13  \n",
       " [4,]  4   14  \n",
       " [5,]  5   15  \n",
       " [6,]  6   16  \n",
       " [7,]  7   17  \n",
       " [8,]  8   18  \n",
       " [9,]  9   19  \n",
       "[10,] 10   20  "
      ]
     },
     "metadata": {},
     "output_type": "display_data"
    }
   ],
   "source": [
    "n = 20; \n",
    "M = matrix(NA, ncol = 2, nrow = 10); #check the help file so that you know what this does!\n",
    "\n",
    "for (i in 1:n){\n",
    "    ### BEGIN SOLUTION HERE\n",
    "    M[i] = i\n",
    "    ### END SOLUTION HERE\n",
    "}\n",
    "M"
   ]
  },
  {
   "cell_type": "markdown",
   "metadata": {
    "nbgrader": {
     "grade": false,
     "grade_id": "cell-b03ad0c060f0eac5",
     "locked": true,
     "schema_version": 3,
     "solution": false,
     "task": false
    }
   },
   "source": [
    "#### Now, write a loop to calculate the mean of each column of `M`."
   ]
  },
  {
   "cell_type": "code",
   "execution_count": 20,
   "metadata": {
    "nbgrader": {
     "grade": true,
     "grade_id": "cell-87b55cec8ec1ec0e",
     "locked": false,
     "points": 0,
     "schema_version": 3,
     "solution": true,
     "task": false
    }
   },
   "outputs": [
    {
     "data": {
      "text/html": [
       "<table>\n",
       "<tbody>\n",
       "\t<tr><td> 5.5</td></tr>\n",
       "\t<tr><td>15.5</td></tr>\n",
       "</tbody>\n",
       "</table>\n"
      ],
      "text/latex": [
       "\\begin{tabular}{l}\n",
       "\t  5.5\\\\\n",
       "\t 15.5\\\\\n",
       "\\end{tabular}\n"
      ],
      "text/markdown": [
       "\n",
       "|  5.5 |\n",
       "| 15.5 |\n",
       "\n"
      ],
      "text/plain": [
       "     [,1]\n",
       "[1,]  5.5\n",
       "[2,] 15.5"
      ]
     },
     "metadata": {},
     "output_type": "display_data"
    },
    {
     "data": {
      "text/html": [
       "<ol class=list-inline>\n",
       "\t<li>5.5</li>\n",
       "\t<li>15.5</li>\n",
       "</ol>\n"
      ],
      "text/latex": [
       "\\begin{enumerate*}\n",
       "\\item 5.5\n",
       "\\item 15.5\n",
       "\\end{enumerate*}\n"
      ],
      "text/markdown": [
       "1. 5.5\n",
       "2. 15.5\n",
       "\n",
       "\n"
      ],
      "text/plain": [
       "[1]  5.5 15.5"
      ]
     },
     "metadata": {},
     "output_type": "display_data"
    }
   ],
   "source": [
    "m = matrix(NA, nrow = 2, ncol = 1)\n",
    "for (i in 1:2){\n",
    "    ### BEGIN SOLUTION HERE\n",
    "    m[i] = mean(M[,i])\n",
    "    ### END SOLUTION HERE\n",
    "}\n",
    "m\n",
    "colMeans(M)"
   ]
  },
  {
   "cell_type": "markdown",
   "metadata": {
    "nbgrader": {
     "grade": false,
     "grade_id": "cell-2c2f0ef6b7e1c1e2",
     "locked": true,
     "schema_version": 3,
     "solution": false,
     "task": false
    }
   },
   "source": [
    "### Here's an incredibly important lesson about R: many tasks that require loops in other languages (e.g., C++) *do not* require loops in R. \n",
    "\n",
    "#### As an example, use the function `colMeans()` to calculate the means of the columns of `M` without a loop. Store these means in a variable `M_means`. Then, look at the help file for `colMeans()` to see related functions."
   ]
  },
  {
   "cell_type": "code",
   "execution_count": 21,
   "metadata": {
    "nbgrader": {
     "grade": false,
     "grade_id": "cell-00795123493d9486",
     "locked": false,
     "schema_version": 3,
     "solution": true,
     "task": false
    }
   },
   "outputs": [],
   "source": [
    "### BEGIN SOLUTION HERE\n",
    "M_means = colMeans(M)\n",
    "### END SOLUTION HERE"
   ]
  },
  {
   "cell_type": "code",
   "execution_count": 22,
   "metadata": {
    "nbgrader": {
     "grade": true,
     "grade_id": "cell-4f1e5d04b5750095",
     "locked": true,
     "points": 2,
     "schema_version": 3,
     "solution": false,
     "task": false
    }
   },
   "outputs": [],
   "source": [
    "# Test Cell\n",
    "### BEGIN HIDDEN TESTS\n",
    "test_that(\"Is M_means correct?\", {expect_equal(M_means, colMeans(M))})\n",
    "### END HIDDEN TESTS"
   ]
  },
  {
   "cell_type": "markdown",
   "metadata": {
    "nbgrader": {
     "grade": false,
     "grade_id": "cell-ad87e7ccf67a7182",
     "locked": true,
     "schema_version": 3,
     "solution": false,
     "task": false
    }
   },
   "source": [
    "Note that the family of functions that includes `colMeans()` does not include a function to calculate the standard deviation or variance of a column (or row). But we can still do this without loops, using the `apply()` function.\n",
    "\n",
    "**Below, the `apply()` function is set up to calculate the variance of each row of M. Modify the code to calculate the standard deviation of each column of M. Store your answer in `col_sd`.**"
   ]
  },
  {
   "cell_type": "code",
   "execution_count": 23,
   "metadata": {
    "nbgrader": {
     "grade": false,
     "grade_id": "cell-7e7671c441c5ff3e",
     "locked": false,
     "schema_version": 3,
     "solution": true,
     "task": false
    }
   },
   "outputs": [
    {
     "data": {
      "text/html": [
       "<ol class=list-inline>\n",
       "\t<li>50</li>\n",
       "\t<li>50</li>\n",
       "\t<li>50</li>\n",
       "\t<li>50</li>\n",
       "\t<li>50</li>\n",
       "\t<li>50</li>\n",
       "\t<li>50</li>\n",
       "\t<li>50</li>\n",
       "\t<li>50</li>\n",
       "\t<li>50</li>\n",
       "</ol>\n"
      ],
      "text/latex": [
       "\\begin{enumerate*}\n",
       "\\item 50\n",
       "\\item 50\n",
       "\\item 50\n",
       "\\item 50\n",
       "\\item 50\n",
       "\\item 50\n",
       "\\item 50\n",
       "\\item 50\n",
       "\\item 50\n",
       "\\item 50\n",
       "\\end{enumerate*}\n"
      ],
      "text/markdown": [
       "1. 50\n",
       "2. 50\n",
       "3. 50\n",
       "4. 50\n",
       "5. 50\n",
       "6. 50\n",
       "7. 50\n",
       "8. 50\n",
       "9. 50\n",
       "10. 50\n",
       "\n",
       "\n"
      ],
      "text/plain": [
       " [1] 50 50 50 50 50 50 50 50 50 50"
      ]
     },
     "metadata": {},
     "output_type": "display_data"
    }
   ],
   "source": [
    "apply(M, 1, var)\n",
    "### BEGIN SOLUTION HERE\n",
    "col_sd = apply(M, 2, sd)\n",
    "### END SOLUTION HERE"
   ]
  },
  {
   "cell_type": "code",
   "execution_count": 24,
   "metadata": {
    "nbgrader": {
     "grade": true,
     "grade_id": "cell-271117207f36b4d5",
     "locked": true,
     "points": 2,
     "schema_version": 3,
     "solution": false,
     "task": false
    }
   },
   "outputs": [],
   "source": [
    "# Test Cell\n",
    "### BEGIN HIDDEN TESTS\n",
    "test_that(\"Is M_means correct?\", {expect_equal(col_sd, apply(M, 2, sd))})\n",
    "### END HIDDEN TESTS"
   ]
  },
  {
   "cell_type": "markdown",
   "metadata": {
    "nbgrader": {
     "grade": false,
     "grade_id": "cell-dc81723526cc4fc7",
     "locked": true,
     "schema_version": 3,
     "solution": false,
     "task": false
    }
   },
   "source": [
    "Recall above that we wrote a function `f1` that flips a coin four times. As odd as it sounds, it will become desirable for us to repeat many times (say, $m$ times) the process of flipping a coin four times. The result might be a matrix with $m$ rows and four columns. \n",
    "\n",
    "#### Write a loop to repeat the process of \"flipping a coin four times\" 10,000 times. The result should be a 10,000 by 4 matrix."
   ]
  },
  {
   "cell_type": "code",
   "execution_count": 25,
   "metadata": {
    "nbgrader": {
     "grade": true,
     "grade_id": "cell-8ed61fc3ca856f3d",
     "locked": false,
     "points": 0,
     "schema_version": 3,
     "solution": true,
     "task": false
    },
    "scrolled": true
   },
   "outputs": [
    {
     "data": {
      "text/html": [
       "<table>\n",
       "<tbody>\n",
       "\t<tr><td>T</td><td>H</td><td>H</td><td>T</td></tr>\n",
       "\t<tr><td>T</td><td>H</td><td>T</td><td>H</td></tr>\n",
       "\t<tr><td>H</td><td>H</td><td>H</td><td>H</td></tr>\n",
       "\t<tr><td>H</td><td>H</td><td>H</td><td>H</td></tr>\n",
       "\t<tr><td>T</td><td>H</td><td>T</td><td>T</td></tr>\n",
       "\t<tr><td>T</td><td>H</td><td>T</td><td>T</td></tr>\n",
       "</tbody>\n",
       "</table>\n"
      ],
      "text/latex": [
       "\\begin{tabular}{llll}\n",
       "\t T & H & H & T\\\\\n",
       "\t T & H & T & H\\\\\n",
       "\t H & H & H & H\\\\\n",
       "\t H & H & H & H\\\\\n",
       "\t T & H & T & T\\\\\n",
       "\t T & H & T & T\\\\\n",
       "\\end{tabular}\n"
      ],
      "text/markdown": [
       "\n",
       "| T | H | H | T |\n",
       "| T | H | T | H |\n",
       "| H | H | H | H |\n",
       "| H | H | H | H |\n",
       "| T | H | T | T |\n",
       "| T | H | T | T |\n",
       "\n"
      ],
      "text/plain": [
       "     [,1] [,2] [,3] [,4]\n",
       "[1,] T    H    H    T   \n",
       "[2,] T    H    T    H   \n",
       "[3,] H    H    H    H   \n",
       "[4,] H    H    H    H   \n",
       "[5,] T    H    T    T   \n",
       "[6,] T    H    T    T   "
      ]
     },
     "metadata": {},
     "output_type": "display_data"
    }
   ],
   "source": [
    "m = 10000\n",
    "\n",
    "x = matrix(NA, nrow = m, ncol = 4)\n",
    "for (i in 1:m){\n",
    "    x[i,] = f1()\n",
    "}\n",
    "head(x)\n"
   ]
  },
  {
   "cell_type": "markdown",
   "metadata": {
    "nbgrader": {
     "grade": false,
     "grade_id": "cell-7978152942226a94",
     "locked": true,
     "schema_version": 3,
     "solution": false,
     "task": false
    }
   },
   "source": [
    "But, as master R programmers, we avoid loops whenever possible. One reason why we do this is because loops are slower than the fancy R alternatives. As an alternative to the loop above, let's use the `replicate()` function to repeat the coin flipping process.\n",
    "\n",
    "#### Using the help function as your guide, use `replicate()` to  repeat the process of \"flipping a coin four times\" 10,000 times."
   ]
  },
  {
   "cell_type": "code",
   "execution_count": 26,
   "metadata": {
    "nbgrader": {
     "grade": true,
     "grade_id": "cell-f2bab03be3855c33",
     "locked": false,
     "points": 0,
     "schema_version": 3,
     "solution": true,
     "task": false
    }
   },
   "outputs": [
    {
     "data": {
      "text/html": [
       "<table>\n",
       "<tbody>\n",
       "\t<tr><td>T</td><td>H</td><td>H</td><td>H</td></tr>\n",
       "\t<tr><td>T</td><td>H</td><td>T</td><td>H</td></tr>\n",
       "\t<tr><td>T</td><td>T</td><td>H</td><td>H</td></tr>\n",
       "\t<tr><td>H</td><td>T</td><td>H</td><td>H</td></tr>\n",
       "\t<tr><td>T</td><td>H</td><td>T</td><td>H</td></tr>\n",
       "\t<tr><td>H</td><td>T</td><td>T</td><td>T</td></tr>\n",
       "</tbody>\n",
       "</table>\n"
      ],
      "text/latex": [
       "\\begin{tabular}{llll}\n",
       "\t T & H & H & H\\\\\n",
       "\t T & H & T & H\\\\\n",
       "\t T & T & H & H\\\\\n",
       "\t H & T & H & H\\\\\n",
       "\t T & H & T & H\\\\\n",
       "\t H & T & T & T\\\\\n",
       "\\end{tabular}\n"
      ],
      "text/markdown": [
       "\n",
       "| T | H | H | H |\n",
       "| T | H | T | H |\n",
       "| T | T | H | H |\n",
       "| H | T | H | H |\n",
       "| T | H | T | H |\n",
       "| H | T | T | T |\n",
       "\n"
      ],
      "text/plain": [
       "     [,1] [,2] [,3] [,4]\n",
       "[1,] T    H    H    H   \n",
       "[2,] T    H    T    H   \n",
       "[3,] T    T    H    H   \n",
       "[4,] H    T    H    H   \n",
       "[5,] T    H    T    H   \n",
       "[6,] H    T    T    T   "
      ]
     },
     "metadata": {},
     "output_type": "display_data"
    }
   ],
   "source": [
    "#replicate the sequence many times (I like working with rows, so I transpose: t())\n",
    "x = t(replicate(m, expr = f1(), simplify = TRUE))\n",
    "head(x)"
   ]
  },
  {
   "cell_type": "markdown",
   "metadata": {
    "nbgrader": {
     "grade": false,
     "grade_id": "cell-e767f634bceed89d",
     "locked": true,
     "schema_version": 3,
     "solution": false,
     "task": false
    }
   },
   "source": [
    "## Part IV: Working with Data Frames\n",
    "\n",
    "Datasets in R are stored as *data frames*. Data frames are just tables of data (vectors of data of equal length). It will be important for future assignments (and in life!) for you to be able to work with data frames.\n",
    "\n",
    "#### Take the vectors below and store them in a data frame, called `mydataframe`, using the function `data.frame()`."
   ]
  },
  {
   "cell_type": "code",
   "execution_count": 27,
   "metadata": {
    "nbgrader": {
     "grade": false,
     "grade_id": "cell-2e83c5c5da5b8762",
     "locked": false,
     "schema_version": 3,
     "solution": true,
     "task": false
    }
   },
   "outputs": [
    {
     "data": {
      "text/html": [
       "<table>\n",
       "<thead><tr><th scope=col>d</th><th scope=col>e</th><th scope=col>f</th></tr></thead>\n",
       "<tbody>\n",
       "\t<tr><td>1    </td><td>red  </td><td> TRUE</td></tr>\n",
       "\t<tr><td>2    </td><td>white</td><td> TRUE</td></tr>\n",
       "\t<tr><td>3    </td><td>blue </td><td> TRUE</td></tr>\n",
       "\t<tr><td>4    </td><td>NA   </td><td>FALSE</td></tr>\n",
       "</tbody>\n",
       "</table>\n"
      ],
      "text/latex": [
       "\\begin{tabular}{r|lll}\n",
       " d & e & f\\\\\n",
       "\\hline\n",
       "\t 1     & red   &  TRUE\\\\\n",
       "\t 2     & white &  TRUE\\\\\n",
       "\t 3     & blue  &  TRUE\\\\\n",
       "\t 4     & NA    & FALSE\\\\\n",
       "\\end{tabular}\n"
      ],
      "text/markdown": [
       "\n",
       "| d | e | f |\n",
       "|---|---|---|\n",
       "| 1     | red   |  TRUE |\n",
       "| 2     | white |  TRUE |\n",
       "| 3     | blue  |  TRUE |\n",
       "| 4     | NA    | FALSE |\n",
       "\n"
      ],
      "text/plain": [
       "  d e     f    \n",
       "1 1 red    TRUE\n",
       "2 2 white  TRUE\n",
       "3 3 blue   TRUE\n",
       "4 4 NA    FALSE"
      ]
     },
     "metadata": {},
     "output_type": "display_data"
    }
   ],
   "source": [
    "d = c(1, 2, 3, 4)\n",
    "e = c(\"red\", \"white\", \"blue\", NA)\n",
    "f = c(TRUE, TRUE, TRUE, FALSE)\n",
    "\n",
    "### BEGIN SOLUTION HERE\n",
    "mydataframe = data.frame(d,e,f)\n",
    "mydataframe\n",
    "### END SOLUTION HERE"
   ]
  },
  {
   "cell_type": "code",
   "execution_count": 28,
   "metadata": {
    "nbgrader": {
     "grade": true,
     "grade_id": "cell-e80d3dbdead4ab90",
     "locked": true,
     "points": 1,
     "schema_version": 3,
     "solution": false,
     "task": false
    }
   },
   "outputs": [],
   "source": [
    "### BEGIN HIDDEN TESTS\n",
    "test_that(\"Is mydataframe a dataframe?\", {expect_is(mydataframe, \"data.frame\")})\n",
    "### END HIDDEN TESTS"
   ]
  },
  {
   "cell_type": "markdown",
   "metadata": {
    "nbgrader": {
     "grade": false,
     "grade_id": "cell-6fc6446b84d381c6",
     "locked": true,
     "schema_version": 3,
     "solution": false,
     "task": false
    }
   },
   "source": [
    "Note that the names of the columns aren't informative (they are just the names of the vectors used to create that dataframe). We can change that..."
   ]
  },
  {
   "cell_type": "code",
   "execution_count": 29,
   "metadata": {},
   "outputs": [
    {
     "data": {
      "text/html": [
       "<table>\n",
       "<thead><tr><th scope=col>ID</th><th scope=col>Color</th><th scope=col>Passed</th></tr></thead>\n",
       "<tbody>\n",
       "\t<tr><td>1    </td><td>red  </td><td> TRUE</td></tr>\n",
       "\t<tr><td>2    </td><td>white</td><td> TRUE</td></tr>\n",
       "\t<tr><td>3    </td><td>blue </td><td> TRUE</td></tr>\n",
       "\t<tr><td>4    </td><td>NA   </td><td>FALSE</td></tr>\n",
       "</tbody>\n",
       "</table>\n"
      ],
      "text/latex": [
       "\\begin{tabular}{r|lll}\n",
       " ID & Color & Passed\\\\\n",
       "\\hline\n",
       "\t 1     & red   &  TRUE\\\\\n",
       "\t 2     & white &  TRUE\\\\\n",
       "\t 3     & blue  &  TRUE\\\\\n",
       "\t 4     & NA    & FALSE\\\\\n",
       "\\end{tabular}\n"
      ],
      "text/markdown": [
       "\n",
       "| ID | Color | Passed |\n",
       "|---|---|---|\n",
       "| 1     | red   |  TRUE |\n",
       "| 2     | white |  TRUE |\n",
       "| 3     | blue  |  TRUE |\n",
       "| 4     | NA    | FALSE |\n",
       "\n"
      ],
      "text/plain": [
       "  ID Color Passed\n",
       "1 1  red    TRUE \n",
       "2 2  white  TRUE \n",
       "3 3  blue   TRUE \n",
       "4 4  NA    FALSE "
      ]
     },
     "metadata": {},
     "output_type": "display_data"
    },
    {
     "data": {
      "text/html": [
       "<table>\n",
       "<thead><tr><th scope=col>ID</th><th scope=col>Color</th><th scope=col>Passed</th></tr></thead>\n",
       "<tbody>\n",
       "\t<tr><td>1    </td><td>red  </td><td> TRUE</td></tr>\n",
       "\t<tr><td>2    </td><td>white</td><td> TRUE</td></tr>\n",
       "\t<tr><td>3    </td><td>blue </td><td> TRUE</td></tr>\n",
       "\t<tr><td>4    </td><td>NA   </td><td>FALSE</td></tr>\n",
       "</tbody>\n",
       "</table>\n"
      ],
      "text/latex": [
       "\\begin{tabular}{r|lll}\n",
       " ID & Color & Passed\\\\\n",
       "\\hline\n",
       "\t 1     & red   &  TRUE\\\\\n",
       "\t 2     & white &  TRUE\\\\\n",
       "\t 3     & blue  &  TRUE\\\\\n",
       "\t 4     & NA    & FALSE\\\\\n",
       "\\end{tabular}\n"
      ],
      "text/markdown": [
       "\n",
       "| ID | Color | Passed |\n",
       "|---|---|---|\n",
       "| 1     | red   |  TRUE |\n",
       "| 2     | white |  TRUE |\n",
       "| 3     | blue  |  TRUE |\n",
       "| 4     | NA    | FALSE |\n",
       "\n"
      ],
      "text/plain": [
       "  ID Color Passed\n",
       "1 1  red    TRUE \n",
       "2 2  white  TRUE \n",
       "3 3  blue   TRUE \n",
       "4 4  NA    FALSE "
      ]
     },
     "metadata": {},
     "output_type": "display_data"
    }
   ],
   "source": [
    "#rename columns of data frame\n",
    "names(mydataframe) = c(\"ID\", \"Color\", \"Passed\")\n",
    "mydataframe\n",
    "\n",
    "#name columns while creating data frame\n",
    "dataframe2 = data.frame(ID=d, Color=e, Passed=f)\n",
    "dataframe2"
   ]
  },
  {
   "cell_type": "markdown",
   "metadata": {
    "nbgrader": {
     "grade": false,
     "grade_id": "cell-215c5432837ea2b2",
     "locked": true,
     "schema_version": 3,
     "solution": false,
     "task": false
    }
   },
   "source": [
    "There are a few ways that you can access elements of a dataframe. \n",
    "\n",
    "1. You can access columns of a dataframe by typing `mydataframe$NameOfColumn` or by typing `mydataframe[ ,i]` (the latter will print the $i^{th}$ column).\n",
    "\n",
    "2. To access the $i^{th}$ row, type `mydataframe[i, ]`.\n",
    "\n",
    "3. To access the $[i,j]$ element, type `mydataframe[i,j]`. Note that data frames are indexed just like matrices: [row, column].\n",
    "\n",
    "**Print the `Color` column of the dataframe from above in two different ways. Print the second row. Print the element containing \"white\".**"
   ]
  },
  {
   "cell_type": "code",
   "execution_count": 30,
   "metadata": {
    "nbgrader": {
     "grade": true,
     "grade_id": "cell-627500e27ac3576e",
     "locked": false,
     "points": 0,
     "schema_version": 3,
     "solution": true,
     "task": false
    }
   },
   "outputs": [
    {
     "data": {
      "text/html": [
       "<ol class=list-inline>\n",
       "\t<li>red</li>\n",
       "\t<li>white</li>\n",
       "\t<li>blue</li>\n",
       "\t<li>&lt;NA&gt;</li>\n",
       "</ol>\n",
       "\n",
       "<details>\n",
       "\t<summary style=display:list-item;cursor:pointer>\n",
       "\t\t<strong>Levels</strong>:\n",
       "\t</summary>\n",
       "\t<ol class=list-inline>\n",
       "\t\t<li>'blue'</li>\n",
       "\t\t<li>'red'</li>\n",
       "\t\t<li>'white'</li>\n",
       "\t</ol>\n",
       "</details>"
      ],
      "text/latex": [
       "\\begin{enumerate*}\n",
       "\\item red\n",
       "\\item white\n",
       "\\item blue\n",
       "\\item <NA>\n",
       "\\end{enumerate*}\n",
       "\n",
       "\\emph{Levels}: \\begin{enumerate*}\n",
       "\\item 'blue'\n",
       "\\item 'red'\n",
       "\\item 'white'\n",
       "\\end{enumerate*}\n"
      ],
      "text/markdown": [
       "1. red\n",
       "2. white\n",
       "3. blue\n",
       "4. &lt;NA&gt;\n",
       "\n",
       "\n",
       "\n",
       "**Levels**: 1. 'blue'\n",
       "2. 'red'\n",
       "3. 'white'\n",
       "\n",
       "\n"
      ],
      "text/plain": [
       "[1] red   white blue  <NA> \n",
       "Levels: blue red white"
      ]
     },
     "metadata": {},
     "output_type": "display_data"
    },
    {
     "data": {
      "text/html": [
       "<ol class=list-inline>\n",
       "\t<li>red</li>\n",
       "\t<li>white</li>\n",
       "\t<li>blue</li>\n",
       "\t<li>&lt;NA&gt;</li>\n",
       "</ol>\n",
       "\n",
       "<details>\n",
       "\t<summary style=display:list-item;cursor:pointer>\n",
       "\t\t<strong>Levels</strong>:\n",
       "\t</summary>\n",
       "\t<ol class=list-inline>\n",
       "\t\t<li>'blue'</li>\n",
       "\t\t<li>'red'</li>\n",
       "\t\t<li>'white'</li>\n",
       "\t</ol>\n",
       "</details>"
      ],
      "text/latex": [
       "\\begin{enumerate*}\n",
       "\\item red\n",
       "\\item white\n",
       "\\item blue\n",
       "\\item <NA>\n",
       "\\end{enumerate*}\n",
       "\n",
       "\\emph{Levels}: \\begin{enumerate*}\n",
       "\\item 'blue'\n",
       "\\item 'red'\n",
       "\\item 'white'\n",
       "\\end{enumerate*}\n"
      ],
      "text/markdown": [
       "1. red\n",
       "2. white\n",
       "3. blue\n",
       "4. &lt;NA&gt;\n",
       "\n",
       "\n",
       "\n",
       "**Levels**: 1. 'blue'\n",
       "2. 'red'\n",
       "3. 'white'\n",
       "\n",
       "\n"
      ],
      "text/plain": [
       "[1] red   white blue  <NA> \n",
       "Levels: blue red white"
      ]
     },
     "metadata": {},
     "output_type": "display_data"
    },
    {
     "data": {
      "text/html": [
       "<table>\n",
       "<thead><tr><th></th><th scope=col>ID</th><th scope=col>Color</th><th scope=col>Passed</th></tr></thead>\n",
       "<tbody>\n",
       "\t<tr><th scope=row>2</th><td>2    </td><td>white</td><td>TRUE </td></tr>\n",
       "</tbody>\n",
       "</table>\n"
      ],
      "text/latex": [
       "\\begin{tabular}{r|lll}\n",
       "  & ID & Color & Passed\\\\\n",
       "\\hline\n",
       "\t2 & 2     & white & TRUE \\\\\n",
       "\\end{tabular}\n"
      ],
      "text/markdown": [
       "\n",
       "| <!--/--> | ID | Color | Passed |\n",
       "|---|---|---|---|\n",
       "| 2 | 2     | white | TRUE  |\n",
       "\n"
      ],
      "text/plain": [
       "  ID Color Passed\n",
       "2 2  white TRUE  "
      ]
     },
     "metadata": {},
     "output_type": "display_data"
    },
    {
     "data": {
      "text/html": [
       "white\n",
       "<details>\n",
       "\t<summary style=display:list-item;cursor:pointer>\n",
       "\t\t<strong>Levels</strong>:\n",
       "\t</summary>\n",
       "\t<ol class=list-inline>\n",
       "\t\t<li>'blue'</li>\n",
       "\t\t<li>'red'</li>\n",
       "\t\t<li>'white'</li>\n",
       "\t</ol>\n",
       "</details>"
      ],
      "text/latex": [
       "white\n",
       "\\emph{Levels}: \\begin{enumerate*}\n",
       "\\item 'blue'\n",
       "\\item 'red'\n",
       "\\item 'white'\n",
       "\\end{enumerate*}\n"
      ],
      "text/markdown": [
       "white\n",
       "**Levels**: 1. 'blue'\n",
       "2. 'red'\n",
       "3. 'white'\n",
       "\n",
       "\n"
      ],
      "text/plain": [
       "[1] white\n",
       "Levels: blue red white"
      ]
     },
     "metadata": {},
     "output_type": "display_data"
    }
   ],
   "source": [
    "mydataframe$Color #dataframe$nameofcol\n",
    "mydataframe[,2]\n",
    "mydataframe[2,]\n",
    "mydataframe[2,2]"
   ]
  },
  {
   "cell_type": "markdown",
   "metadata": {
    "nbgrader": {
     "grade": false,
     "grade_id": "cell-321dcf6f17a78835",
     "locked": true,
     "schema_version": 3,
     "solution": false,
     "task": false
    }
   },
   "source": [
    "You can save a dataframe using the function `write.table()`. \n",
    "\n",
    "#### Below, I give code to save `mydataframe` in a location on my computer. Modify the code to save it somewhere on your computer. I would take this time to think about being organized with your files for this course!\n",
    "\n",
    "Notice the `sep` argument is set to ` \"\\t\"`. This saves the file as a tab separated file. Look at the help file to see other options here."
   ]
  },
  {
   "cell_type": "code",
   "execution_count": 31,
   "metadata": {},
   "outputs": [],
   "source": [
    "###Writing data to file\n",
    "#write.table(mydataframe, paste(\"~/Google Drive/University of Colorado/example.txt\", sep = \"\"), sep = \"\\t\")"
   ]
  },
  {
   "cell_type": "markdown",
   "metadata": {
    "nbgrader": {
     "grade": false,
     "grade_id": "cell-057bd2977900e19a",
     "locked": true,
     "schema_version": 3,
     "solution": false,
     "task": false
    }
   },
   "source": [
    "Now, let's read the file you saved back into R (this is going to be important for homework assignments!). \n",
    "\n",
    "**Modify the code below to read your file back into R. Investigate what the `header` argument is doing!**\n",
    "\n",
    "Note that the `head()` function prints the first few rows of your data frame. This can be helpful when you want to see how your data are organized, but don't want to print the whole thing."
   ]
  },
  {
   "cell_type": "code",
   "execution_count": 32,
   "metadata": {},
   "outputs": [],
   "source": [
    "#data = read.table(paste(\"~/Google Drive/University of Colorado/Boulder\",\n",
    "    #                     \"example.txt\", sep = \"\"), header = TRUE, sep = \"\\t\")\n",
    "#head(data)"
   ]
  },
  {
   "cell_type": "markdown",
   "metadata": {
    "nbgrader": {
     "grade": false,
     "grade_id": "cell-f311d3270e565a94",
     "locked": true,
     "schema_version": 3,
     "solution": false,
     "task": false
    }
   },
   "source": [
    "# Part V: Real-World Data Example\n",
    "\n",
    "\n",
    "Let's explore a [dataset](https://dasl.datadescription.com/datafile/amazon-books/?_sfm_methods=Multiple+Regression&_sfm_cases=4+59943) about book prices from Amazon. The data consists of data on $n = 325$ books and includes measurements of:\n",
    "\n",
    "- `aprice`: The price listed on Amazon (dollars)\n",
    "\n",
    "\n",
    "- `lprice`: The book's list price (dollars)\n",
    "\n",
    "\n",
    "- `weight`: The book's weight (ounces)\n",
    "\n",
    "\n",
    "- `pages`: The number of pages in the book\n",
    "\n",
    "\n",
    "- `height`: The book's height (inches)\n",
    "\n",
    "\n",
    "- `width`: The book's width (inches)\n",
    "\n",
    "\n",
    "- `thick`: The thickness of the book (inches)\n",
    "\n",
    "\n",
    "- `cover`: Whether the book is a hard cover of paperback.\n",
    "\n",
    "\n",
    "- And other variables...\n",
    "\n",
    "First, we'll read this data in from Github..."
   ]
  },
  {
   "cell_type": "code",
   "execution_count": 33,
   "metadata": {},
   "outputs": [
    {
     "name": "stderr",
     "output_type": "stream",
     "text": [
      "Loading required package: bitops\n",
      "Registered S3 methods overwritten by 'ggplot2':\n",
      "  method         from \n",
      "  [.quosures     rlang\n",
      "  c.quosures     rlang\n",
      "  print.quosures rlang\n"
     ]
    },
    {
     "data": {
      "text/html": [
       "<ol class=list-inline>\n",
       "\t<li>'Title'</li>\n",
       "\t<li>'Author'</li>\n",
       "\t<li>'List.Price'</li>\n",
       "\t<li>'Amazon.Price'</li>\n",
       "\t<li>'Hard..Paper'</li>\n",
       "\t<li>'NumPages'</li>\n",
       "\t<li>'Publisher'</li>\n",
       "\t<li>'Pub.year'</li>\n",
       "\t<li>'ISBN.10'</li>\n",
       "\t<li>'Height'</li>\n",
       "\t<li>'Width'</li>\n",
       "\t<li>'Thick'</li>\n",
       "\t<li>'Weight..oz.'</li>\n",
       "</ol>\n"
      ],
      "text/latex": [
       "\\begin{enumerate*}\n",
       "\\item 'Title'\n",
       "\\item 'Author'\n",
       "\\item 'List.Price'\n",
       "\\item 'Amazon.Price'\n",
       "\\item 'Hard..Paper'\n",
       "\\item 'NumPages'\n",
       "\\item 'Publisher'\n",
       "\\item 'Pub.year'\n",
       "\\item 'ISBN.10'\n",
       "\\item 'Height'\n",
       "\\item 'Width'\n",
       "\\item 'Thick'\n",
       "\\item 'Weight..oz.'\n",
       "\\end{enumerate*}\n"
      ],
      "text/markdown": [
       "1. 'Title'\n",
       "2. 'Author'\n",
       "3. 'List.Price'\n",
       "4. 'Amazon.Price'\n",
       "5. 'Hard..Paper'\n",
       "6. 'NumPages'\n",
       "7. 'Publisher'\n",
       "8. 'Pub.year'\n",
       "9. 'ISBN.10'\n",
       "10. 'Height'\n",
       "11. 'Width'\n",
       "12. 'Thick'\n",
       "13. 'Weight..oz.'\n",
       "\n",
       "\n"
      ],
      "text/plain": [
       " [1] \"Title\"        \"Author\"       \"List.Price\"   \"Amazon.Price\" \"Hard..Paper\" \n",
       " [6] \"NumPages\"     \"Publisher\"    \"Pub.year\"     \"ISBN.10\"      \"Height\"      \n",
       "[11] \"Width\"        \"Thick\"        \"Weight..oz.\" "
      ]
     },
     "metadata": {},
     "output_type": "display_data"
    }
   ],
   "source": [
    "library(RCurl) #a package that includes the function getURL(), which allows for reading data from github.\n",
    "library(ggplot2) #a package for nice plots!\n",
    "\n",
    "#getURL is a nice way of reading in data from the web\n",
    "url = getURL(paste0(\"https://raw.githubusercontent.com/bzaharatos/\",\n",
    "                    \"-Statistical-Modeling-for-Data-Science-Applications/\",\n",
    "                    \"master/Modern%20Regression%20Analysis%20/Datasets/amazon.txt\"))\n",
    "#stores the data in the dataframe amazon\n",
    "amazon = read.csv(text = url, sep = \"\\t\")\n",
    "\n",
    "#prints the names in the dataframe\n",
    "names(amazon)"
   ]
  },
  {
   "cell_type": "markdown",
   "metadata": {
    "nbgrader": {
     "grade": false,
     "grade_id": "cell-30085bf34985bca5",
     "locked": true,
     "schema_version": 3,
     "solution": false,
     "task": false
    }
   },
   "source": [
    "Next, let's create a new data frame, called `df`, and store a subset of the variables. In addition, we'll change the names of the variables in the dataframe to something cleaner and easier to work with. Take note of how to do this :)"
   ]
  },
  {
   "cell_type": "code",
   "execution_count": 34,
   "metadata": {},
   "outputs": [
    {
     "data": {
      "text/plain": [
       "     aprice           lprice           pages           width      \n",
       " Min.   :  0.77   Min.   :  1.50   Min.   : 24.0   Min.   :4.100  \n",
       " 1st Qu.:  8.60   1st Qu.: 13.95   1st Qu.:208.0   1st Qu.:5.200  \n",
       " Median : 10.20   Median : 15.00   Median :320.0   Median :5.400  \n",
       " Mean   : 13.33   Mean   : 18.58   Mean   :335.9   Mean   :5.585  \n",
       " 3rd Qu.: 13.13   3rd Qu.: 19.95   3rd Qu.:416.0   3rd Qu.:5.900  \n",
       " Max.   :139.95   Max.   :139.95   Max.   :896.0   Max.   :9.500  \n",
       "                  NA's   :1        NA's   :2       NA's   :5      \n",
       "     weight          height           thick        cover  \n",
       " Min.   : 1.20   Min.   : 5.100   Min.   :0.1000   H: 89  \n",
       " 1st Qu.: 7.80   1st Qu.: 7.900   1st Qu.:0.6000   P:236  \n",
       " Median :11.20   Median : 8.100   Median :0.9000          \n",
       " Mean   :12.49   Mean   : 8.163   Mean   :0.9077          \n",
       " 3rd Qu.:16.00   3rd Qu.: 8.500   3rd Qu.:1.1000          \n",
       " Max.   :35.20   Max.   :12.100   Max.   :2.1000          \n",
       " NA's   :9       NA's   :4        NA's   :1               "
      ]
     },
     "metadata": {},
     "output_type": "display_data"
    }
   ],
   "source": [
    "df = data.frame(aprice = amazon$Amazon.Price, lprice = as.numeric(amazon$List.Price),  \n",
    "                pages = amazon$NumPages, width = amazon$Width, weight = amazon$Weight..oz,  \n",
    "                height = amazon$Height, thick = amazon$Thick, cover = amazon$Hard..Paper)\n",
    "\n",
    "summary(df)\n"
   ]
  },
  {
   "cell_type": "markdown",
   "metadata": {
    "nbgrader": {
     "grade": false,
     "grade_id": "cell-49e2cc4014b2bb7d",
     "locked": true,
     "schema_version": 3,
     "solution": false,
     "task": false
    }
   },
   "source": [
    "From the summary, we can see that there are missing values in the dataset, coded as `NA`. There are many ways to deal with missing data. Suppose that sample unit $i$ has a missing measurement for variable $z_j$. We could:\n",
    "\n",
    "1. Delete sample unit $i$ from the dataset, i.e., delete the entire row. That might be reasonable if there are very view missing values and if we think the values are missing at random.\n",
    "\n",
    "2. Delete the variable $z_j$ from the dataset, i.e., delete the entire column. This might be reasonable if there are many many other missing values for $z_j$ and if we think $z_j$ might not be neccesary for our overall prediction/explanation goals.\n",
    "\n",
    "3.  Impute missing values by substituting each missing value with an estimate.\n",
    "\n",
    "For more information on missing values, see this [resource](https://www.bu.edu/sph/files/2014/05/Marina-tech-report.pdf).\n",
    "\n",
    "Since most of our columns/variables are not missing values, and since these variables will be useful to us in our analysis, option 2 seems unreasonable. Let's first try option 3: impute the missing values of `lprice`, `pages`, `width`, `weight`, `height`, and `thick` with the mean of each. The `which()` and `is.na()` functions might help:"
   ]
  },
  {
   "cell_type": "code",
   "execution_count": 35,
   "metadata": {
    "nbgrader": {
     "grade": false,
     "grade_id": "cell-682d4c0f562df588",
     "locked": true,
     "schema_version": 3,
     "solution": false,
     "task": false
    }
   },
   "outputs": [
    {
     "data": {
      "text/html": [
       "205"
      ],
      "text/latex": [
       "205"
      ],
      "text/markdown": [
       "205"
      ],
      "text/plain": [
       "[1] 205"
      ]
     },
     "metadata": {},
     "output_type": "display_data"
    }
   ],
   "source": [
    "which(is.na(df$lprice))"
   ]
  },
  {
   "cell_type": "code",
   "execution_count": 36,
   "metadata": {
    "nbgrader": {
     "grade": false,
     "grade_id": "cell-51e343bf94becddd",
     "locked": false,
     "schema_version": 3,
     "solution": true,
     "task": false
    }
   },
   "outputs": [
    {
     "data": {
      "text/plain": [
       "     aprice           lprice           pages           width      \n",
       " Min.   :  0.77   Min.   :  1.50   Min.   : 24.0   Min.   :4.100  \n",
       " 1st Qu.:  8.60   1st Qu.: 13.95   1st Qu.:208.0   1st Qu.:5.200  \n",
       " Median : 10.20   Median : 15.00   Median :320.0   Median :5.400  \n",
       " Mean   : 13.33   Mean   : 18.58   Mean   :335.9   Mean   :5.585  \n",
       " 3rd Qu.: 13.13   3rd Qu.: 19.95   3rd Qu.:416.0   3rd Qu.:5.900  \n",
       " Max.   :139.95   Max.   :139.95   Max.   :896.0   Max.   :9.500  \n",
       "     weight          height           thick        cover  \n",
       " Min.   : 1.20   Min.   : 5.100   Min.   :0.1000   H: 89  \n",
       " 1st Qu.: 7.80   1st Qu.: 7.900   1st Qu.:0.6000   P:236  \n",
       " Median :11.20   Median : 8.100   Median :0.9000          \n",
       " Mean   :12.49   Mean   : 8.163   Mean   :0.9077          \n",
       " 3rd Qu.:16.00   3rd Qu.: 8.500   3rd Qu.:1.1000          \n",
       " Max.   :35.20   Max.   :12.100   Max.   :2.1000          "
      ]
     },
     "metadata": {},
     "output_type": "display_data"
    }
   ],
   "source": [
    "### BEGIN SOLUTION HERE\n",
    "df$lprice[which(is.na(df$lprice))] = mean(df$lprice, na.rm = TRUE)\n",
    "df$weight[which(is.na(df$weight))] = mean(df$weight, na.rm = TRUE)\n",
    "df$pages[which(is.na(df$pages))] = mean(df$pages, na.rm = TRUE)\n",
    "df$height[which(is.na(df$height))] = mean(df$height, na.rm = TRUE)\n",
    "df$width[which(is.na(df$width))] = mean(df$width, na.rm = TRUE)\n",
    "df$thick[which(is.na(df$thick))] = mean(df$thick, na.rm = TRUE)\n",
    "### END SOLUTION HERE\n",
    "summary(df)"
   ]
  },
  {
   "cell_type": "code",
   "execution_count": 37,
   "metadata": {
    "nbgrader": {
     "grade": true,
     "grade_id": "cell-a95747020e7b897e",
     "locked": true,
     "points": 1,
     "schema_version": 3,
     "solution": false,
     "task": false
    }
   },
   "outputs": [],
   "source": [
    "### BEGIN HIDDEN TESTS\n",
    "test_that(\"Is lprice correct?\", {expect_equal(df$lprice[205], mean(df$lprice, na.rm = TRUE) )})\n",
    "### END HIDDEN TESTS"
   ]
  },
  {
   "cell_type": "markdown",
   "metadata": {
    "nbgrader": {
     "grade": false,
     "grade_id": "cell-1e5018df495011b9",
     "locked": true,
     "schema_version": 3,
     "solution": false,
     "task": false
    }
   },
   "source": [
    "#### Use the `summary()` function to print numerical summaries of this dataset. "
   ]
  },
  {
   "cell_type": "code",
   "execution_count": 38,
   "metadata": {
    "nbgrader": {
     "grade": true,
     "grade_id": "cell-fa0930e7fb0848a7",
     "locked": false,
     "points": 0,
     "schema_version": 3,
     "solution": true,
     "task": false
    }
   },
   "outputs": [
    {
     "data": {
      "text/plain": [
       "     aprice           lprice           pages           width      \n",
       " Min.   :  0.77   Min.   :  1.50   Min.   : 24.0   Min.   :4.100  \n",
       " 1st Qu.:  8.60   1st Qu.: 13.95   1st Qu.:208.0   1st Qu.:5.200  \n",
       " Median : 10.20   Median : 15.00   Median :320.0   Median :5.400  \n",
       " Mean   : 13.33   Mean   : 18.58   Mean   :335.9   Mean   :5.585  \n",
       " 3rd Qu.: 13.13   3rd Qu.: 19.95   3rd Qu.:416.0   3rd Qu.:5.900  \n",
       " Max.   :139.95   Max.   :139.95   Max.   :896.0   Max.   :9.500  \n",
       "     weight          height           thick        cover  \n",
       " Min.   : 1.20   Min.   : 5.100   Min.   :0.1000   H: 89  \n",
       " 1st Qu.: 7.80   1st Qu.: 7.900   1st Qu.:0.6000   P:236  \n",
       " Median :11.20   Median : 8.100   Median :0.9000          \n",
       " Mean   :12.49   Mean   : 8.163   Mean   :0.9077          \n",
       " 3rd Qu.:16.00   3rd Qu.: 8.500   3rd Qu.:1.1000          \n",
       " Max.   :35.20   Max.   :12.100   Max.   :2.1000          "
      ]
     },
     "metadata": {},
     "output_type": "display_data"
    }
   ],
   "source": [
    "summary(df) #numerical summaries of each variable"
   ]
  },
  {
   "cell_type": "markdown",
   "metadata": {
    "nbgrader": {
     "grade": false,
     "grade_id": "cell-0ec9894ac6aded1f",
     "locked": true,
     "schema_version": 3,
     "solution": false,
     "task": false
    }
   },
   "source": [
    "#### Use the `sort()` function to order the`lprice` variable from lowest to highest. Remember to use the `df` data frame!"
   ]
  },
  {
   "cell_type": "code",
   "execution_count": 39,
   "metadata": {
    "nbgrader": {
     "grade": true,
     "grade_id": "cell-dbf19728a4143ca9",
     "locked": false,
     "points": 0,
     "schema_version": 3,
     "solution": true,
     "task": false
    }
   },
   "outputs": [
    {
     "data": {
      "text/html": [
       "<ol class=list-inline>\n",
       "\t<li>1.5</li>\n",
       "\t<li>2</li>\n",
       "\t<li>3.95</li>\n",
       "\t<li>4.99</li>\n",
       "\t<li>4.99</li>\n",
       "\t<li>5.95</li>\n",
       "\t<li>5.99</li>\n",
       "\t<li>5.99</li>\n",
       "\t<li>5.99</li>\n",
       "\t<li>6.69</li>\n",
       "\t<li>6.95</li>\n",
       "\t<li>6.95</li>\n",
       "\t<li>6.95</li>\n",
       "\t<li>6.99</li>\n",
       "\t<li>6.99</li>\n",
       "\t<li>6.99</li>\n",
       "\t<li>6.99</li>\n",
       "\t<li>6.99</li>\n",
       "\t<li>6.99</li>\n",
       "\t<li>6.99</li>\n",
       "\t<li>6.99</li>\n",
       "\t<li>7.5</li>\n",
       "\t<li>7.75</li>\n",
       "\t<li>7.77</li>\n",
       "\t<li>7.95</li>\n",
       "\t<li>7.95</li>\n",
       "\t<li>7.95</li>\n",
       "\t<li>7.95</li>\n",
       "\t<li>7.99</li>\n",
       "\t<li>7.99</li>\n",
       "\t<li>7.99</li>\n",
       "\t<li>8</li>\n",
       "\t<li>8.42</li>\n",
       "\t<li>8.95</li>\n",
       "\t<li>8.95</li>\n",
       "\t<li>8.95</li>\n",
       "\t<li>8.99</li>\n",
       "\t<li>8.99</li>\n",
       "\t<li>8.99</li>\n",
       "\t<li>8.99</li>\n",
       "\t<li>8.99</li>\n",
       "\t<li>8.99</li>\n",
       "\t<li>9.95</li>\n",
       "\t<li>9.99</li>\n",
       "\t<li>9.99</li>\n",
       "\t<li>9.99</li>\n",
       "\t<li>9.99</li>\n",
       "\t<li>9.99</li>\n",
       "\t<li>9.99</li>\n",
       "\t<li>9.99</li>\n",
       "\t<li>9.99</li>\n",
       "\t<li>10.65</li>\n",
       "\t<li>10.95</li>\n",
       "\t<li>10.99</li>\n",
       "\t<li>11</li>\n",
       "\t<li>11</li>\n",
       "\t<li>11.5</li>\n",
       "\t<li>11.94</li>\n",
       "\t<li>11.99</li>\n",
       "\t<li>11.99</li>\n",
       "\t<li>12</li>\n",
       "\t<li>12</li>\n",
       "\t<li>12</li>\n",
       "\t<li>12</li>\n",
       "\t<li>12</li>\n",
       "\t<li>12.14</li>\n",
       "\t<li>12.6</li>\n",
       "\t<li>12.95</li>\n",
       "\t<li>12.95</li>\n",
       "\t<li>12.95</li>\n",
       "\t<li>12.99</li>\n",
       "\t<li>12.99</li>\n",
       "\t<li>13</li>\n",
       "\t<li>13</li>\n",
       "\t<li>13</li>\n",
       "\t<li>13</li>\n",
       "\t<li>13</li>\n",
       "\t<li>13.07</li>\n",
       "\t<li>13.29</li>\n",
       "\t<li>13.83</li>\n",
       "\t<li>13.95</li>\n",
       "\t<li>13.95</li>\n",
       "\t<li>13.95</li>\n",
       "\t<li>13.95</li>\n",
       "\t<li>13.95</li>\n",
       "\t<li>13.95</li>\n",
       "\t<li>13.99</li>\n",
       "\t<li>13.99</li>\n",
       "\t<li>13.99</li>\n",
       "\t<li>13.99</li>\n",
       "\t<li>13.99</li>\n",
       "\t<li>14</li>\n",
       "\t<li>14</li>\n",
       "\t<li>14</li>\n",
       "\t<li>14</li>\n",
       "\t<li>14</li>\n",
       "\t<li>14</li>\n",
       "\t<li>14</li>\n",
       "\t<li>14</li>\n",
       "\t<li>14</li>\n",
       "\t<li>14</li>\n",
       "\t<li>14</li>\n",
       "\t<li>14</li>\n",
       "\t<li>14</li>\n",
       "\t<li>14.1</li>\n",
       "\t<li>14.54</li>\n",
       "\t<li>14.95</li>\n",
       "\t<li>14.95</li>\n",
       "\t<li>14.95</li>\n",
       "\t<li>14.95</li>\n",
       "\t<li>14.95</li>\n",
       "\t<li>14.95</li>\n",
       "\t<li>14.95</li>\n",
       "\t<li>14.95</li>\n",
       "\t<li>14.95</li>\n",
       "\t<li>14.95</li>\n",
       "\t<li>14.95</li>\n",
       "\t<li>14.95</li>\n",
       "\t<li>14.95</li>\n",
       "\t<li>14.95</li>\n",
       "\t<li>14.95</li>\n",
       "\t<li>14.95</li>\n",
       "\t<li>14.95</li>\n",
       "\t<li>14.95</li>\n",
       "\t<li>14.95</li>\n",
       "\t<li>14.95</li>\n",
       "\t<li>14.99</li>\n",
       "\t<li>14.99</li>\n",
       "\t<li>14.99</li>\n",
       "\t<li>14.99</li>\n",
       "\t<li>14.99</li>\n",
       "\t<li>14.99</li>\n",
       "\t<li>14.99</li>\n",
       "\t<li>15</li>\n",
       "\t<li>15</li>\n",
       "\t<li>15</li>\n",
       "\t<li>15</li>\n",
       "\t<li>15</li>\n",
       "\t<li>15</li>\n",
       "\t<li>15</li>\n",
       "\t<li>15</li>\n",
       "\t<li>15</li>\n",
       "\t<li>15</li>\n",
       "\t<li>15</li>\n",
       "\t<li>15</li>\n",
       "\t<li>15</li>\n",
       "\t<li>15</li>\n",
       "\t<li>15</li>\n",
       "\t<li>15</li>\n",
       "\t<li>15</li>\n",
       "\t<li>15</li>\n",
       "\t<li>15</li>\n",
       "\t<li>15</li>\n",
       "\t<li>15</li>\n",
       "\t<li>15</li>\n",
       "\t<li>15</li>\n",
       "\t<li>15</li>\n",
       "\t<li>15</li>\n",
       "\t<li>15</li>\n",
       "\t<li>15</li>\n",
       "\t<li>15</li>\n",
       "\t<li>15</li>\n",
       "\t<li>15</li>\n",
       "\t<li>15</li>\n",
       "\t<li>15</li>\n",
       "\t<li>15</li>\n",
       "\t<li>15</li>\n",
       "\t<li>15</li>\n",
       "\t<li>15</li>\n",
       "\t<li>15.44</li>\n",
       "\t<li>15.95</li>\n",
       "\t<li>15.95</li>\n",
       "\t<li>15.95</li>\n",
       "\t<li>15.95</li>\n",
       "\t<li>15.95</li>\n",
       "\t<li>15.95</li>\n",
       "\t<li>15.95</li>\n",
       "\t<li>15.95</li>\n",
       "\t<li>15.95</li>\n",
       "\t<li>15.95</li>\n",
       "\t<li>15.95</li>\n",
       "\t<li>15.95</li>\n",
       "\t<li>15.99</li>\n",
       "\t<li>15.99</li>\n",
       "\t<li>15.99</li>\n",
       "\t<li>15.99</li>\n",
       "\t<li>16</li>\n",
       "\t<li>16</li>\n",
       "\t<li>16</li>\n",
       "\t<li>16</li>\n",
       "\t<li>16</li>\n",
       "\t<li>16</li>\n",
       "\t<li>16</li>\n",
       "\t<li>16</li>\n",
       "\t<li>16</li>\n",
       "\t<li>16</li>\n",
       "\t<li>16</li>\n",
       "\t<li>16</li>\n",
       "\t<li>16</li>\n",
       "\t<li>16</li>\n",
       "\t<li>16</li>\n",
       "\t<li>16</li>\n",
       "\t<li>16</li>\n",
       "\t<li>16</li>\n",
       "\t<li>16</li>\n",
       "\t<li>16</li>\n",
       "\t<li>16</li>\n",
       "\t<li>16.95</li>\n",
       "\t<li>16.95</li>\n",
       "\t<li>16.99</li>\n",
       "\t<li>16.99</li>\n",
       "\t<li>16.99</li>\n",
       "\t<li>16.99</li>\n",
       "\t<li>16.99</li>\n",
       "\t<li>16.99</li>\n",
       "\t<li>17</li>\n",
       "\t<li>17</li>\n",
       "\t<li>17</li>\n",
       "\t<li>17</li>\n",
       "\t<li>17</li>\n",
       "\t<li>17</li>\n",
       "\t<li>17</li>\n",
       "\t<li>17.95</li>\n",
       "\t<li>17.99</li>\n",
       "\t<li>17.99</li>\n",
       "\t<li>17.99</li>\n",
       "\t<li>17.99</li>\n",
       "\t<li>17.99</li>\n",
       "\t<li>17.99</li>\n",
       "\t<li>17.99</li>\n",
       "\t<li>17.99</li>\n",
       "\t<li>17.99</li>\n",
       "\t<li>17.99</li>\n",
       "\t<li>18</li>\n",
       "\t<li>18</li>\n",
       "\t<li>18</li>\n",
       "\t<li>18</li>\n",
       "\t<li>18.5797530864198</li>\n",
       "\t<li>18.95</li>\n",
       "\t<li>18.99</li>\n",
       "\t<li>18.99</li>\n",
       "\t<li>18.99</li>\n",
       "\t<li>19.73</li>\n",
       "\t<li>19.95</li>\n",
       "\t<li>19.95</li>\n",
       "\t<li>19.99</li>\n",
       "\t<li>20</li>\n",
       "\t<li>20</li>\n",
       "\t<li>20</li>\n",
       "\t<li>20</li>\n",
       "\t<li>20</li>\n",
       "\t<li>20</li>\n",
       "\t<li>20</li>\n",
       "\t<li>20</li>\n",
       "\t<li>20</li>\n",
       "\t<li>21</li>\n",
       "\t<li>21.1</li>\n",
       "\t<li>21.99</li>\n",
       "\t<li>22</li>\n",
       "\t<li>22</li>\n",
       "\t<li>22</li>\n",
       "\t<li>22.99</li>\n",
       "\t<li>24</li>\n",
       "\t<li>24</li>\n",
       "\t<li>24</li>\n",
       "\t<li>24.95</li>\n",
       "\t<li>24.95</li>\n",
       "\t<li>24.95</li>\n",
       "\t<li>24.99</li>\n",
       "\t<li>24.99</li>\n",
       "\t<li>24.99</li>\n",
       "\t<li>25</li>\n",
       "\t<li>25</li>\n",
       "\t<li>25</li>\n",
       "\t<li>25</li>\n",
       "\t<li>25</li>\n",
       "\t<li>25.05</li>\n",
       "\t<li>25.95</li>\n",
       "\t<li>26</li>\n",
       "\t<li>26</li>\n",
       "\t<li>26</li>\n",
       "\t<li>26</li>\n",
       "\t<li>26</li>\n",
       "\t<li>26.95</li>\n",
       "\t<li>26.95</li>\n",
       "\t<li>26.95</li>\n",
       "\t<li>26.95</li>\n",
       "\t<li>26.99</li>\n",
       "\t<li>26.99</li>\n",
       "\t<li>26.99</li>\n",
       "\t<li>26.99</li>\n",
       "\t<li>27</li>\n",
       "\t<li>27.55</li>\n",
       "\t<li>27.95</li>\n",
       "\t<li>27.99</li>\n",
       "\t<li>27.99</li>\n",
       "\t<li>28</li>\n",
       "\t<li>28</li>\n",
       "\t<li>28.95</li>\n",
       "\t<li>29.5</li>\n",
       "\t<li>30</li>\n",
       "\t<li>30</li>\n",
       "\t<li>30</li>\n",
       "\t<li>30</li>\n",
       "\t<li>30.5</li>\n",
       "\t<li>32.95</li>\n",
       "\t<li>34.8</li>\n",
       "\t<li>35</li>\n",
       "\t<li>35</li>\n",
       "\t<li>35.75</li>\n",
       "\t<li>35.75</li>\n",
       "\t<li>35.95</li>\n",
       "\t<li>37.5</li>\n",
       "\t<li>39.95</li>\n",
       "\t<li>39.95</li>\n",
       "\t<li>48.2</li>\n",
       "\t<li>48.2</li>\n",
       "\t<li>53.95</li>\n",
       "\t<li>70.8</li>\n",
       "\t<li>75</li>\n",
       "\t<li>86.95</li>\n",
       "\t<li>97.5</li>\n",
       "\t<li>98.95</li>\n",
       "\t<li>114.95</li>\n",
       "\t<li>139.95</li>\n",
       "</ol>\n"
      ],
      "text/latex": [
       "\\begin{enumerate*}\n",
       "\\item 1.5\n",
       "\\item 2\n",
       "\\item 3.95\n",
       "\\item 4.99\n",
       "\\item 4.99\n",
       "\\item 5.95\n",
       "\\item 5.99\n",
       "\\item 5.99\n",
       "\\item 5.99\n",
       "\\item 6.69\n",
       "\\item 6.95\n",
       "\\item 6.95\n",
       "\\item 6.95\n",
       "\\item 6.99\n",
       "\\item 6.99\n",
       "\\item 6.99\n",
       "\\item 6.99\n",
       "\\item 6.99\n",
       "\\item 6.99\n",
       "\\item 6.99\n",
       "\\item 6.99\n",
       "\\item 7.5\n",
       "\\item 7.75\n",
       "\\item 7.77\n",
       "\\item 7.95\n",
       "\\item 7.95\n",
       "\\item 7.95\n",
       "\\item 7.95\n",
       "\\item 7.99\n",
       "\\item 7.99\n",
       "\\item 7.99\n",
       "\\item 8\n",
       "\\item 8.42\n",
       "\\item 8.95\n",
       "\\item 8.95\n",
       "\\item 8.95\n",
       "\\item 8.99\n",
       "\\item 8.99\n",
       "\\item 8.99\n",
       "\\item 8.99\n",
       "\\item 8.99\n",
       "\\item 8.99\n",
       "\\item 9.95\n",
       "\\item 9.99\n",
       "\\item 9.99\n",
       "\\item 9.99\n",
       "\\item 9.99\n",
       "\\item 9.99\n",
       "\\item 9.99\n",
       "\\item 9.99\n",
       "\\item 9.99\n",
       "\\item 10.65\n",
       "\\item 10.95\n",
       "\\item 10.99\n",
       "\\item 11\n",
       "\\item 11\n",
       "\\item 11.5\n",
       "\\item 11.94\n",
       "\\item 11.99\n",
       "\\item 11.99\n",
       "\\item 12\n",
       "\\item 12\n",
       "\\item 12\n",
       "\\item 12\n",
       "\\item 12\n",
       "\\item 12.14\n",
       "\\item 12.6\n",
       "\\item 12.95\n",
       "\\item 12.95\n",
       "\\item 12.95\n",
       "\\item 12.99\n",
       "\\item 12.99\n",
       "\\item 13\n",
       "\\item 13\n",
       "\\item 13\n",
       "\\item 13\n",
       "\\item 13\n",
       "\\item 13.07\n",
       "\\item 13.29\n",
       "\\item 13.83\n",
       "\\item 13.95\n",
       "\\item 13.95\n",
       "\\item 13.95\n",
       "\\item 13.95\n",
       "\\item 13.95\n",
       "\\item 13.95\n",
       "\\item 13.99\n",
       "\\item 13.99\n",
       "\\item 13.99\n",
       "\\item 13.99\n",
       "\\item 13.99\n",
       "\\item 14\n",
       "\\item 14\n",
       "\\item 14\n",
       "\\item 14\n",
       "\\item 14\n",
       "\\item 14\n",
       "\\item 14\n",
       "\\item 14\n",
       "\\item 14\n",
       "\\item 14\n",
       "\\item 14\n",
       "\\item 14\n",
       "\\item 14\n",
       "\\item 14.1\n",
       "\\item 14.54\n",
       "\\item 14.95\n",
       "\\item 14.95\n",
       "\\item 14.95\n",
       "\\item 14.95\n",
       "\\item 14.95\n",
       "\\item 14.95\n",
       "\\item 14.95\n",
       "\\item 14.95\n",
       "\\item 14.95\n",
       "\\item 14.95\n",
       "\\item 14.95\n",
       "\\item 14.95\n",
       "\\item 14.95\n",
       "\\item 14.95\n",
       "\\item 14.95\n",
       "\\item 14.95\n",
       "\\item 14.95\n",
       "\\item 14.95\n",
       "\\item 14.95\n",
       "\\item 14.95\n",
       "\\item 14.99\n",
       "\\item 14.99\n",
       "\\item 14.99\n",
       "\\item 14.99\n",
       "\\item 14.99\n",
       "\\item 14.99\n",
       "\\item 14.99\n",
       "\\item 15\n",
       "\\item 15\n",
       "\\item 15\n",
       "\\item 15\n",
       "\\item 15\n",
       "\\item 15\n",
       "\\item 15\n",
       "\\item 15\n",
       "\\item 15\n",
       "\\item 15\n",
       "\\item 15\n",
       "\\item 15\n",
       "\\item 15\n",
       "\\item 15\n",
       "\\item 15\n",
       "\\item 15\n",
       "\\item 15\n",
       "\\item 15\n",
       "\\item 15\n",
       "\\item 15\n",
       "\\item 15\n",
       "\\item 15\n",
       "\\item 15\n",
       "\\item 15\n",
       "\\item 15\n",
       "\\item 15\n",
       "\\item 15\n",
       "\\item 15\n",
       "\\item 15\n",
       "\\item 15\n",
       "\\item 15\n",
       "\\item 15\n",
       "\\item 15\n",
       "\\item 15\n",
       "\\item 15\n",
       "\\item 15\n",
       "\\item 15.44\n",
       "\\item 15.95\n",
       "\\item 15.95\n",
       "\\item 15.95\n",
       "\\item 15.95\n",
       "\\item 15.95\n",
       "\\item 15.95\n",
       "\\item 15.95\n",
       "\\item 15.95\n",
       "\\item 15.95\n",
       "\\item 15.95\n",
       "\\item 15.95\n",
       "\\item 15.95\n",
       "\\item 15.99\n",
       "\\item 15.99\n",
       "\\item 15.99\n",
       "\\item 15.99\n",
       "\\item 16\n",
       "\\item 16\n",
       "\\item 16\n",
       "\\item 16\n",
       "\\item 16\n",
       "\\item 16\n",
       "\\item 16\n",
       "\\item 16\n",
       "\\item 16\n",
       "\\item 16\n",
       "\\item 16\n",
       "\\item 16\n",
       "\\item 16\n",
       "\\item 16\n",
       "\\item 16\n",
       "\\item 16\n",
       "\\item 16\n",
       "\\item 16\n",
       "\\item 16\n",
       "\\item 16\n",
       "\\item 16\n",
       "\\item 16.95\n",
       "\\item 16.95\n",
       "\\item 16.99\n",
       "\\item 16.99\n",
       "\\item 16.99\n",
       "\\item 16.99\n",
       "\\item 16.99\n",
       "\\item 16.99\n",
       "\\item 17\n",
       "\\item 17\n",
       "\\item 17\n",
       "\\item 17\n",
       "\\item 17\n",
       "\\item 17\n",
       "\\item 17\n",
       "\\item 17.95\n",
       "\\item 17.99\n",
       "\\item 17.99\n",
       "\\item 17.99\n",
       "\\item 17.99\n",
       "\\item 17.99\n",
       "\\item 17.99\n",
       "\\item 17.99\n",
       "\\item 17.99\n",
       "\\item 17.99\n",
       "\\item 17.99\n",
       "\\item 18\n",
       "\\item 18\n",
       "\\item 18\n",
       "\\item 18\n",
       "\\item 18.5797530864198\n",
       "\\item 18.95\n",
       "\\item 18.99\n",
       "\\item 18.99\n",
       "\\item 18.99\n",
       "\\item 19.73\n",
       "\\item 19.95\n",
       "\\item 19.95\n",
       "\\item 19.99\n",
       "\\item 20\n",
       "\\item 20\n",
       "\\item 20\n",
       "\\item 20\n",
       "\\item 20\n",
       "\\item 20\n",
       "\\item 20\n",
       "\\item 20\n",
       "\\item 20\n",
       "\\item 21\n",
       "\\item 21.1\n",
       "\\item 21.99\n",
       "\\item 22\n",
       "\\item 22\n",
       "\\item 22\n",
       "\\item 22.99\n",
       "\\item 24\n",
       "\\item 24\n",
       "\\item 24\n",
       "\\item 24.95\n",
       "\\item 24.95\n",
       "\\item 24.95\n",
       "\\item 24.99\n",
       "\\item 24.99\n",
       "\\item 24.99\n",
       "\\item 25\n",
       "\\item 25\n",
       "\\item 25\n",
       "\\item 25\n",
       "\\item 25\n",
       "\\item 25.05\n",
       "\\item 25.95\n",
       "\\item 26\n",
       "\\item 26\n",
       "\\item 26\n",
       "\\item 26\n",
       "\\item 26\n",
       "\\item 26.95\n",
       "\\item 26.95\n",
       "\\item 26.95\n",
       "\\item 26.95\n",
       "\\item 26.99\n",
       "\\item 26.99\n",
       "\\item 26.99\n",
       "\\item 26.99\n",
       "\\item 27\n",
       "\\item 27.55\n",
       "\\item 27.95\n",
       "\\item 27.99\n",
       "\\item 27.99\n",
       "\\item 28\n",
       "\\item 28\n",
       "\\item 28.95\n",
       "\\item 29.5\n",
       "\\item 30\n",
       "\\item 30\n",
       "\\item 30\n",
       "\\item 30\n",
       "\\item 30.5\n",
       "\\item 32.95\n",
       "\\item 34.8\n",
       "\\item 35\n",
       "\\item 35\n",
       "\\item 35.75\n",
       "\\item 35.75\n",
       "\\item 35.95\n",
       "\\item 37.5\n",
       "\\item 39.95\n",
       "\\item 39.95\n",
       "\\item 48.2\n",
       "\\item 48.2\n",
       "\\item 53.95\n",
       "\\item 70.8\n",
       "\\item 75\n",
       "\\item 86.95\n",
       "\\item 97.5\n",
       "\\item 98.95\n",
       "\\item 114.95\n",
       "\\item 139.95\n",
       "\\end{enumerate*}\n"
      ],
      "text/markdown": [
       "1. 1.5\n",
       "2. 2\n",
       "3. 3.95\n",
       "4. 4.99\n",
       "5. 4.99\n",
       "6. 5.95\n",
       "7. 5.99\n",
       "8. 5.99\n",
       "9. 5.99\n",
       "10. 6.69\n",
       "11. 6.95\n",
       "12. 6.95\n",
       "13. 6.95\n",
       "14. 6.99\n",
       "15. 6.99\n",
       "16. 6.99\n",
       "17. 6.99\n",
       "18. 6.99\n",
       "19. 6.99\n",
       "20. 6.99\n",
       "21. 6.99\n",
       "22. 7.5\n",
       "23. 7.75\n",
       "24. 7.77\n",
       "25. 7.95\n",
       "26. 7.95\n",
       "27. 7.95\n",
       "28. 7.95\n",
       "29. 7.99\n",
       "30. 7.99\n",
       "31. 7.99\n",
       "32. 8\n",
       "33. 8.42\n",
       "34. 8.95\n",
       "35. 8.95\n",
       "36. 8.95\n",
       "37. 8.99\n",
       "38. 8.99\n",
       "39. 8.99\n",
       "40. 8.99\n",
       "41. 8.99\n",
       "42. 8.99\n",
       "43. 9.95\n",
       "44. 9.99\n",
       "45. 9.99\n",
       "46. 9.99\n",
       "47. 9.99\n",
       "48. 9.99\n",
       "49. 9.99\n",
       "50. 9.99\n",
       "51. 9.99\n",
       "52. 10.65\n",
       "53. 10.95\n",
       "54. 10.99\n",
       "55. 11\n",
       "56. 11\n",
       "57. 11.5\n",
       "58. 11.94\n",
       "59. 11.99\n",
       "60. 11.99\n",
       "61. 12\n",
       "62. 12\n",
       "63. 12\n",
       "64. 12\n",
       "65. 12\n",
       "66. 12.14\n",
       "67. 12.6\n",
       "68. 12.95\n",
       "69. 12.95\n",
       "70. 12.95\n",
       "71. 12.99\n",
       "72. 12.99\n",
       "73. 13\n",
       "74. 13\n",
       "75. 13\n",
       "76. 13\n",
       "77. 13\n",
       "78. 13.07\n",
       "79. 13.29\n",
       "80. 13.83\n",
       "81. 13.95\n",
       "82. 13.95\n",
       "83. 13.95\n",
       "84. 13.95\n",
       "85. 13.95\n",
       "86. 13.95\n",
       "87. 13.99\n",
       "88. 13.99\n",
       "89. 13.99\n",
       "90. 13.99\n",
       "91. 13.99\n",
       "92. 14\n",
       "93. 14\n",
       "94. 14\n",
       "95. 14\n",
       "96. 14\n",
       "97. 14\n",
       "98. 14\n",
       "99. 14\n",
       "100. 14\n",
       "101. 14\n",
       "102. 14\n",
       "103. 14\n",
       "104. 14\n",
       "105. 14.1\n",
       "106. 14.54\n",
       "107. 14.95\n",
       "108. 14.95\n",
       "109. 14.95\n",
       "110. 14.95\n",
       "111. 14.95\n",
       "112. 14.95\n",
       "113. 14.95\n",
       "114. 14.95\n",
       "115. 14.95\n",
       "116. 14.95\n",
       "117. 14.95\n",
       "118. 14.95\n",
       "119. 14.95\n",
       "120. 14.95\n",
       "121. 14.95\n",
       "122. 14.95\n",
       "123. 14.95\n",
       "124. 14.95\n",
       "125. 14.95\n",
       "126. 14.95\n",
       "127. 14.99\n",
       "128. 14.99\n",
       "129. 14.99\n",
       "130. 14.99\n",
       "131. 14.99\n",
       "132. 14.99\n",
       "133. 14.99\n",
       "134. 15\n",
       "135. 15\n",
       "136. 15\n",
       "137. 15\n",
       "138. 15\n",
       "139. 15\n",
       "140. 15\n",
       "141. 15\n",
       "142. 15\n",
       "143. 15\n",
       "144. 15\n",
       "145. 15\n",
       "146. 15\n",
       "147. 15\n",
       "148. 15\n",
       "149. 15\n",
       "150. 15\n",
       "151. 15\n",
       "152. 15\n",
       "153. 15\n",
       "154. 15\n",
       "155. 15\n",
       "156. 15\n",
       "157. 15\n",
       "158. 15\n",
       "159. 15\n",
       "160. 15\n",
       "161. 15\n",
       "162. 15\n",
       "163. 15\n",
       "164. 15\n",
       "165. 15\n",
       "166. 15\n",
       "167. 15\n",
       "168. 15\n",
       "169. 15\n",
       "170. 15.44\n",
       "171. 15.95\n",
       "172. 15.95\n",
       "173. 15.95\n",
       "174. 15.95\n",
       "175. 15.95\n",
       "176. 15.95\n",
       "177. 15.95\n",
       "178. 15.95\n",
       "179. 15.95\n",
       "180. 15.95\n",
       "181. 15.95\n",
       "182. 15.95\n",
       "183. 15.99\n",
       "184. 15.99\n",
       "185. 15.99\n",
       "186. 15.99\n",
       "187. 16\n",
       "188. 16\n",
       "189. 16\n",
       "190. 16\n",
       "191. 16\n",
       "192. 16\n",
       "193. 16\n",
       "194. 16\n",
       "195. 16\n",
       "196. 16\n",
       "197. 16\n",
       "198. 16\n",
       "199. 16\n",
       "200. 16\n",
       "201. 16\n",
       "202. 16\n",
       "203. 16\n",
       "204. 16\n",
       "205. 16\n",
       "206. 16\n",
       "207. 16\n",
       "208. 16.95\n",
       "209. 16.95\n",
       "210. 16.99\n",
       "211. 16.99\n",
       "212. 16.99\n",
       "213. 16.99\n",
       "214. 16.99\n",
       "215. 16.99\n",
       "216. 17\n",
       "217. 17\n",
       "218. 17\n",
       "219. 17\n",
       "220. 17\n",
       "221. 17\n",
       "222. 17\n",
       "223. 17.95\n",
       "224. 17.99\n",
       "225. 17.99\n",
       "226. 17.99\n",
       "227. 17.99\n",
       "228. 17.99\n",
       "229. 17.99\n",
       "230. 17.99\n",
       "231. 17.99\n",
       "232. 17.99\n",
       "233. 17.99\n",
       "234. 18\n",
       "235. 18\n",
       "236. 18\n",
       "237. 18\n",
       "238. 18.5797530864198\n",
       "239. 18.95\n",
       "240. 18.99\n",
       "241. 18.99\n",
       "242. 18.99\n",
       "243. 19.73\n",
       "244. 19.95\n",
       "245. 19.95\n",
       "246. 19.99\n",
       "247. 20\n",
       "248. 20\n",
       "249. 20\n",
       "250. 20\n",
       "251. 20\n",
       "252. 20\n",
       "253. 20\n",
       "254. 20\n",
       "255. 20\n",
       "256. 21\n",
       "257. 21.1\n",
       "258. 21.99\n",
       "259. 22\n",
       "260. 22\n",
       "261. 22\n",
       "262. 22.99\n",
       "263. 24\n",
       "264. 24\n",
       "265. 24\n",
       "266. 24.95\n",
       "267. 24.95\n",
       "268. 24.95\n",
       "269. 24.99\n",
       "270. 24.99\n",
       "271. 24.99\n",
       "272. 25\n",
       "273. 25\n",
       "274. 25\n",
       "275. 25\n",
       "276. 25\n",
       "277. 25.05\n",
       "278. 25.95\n",
       "279. 26\n",
       "280. 26\n",
       "281. 26\n",
       "282. 26\n",
       "283. 26\n",
       "284. 26.95\n",
       "285. 26.95\n",
       "286. 26.95\n",
       "287. 26.95\n",
       "288. 26.99\n",
       "289. 26.99\n",
       "290. 26.99\n",
       "291. 26.99\n",
       "292. 27\n",
       "293. 27.55\n",
       "294. 27.95\n",
       "295. 27.99\n",
       "296. 27.99\n",
       "297. 28\n",
       "298. 28\n",
       "299. 28.95\n",
       "300. 29.5\n",
       "301. 30\n",
       "302. 30\n",
       "303. 30\n",
       "304. 30\n",
       "305. 30.5\n",
       "306. 32.95\n",
       "307. 34.8\n",
       "308. 35\n",
       "309. 35\n",
       "310. 35.75\n",
       "311. 35.75\n",
       "312. 35.95\n",
       "313. 37.5\n",
       "314. 39.95\n",
       "315. 39.95\n",
       "316. 48.2\n",
       "317. 48.2\n",
       "318. 53.95\n",
       "319. 70.8\n",
       "320. 75\n",
       "321. 86.95\n",
       "322. 97.5\n",
       "323. 98.95\n",
       "324. 114.95\n",
       "325. 139.95\n",
       "\n",
       "\n"
      ],
      "text/plain": [
       "  [1]   1.50000   2.00000   3.95000   4.99000   4.99000   5.95000   5.99000\n",
       "  [8]   5.99000   5.99000   6.69000   6.95000   6.95000   6.95000   6.99000\n",
       " [15]   6.99000   6.99000   6.99000   6.99000   6.99000   6.99000   6.99000\n",
       " [22]   7.50000   7.75000   7.77000   7.95000   7.95000   7.95000   7.95000\n",
       " [29]   7.99000   7.99000   7.99000   8.00000   8.42000   8.95000   8.95000\n",
       " [36]   8.95000   8.99000   8.99000   8.99000   8.99000   8.99000   8.99000\n",
       " [43]   9.95000   9.99000   9.99000   9.99000   9.99000   9.99000   9.99000\n",
       " [50]   9.99000   9.99000  10.65000  10.95000  10.99000  11.00000  11.00000\n",
       " [57]  11.50000  11.94000  11.99000  11.99000  12.00000  12.00000  12.00000\n",
       " [64]  12.00000  12.00000  12.14000  12.60000  12.95000  12.95000  12.95000\n",
       " [71]  12.99000  12.99000  13.00000  13.00000  13.00000  13.00000  13.00000\n",
       " [78]  13.07000  13.29000  13.83000  13.95000  13.95000  13.95000  13.95000\n",
       " [85]  13.95000  13.95000  13.99000  13.99000  13.99000  13.99000  13.99000\n",
       " [92]  14.00000  14.00000  14.00000  14.00000  14.00000  14.00000  14.00000\n",
       " [99]  14.00000  14.00000  14.00000  14.00000  14.00000  14.00000  14.10000\n",
       "[106]  14.54000  14.95000  14.95000  14.95000  14.95000  14.95000  14.95000\n",
       "[113]  14.95000  14.95000  14.95000  14.95000  14.95000  14.95000  14.95000\n",
       "[120]  14.95000  14.95000  14.95000  14.95000  14.95000  14.95000  14.95000\n",
       "[127]  14.99000  14.99000  14.99000  14.99000  14.99000  14.99000  14.99000\n",
       "[134]  15.00000  15.00000  15.00000  15.00000  15.00000  15.00000  15.00000\n",
       "[141]  15.00000  15.00000  15.00000  15.00000  15.00000  15.00000  15.00000\n",
       "[148]  15.00000  15.00000  15.00000  15.00000  15.00000  15.00000  15.00000\n",
       "[155]  15.00000  15.00000  15.00000  15.00000  15.00000  15.00000  15.00000\n",
       "[162]  15.00000  15.00000  15.00000  15.00000  15.00000  15.00000  15.00000\n",
       "[169]  15.00000  15.44000  15.95000  15.95000  15.95000  15.95000  15.95000\n",
       "[176]  15.95000  15.95000  15.95000  15.95000  15.95000  15.95000  15.95000\n",
       "[183]  15.99000  15.99000  15.99000  15.99000  16.00000  16.00000  16.00000\n",
       "[190]  16.00000  16.00000  16.00000  16.00000  16.00000  16.00000  16.00000\n",
       "[197]  16.00000  16.00000  16.00000  16.00000  16.00000  16.00000  16.00000\n",
       "[204]  16.00000  16.00000  16.00000  16.00000  16.95000  16.95000  16.99000\n",
       "[211]  16.99000  16.99000  16.99000  16.99000  16.99000  17.00000  17.00000\n",
       "[218]  17.00000  17.00000  17.00000  17.00000  17.00000  17.95000  17.99000\n",
       "[225]  17.99000  17.99000  17.99000  17.99000  17.99000  17.99000  17.99000\n",
       "[232]  17.99000  17.99000  18.00000  18.00000  18.00000  18.00000  18.57975\n",
       "[239]  18.95000  18.99000  18.99000  18.99000  19.73000  19.95000  19.95000\n",
       "[246]  19.99000  20.00000  20.00000  20.00000  20.00000  20.00000  20.00000\n",
       "[253]  20.00000  20.00000  20.00000  21.00000  21.10000  21.99000  22.00000\n",
       "[260]  22.00000  22.00000  22.99000  24.00000  24.00000  24.00000  24.95000\n",
       "[267]  24.95000  24.95000  24.99000  24.99000  24.99000  25.00000  25.00000\n",
       "[274]  25.00000  25.00000  25.00000  25.05000  25.95000  26.00000  26.00000\n",
       "[281]  26.00000  26.00000  26.00000  26.95000  26.95000  26.95000  26.95000\n",
       "[288]  26.99000  26.99000  26.99000  26.99000  27.00000  27.55000  27.95000\n",
       "[295]  27.99000  27.99000  28.00000  28.00000  28.95000  29.50000  30.00000\n",
       "[302]  30.00000  30.00000  30.00000  30.50000  32.95000  34.80000  35.00000\n",
       "[309]  35.00000  35.75000  35.75000  35.95000  37.50000  39.95000  39.95000\n",
       "[316]  48.20000  48.20000  53.95000  70.80000  75.00000  86.95000  97.50000\n",
       "[323]  98.95000 114.95000 139.95000"
      ]
     },
     "metadata": {},
     "output_type": "display_data"
    }
   ],
   "source": [
    "sort(df$lprice)"
   ]
  },
  {
   "cell_type": "markdown",
   "metadata": {
    "nbgrader": {
     "grade": false,
     "grade_id": "cell-a04f79d0a3404a7f",
     "locked": true,
     "schema_version": 3,
     "solution": false,
     "task": false
    }
   },
   "source": [
    "#### Code the `cover`  varible as a factor."
   ]
  },
  {
   "cell_type": "code",
   "execution_count": 40,
   "metadata": {
    "nbgrader": {
     "grade": false,
     "grade_id": "cell-00b558fade12e38d",
     "locked": false,
     "schema_version": 3,
     "solution": true,
     "task": false
    }
   },
   "outputs": [],
   "source": [
    "### BEGIN SOLUTION HERE\n",
    "df$cover = as.factor(df$cover)\n",
    "### END SOLUTION HERE"
   ]
  },
  {
   "cell_type": "code",
   "execution_count": 41,
   "metadata": {
    "nbgrader": {
     "grade": true,
     "grade_id": "cell-d3b231c19c8662f2",
     "locked": true,
     "points": 1,
     "schema_version": 3,
     "solution": false,
     "task": false
    }
   },
   "outputs": [],
   "source": [
    "### BEGIN HIDDEN TESTS\n",
    "test_that(\"Is cover a factor?\", {expect_is(df$cover, \"factor\")})\n",
    "### END HIDDEN TESTS"
   ]
  },
  {
   "cell_type": "markdown",
   "metadata": {
    "nbgrader": {
     "grade": false,
     "grade_id": "cell-ddabb3f4c0f62f4f",
     "locked": true,
     "schema_version": 3,
     "solution": false,
     "task": false
    }
   },
   "source": [
    "#### Note that you could provide more descriptive labels for the levels of this factor (note that `H` = \"Hardcover\" and `P` = \"Paperback\"). The easiest way do do this is with the `levels()` function: `levels(x) = value`. "
   ]
  },
  {
   "cell_type": "code",
   "execution_count": 42,
   "metadata": {},
   "outputs": [
    {
     "data": {
      "text/plain": [
       "     aprice           lprice           pages           width      \n",
       " Min.   :  0.77   Min.   :  1.50   Min.   : 24.0   Min.   :4.100  \n",
       " 1st Qu.:  8.60   1st Qu.: 13.95   1st Qu.:208.0   1st Qu.:5.200  \n",
       " Median : 10.20   Median : 15.00   Median :320.0   Median :5.400  \n",
       " Mean   : 13.33   Mean   : 18.58   Mean   :335.9   Mean   :5.585  \n",
       " 3rd Qu.: 13.13   3rd Qu.: 19.95   3rd Qu.:416.0   3rd Qu.:5.900  \n",
       " Max.   :139.95   Max.   :139.95   Max.   :896.0   Max.   :9.500  \n",
       "     weight          height           thick              cover    \n",
       " Min.   : 1.20   Min.   : 5.100   Min.   :0.1000   Hardcover: 89  \n",
       " 1st Qu.: 7.80   1st Qu.: 7.900   1st Qu.:0.6000   Paperback:236  \n",
       " Median :11.20   Median : 8.100   Median :0.9000                  \n",
       " Mean   :12.49   Mean   : 8.163   Mean   :0.9077                  \n",
       " 3rd Qu.:16.00   3rd Qu.: 8.500   3rd Qu.:1.1000                  \n",
       " Max.   :35.20   Max.   :12.100   Max.   :2.1000                  "
      ]
     },
     "metadata": {},
     "output_type": "display_data"
    }
   ],
   "source": [
    "levels(df$cover) = c(\"Hardcover\",\"Paperback\")\n",
    "summary(df)"
   ]
  },
  {
   "cell_type": "markdown",
   "metadata": {
    "nbgrader": {
     "grade": false,
     "grade_id": "cell-0c5f9ab6045d4f7a",
     "locked": true,
     "schema_version": 3,
     "solution": false,
     "task": false
    }
   },
   "source": [
    "#### Print a histogram of the `pages` variable. Comment on it's shape."
   ]
  },
  {
   "cell_type": "code",
   "execution_count": 43,
   "metadata": {
    "nbgrader": {
     "grade": true,
     "grade_id": "cell-e985293a62940ef7",
     "locked": false,
     "points": 0,
     "schema_version": 3,
     "solution": true,
     "task": false
    }
   },
   "outputs": [
    {
     "data": {
      "image/png": "[encoded data removed]",
      "text/plain": [
       "Plot with title “”"
      ]
     },
     "metadata": {},
     "output_type": "display_data"
    }
   ],
   "source": [
    "hist(df$pages,xlab=\"Amazon Price\",main=\"\")"
   ]
  },
  {
   "cell_type": "markdown",
   "metadata": {
    "nbgrader": {
     "grade": true,
     "grade_id": "cell-c092ae95b3dd2f02",
     "locked": false,
     "points": 0,
     "schema_version": 3,
     "solution": true,
     "task": false
    }
   },
   "source": [
    "The histogram is somewhat bellshaped, but there is certainly skew in the data, with a long right tail."
   ]
  },
  {
   "cell_type": "markdown",
   "metadata": {
    "nbgrader": {
     "grade": false,
     "grade_id": "cell-bcf9df5a9a9f9f9a",
     "locked": true,
     "schema_version": 3,
     "solution": false,
     "task": false
    }
   },
   "source": [
    "#### Use the `plot()` function to produce a scatterplot of `aprice` ($y$) against `lprice` ($x$). What do you notice about this plot?"
   ]
  },
  {
   "cell_type": "code",
   "execution_count": 44,
   "metadata": {
    "nbgrader": {
     "grade": true,
     "grade_id": "cell-10715440cbfc4328",
     "locked": false,
     "points": 0,
     "schema_version": 3,
     "solution": true,
     "task": false
    }
   },
   "outputs": [
    {
     "data": {
      "image/png": "[encoded data removed]",
      "text/plain": [
       "plot without title"
      ]
     },
     "metadata": {},
     "output_type": "display_data"
    }
   ],
   "source": [
    "with(df, plot(lprice, aprice))"
   ]
  },
  {
   "cell_type": "markdown",
   "metadata": {
    "nbgrader": {
     "grade": true,
     "grade_id": "cell-8a92f7e5688ebef9",
     "locked": false,
     "points": 0,
     "schema_version": 3,
     "solution": true,
     "task": false
    }
   },
   "source": [
    "The relationship between these variables looks linear, but there is at least one outlier at roughly $(20,120)$. Could that be the value that we imputed?!"
   ]
  },
  {
   "cell_type": "markdown",
   "metadata": {
    "nbgrader": {
     "grade": false,
     "grade_id": "cell-c5aa494c40ce32a9",
     "locked": true,
     "schema_version": 3,
     "solution": false,
     "task": false
    }
   },
   "source": [
    "#### Use the `boxplot()` function to produce a boxplot of `pages` conditioned on `cover`. Interpret this plot."
   ]
  },
  {
   "cell_type": "code",
   "execution_count": 45,
   "metadata": {
    "nbgrader": {
     "grade": true,
     "grade_id": "cell-75862cff4a93c8f5",
     "locked": false,
     "points": 0,
     "schema_version": 3,
     "solution": true,
     "task": false
    }
   },
   "outputs": [
    {
     "data": {
      "image/png": "[encoded data removed]",
      "text/plain": [
       "plot without title"
      ]
     },
     "metadata": {},
     "output_type": "display_data"
    }
   ],
   "source": [
    "plot(pages ~ cover, data = df)"
   ]
  },
  {
   "cell_type": "markdown",
   "metadata": {
    "nbgrader": {
     "grade": true,
     "grade_id": "cell-d3bce347cdf5a62e",
     "locked": false,
     "points": 0,
     "schema_version": 3,
     "solution": true,
     "task": false
    }
   },
   "source": [
    "The average number of pages appears to be a bit higher in hardcover books than in paperback books. These distributions are skewed a bit, with a long tail for high values of `pages`. We note that there are two potential outliers in the `Hardcover` group, and four in the `Paperback` group."
   ]
  },
  {
   "cell_type": "markdown",
   "metadata": {
    "nbgrader": {
     "grade": false,
     "grade_id": "cell-6132102c0a984443",
     "locked": true,
     "schema_version": 3,
     "solution": false,
     "task": false
    }
   },
   "source": [
    "Note another way to read data from the web..."
   ]
  },
  {
   "cell_type": "code",
   "execution_count": 46,
   "metadata": {
    "nbgrader": {
     "grade": false,
     "grade_id": "cell-6982a3c861737ad0",
     "locked": true,
     "schema_version": 3,
     "solution": false,
     "task": false
    },
    "scrolled": true
   },
   "outputs": [
    {
     "data": {
      "text/html": [
       "<table>\n",
       "<thead><tr><th scope=col>V1</th><th scope=col>V2</th><th scope=col>V3</th><th scope=col>V4</th><th scope=col>V5</th></tr></thead>\n",
       "<tbody>\n",
       "\t<tr><td> 1   </td><td>307  </td><td> 930 </td><td>36.58</td><td>0    </td></tr>\n",
       "\t<tr><td> 2   </td><td>307  </td><td> 940 </td><td>36.73</td><td>0    </td></tr>\n",
       "\t<tr><td> 3   </td><td>307  </td><td> 950 </td><td>36.93</td><td>0    </td></tr>\n",
       "\t<tr><td> 4   </td><td>307  </td><td>1000 </td><td>37.15</td><td>0    </td></tr>\n",
       "\t<tr><td> 5   </td><td>307  </td><td>1010 </td><td>37.23</td><td>0    </td></tr>\n",
       "\t<tr><td> 6   </td><td>307  </td><td>1020 </td><td>37.24</td><td>0    </td></tr>\n",
       "\t<tr><td> 7   </td><td>307  </td><td>1030 </td><td>37.24</td><td>0    </td></tr>\n",
       "\t<tr><td> 8   </td><td>307  </td><td>1040 </td><td>36.90</td><td>0    </td></tr>\n",
       "\t<tr><td> 9   </td><td>307  </td><td>1050 </td><td>36.95</td><td>0    </td></tr>\n",
       "\t<tr><td>10   </td><td>307  </td><td>1100 </td><td>36.89</td><td>0    </td></tr>\n",
       "\t<tr><td>11   </td><td>307  </td><td>1110 </td><td>36.95</td><td>0    </td></tr>\n",
       "\t<tr><td>12   </td><td>307  </td><td>1120 </td><td>37.00</td><td>0    </td></tr>\n",
       "\t<tr><td>13   </td><td>307  </td><td>1130 </td><td>36.90</td><td>0    </td></tr>\n",
       "\t<tr><td>14   </td><td>307  </td><td>1140 </td><td>36.99</td><td>0    </td></tr>\n",
       "\t<tr><td>15   </td><td>307  </td><td>1150 </td><td>36.99</td><td>0    </td></tr>\n",
       "\t<tr><td>16   </td><td>307  </td><td>1200 </td><td>37.01</td><td>0    </td></tr>\n",
       "\t<tr><td>17   </td><td>307  </td><td>1210 </td><td>37.04</td><td>0    </td></tr>\n",
       "\t<tr><td>18   </td><td>307  </td><td>1220 </td><td>37.04</td><td>0    </td></tr>\n",
       "\t<tr><td>19   </td><td>307  </td><td>1230 </td><td>37.14</td><td>0    </td></tr>\n",
       "\t<tr><td>20   </td><td>307  </td><td>1240 </td><td>37.07</td><td>0    </td></tr>\n",
       "\t<tr><td>21   </td><td>307  </td><td>1250 </td><td>36.98</td><td>0    </td></tr>\n",
       "\t<tr><td>22   </td><td>307  </td><td>1300 </td><td>37.01</td><td>0    </td></tr>\n",
       "\t<tr><td>23   </td><td>307  </td><td>1310 </td><td>36.97</td><td>0    </td></tr>\n",
       "\t<tr><td>24   </td><td>307  </td><td>1320 </td><td>36.97</td><td>0    </td></tr>\n",
       "\t<tr><td>25   </td><td>307  </td><td>1330 </td><td>37.12</td><td>0    </td></tr>\n",
       "\t<tr><td>26   </td><td>307  </td><td>1340 </td><td>37.13</td><td>0    </td></tr>\n",
       "\t<tr><td>27   </td><td>307  </td><td>1350 </td><td>37.14</td><td>0    </td></tr>\n",
       "\t<tr><td>28   </td><td>307  </td><td>1400 </td><td>37.15</td><td>0    </td></tr>\n",
       "\t<tr><td>29   </td><td>307  </td><td>1410 </td><td>37.17</td><td>0    </td></tr>\n",
       "\t<tr><td>30   </td><td>307  </td><td>1420 </td><td>37.12</td><td>0    </td></tr>\n",
       "\t<tr><td>...</td><td>...</td><td>...</td><td>...</td><td>...</td></tr>\n",
       "\t<tr><td> 71  </td><td>307  </td><td>2110 </td><td>37.95</td><td>1    </td></tr>\n",
       "\t<tr><td> 72  </td><td>307  </td><td>2120 </td><td>37.95</td><td>1    </td></tr>\n",
       "\t<tr><td> 73  </td><td>307  </td><td>2130 </td><td>37.76</td><td>1    </td></tr>\n",
       "\t<tr><td> 74  </td><td>307  </td><td>2140 </td><td>37.60</td><td>1    </td></tr>\n",
       "\t<tr><td> 75  </td><td>307  </td><td>2150 </td><td>37.89</td><td>1    </td></tr>\n",
       "\t<tr><td> 76  </td><td>307  </td><td>2200 </td><td>37.86</td><td>1    </td></tr>\n",
       "\t<tr><td> 77  </td><td>307  </td><td>2210 </td><td>37.71</td><td>1    </td></tr>\n",
       "\t<tr><td> 78  </td><td>307  </td><td>2220 </td><td>37.78</td><td>1    </td></tr>\n",
       "\t<tr><td> 79  </td><td>307  </td><td>2230 </td><td>37.82</td><td>1    </td></tr>\n",
       "\t<tr><td> 80  </td><td>307  </td><td>2240 </td><td>37.76</td><td>1    </td></tr>\n",
       "\t<tr><td> 81  </td><td>307  </td><td>2250 </td><td>37.81</td><td>1    </td></tr>\n",
       "\t<tr><td> 82  </td><td>307  </td><td>2300 </td><td>37.84</td><td>1    </td></tr>\n",
       "\t<tr><td> 83  </td><td>307  </td><td>2310 </td><td>38.01</td><td>1    </td></tr>\n",
       "\t<tr><td> 84  </td><td>307  </td><td>2320 </td><td>38.10</td><td>1    </td></tr>\n",
       "\t<tr><td> 85  </td><td>307  </td><td>2330 </td><td>38.15</td><td>1    </td></tr>\n",
       "\t<tr><td> 86  </td><td>307  </td><td>2340 </td><td>37.92</td><td>1    </td></tr>\n",
       "\t<tr><td> 87  </td><td>307  </td><td>2350 </td><td>37.64</td><td>1    </td></tr>\n",
       "\t<tr><td> 88  </td><td>308  </td><td>   0 </td><td>37.70</td><td>1    </td></tr>\n",
       "\t<tr><td> 89  </td><td>308  </td><td>  10 </td><td>37.46</td><td>1    </td></tr>\n",
       "\t<tr><td> 90  </td><td>308  </td><td>  20 </td><td>37.41</td><td>1    </td></tr>\n",
       "\t<tr><td> 91  </td><td>308  </td><td>  30 </td><td>37.46</td><td>1    </td></tr>\n",
       "\t<tr><td> 92  </td><td>308  </td><td>  40 </td><td>37.56</td><td>1    </td></tr>\n",
       "\t<tr><td> 93  </td><td>308  </td><td>  50 </td><td>37.55</td><td>1    </td></tr>\n",
       "\t<tr><td> 94  </td><td>308  </td><td> 100 </td><td>37.75</td><td>1    </td></tr>\n",
       "\t<tr><td> 95  </td><td>308  </td><td> 110 </td><td>37.76</td><td>1    </td></tr>\n",
       "\t<tr><td> 96  </td><td>308  </td><td> 120 </td><td>37.73</td><td>1    </td></tr>\n",
       "\t<tr><td> 97  </td><td>308  </td><td> 130 </td><td>37.77</td><td>1    </td></tr>\n",
       "\t<tr><td> 98  </td><td>308  </td><td> 140 </td><td>38.01</td><td>1    </td></tr>\n",
       "\t<tr><td> 99  </td><td>308  </td><td> 150 </td><td>38.04</td><td>1    </td></tr>\n",
       "\t<tr><td>100  </td><td>308  </td><td> 200 </td><td>38.07</td><td>1    </td></tr>\n",
       "</tbody>\n",
       "</table>\n"
      ],
      "text/latex": [
       "\\begin{tabular}{r|lllll}\n",
       " V1 & V2 & V3 & V4 & V5\\\\\n",
       "\\hline\n",
       "\t  1    & 307   &  930  & 36.58 & 0    \\\\\n",
       "\t  2    & 307   &  940  & 36.73 & 0    \\\\\n",
       "\t  3    & 307   &  950  & 36.93 & 0    \\\\\n",
       "\t  4    & 307   & 1000  & 37.15 & 0    \\\\\n",
       "\t  5    & 307   & 1010  & 37.23 & 0    \\\\\n",
       "\t  6    & 307   & 1020  & 37.24 & 0    \\\\\n",
       "\t  7    & 307   & 1030  & 37.24 & 0    \\\\\n",
       "\t  8    & 307   & 1040  & 36.90 & 0    \\\\\n",
       "\t  9    & 307   & 1050  & 36.95 & 0    \\\\\n",
       "\t 10    & 307   & 1100  & 36.89 & 0    \\\\\n",
       "\t 11    & 307   & 1110  & 36.95 & 0    \\\\\n",
       "\t 12    & 307   & 1120  & 37.00 & 0    \\\\\n",
       "\t 13    & 307   & 1130  & 36.90 & 0    \\\\\n",
       "\t 14    & 307   & 1140  & 36.99 & 0    \\\\\n",
       "\t 15    & 307   & 1150  & 36.99 & 0    \\\\\n",
       "\t 16    & 307   & 1200  & 37.01 & 0    \\\\\n",
       "\t 17    & 307   & 1210  & 37.04 & 0    \\\\\n",
       "\t 18    & 307   & 1220  & 37.04 & 0    \\\\\n",
       "\t 19    & 307   & 1230  & 37.14 & 0    \\\\\n",
       "\t 20    & 307   & 1240  & 37.07 & 0    \\\\\n",
       "\t 21    & 307   & 1250  & 36.98 & 0    \\\\\n",
       "\t 22    & 307   & 1300  & 37.01 & 0    \\\\\n",
       "\t 23    & 307   & 1310  & 36.97 & 0    \\\\\n",
       "\t 24    & 307   & 1320  & 36.97 & 0    \\\\\n",
       "\t 25    & 307   & 1330  & 37.12 & 0    \\\\\n",
       "\t 26    & 307   & 1340  & 37.13 & 0    \\\\\n",
       "\t 27    & 307   & 1350  & 37.14 & 0    \\\\\n",
       "\t 28    & 307   & 1400  & 37.15 & 0    \\\\\n",
       "\t 29    & 307   & 1410  & 37.17 & 0    \\\\\n",
       "\t 30    & 307   & 1420  & 37.12 & 0    \\\\\n",
       "\t ... & ... & ... & ... & ...\\\\\n",
       "\t  71   & 307   & 2110  & 37.95 & 1    \\\\\n",
       "\t  72   & 307   & 2120  & 37.95 & 1    \\\\\n",
       "\t  73   & 307   & 2130  & 37.76 & 1    \\\\\n",
       "\t  74   & 307   & 2140  & 37.60 & 1    \\\\\n",
       "\t  75   & 307   & 2150  & 37.89 & 1    \\\\\n",
       "\t  76   & 307   & 2200  & 37.86 & 1    \\\\\n",
       "\t  77   & 307   & 2210  & 37.71 & 1    \\\\\n",
       "\t  78   & 307   & 2220  & 37.78 & 1    \\\\\n",
       "\t  79   & 307   & 2230  & 37.82 & 1    \\\\\n",
       "\t  80   & 307   & 2240  & 37.76 & 1    \\\\\n",
       "\t  81   & 307   & 2250  & 37.81 & 1    \\\\\n",
       "\t  82   & 307   & 2300  & 37.84 & 1    \\\\\n",
       "\t  83   & 307   & 2310  & 38.01 & 1    \\\\\n",
       "\t  84   & 307   & 2320  & 38.10 & 1    \\\\\n",
       "\t  85   & 307   & 2330  & 38.15 & 1    \\\\\n",
       "\t  86   & 307   & 2340  & 37.92 & 1    \\\\\n",
       "\t  87   & 307   & 2350  & 37.64 & 1    \\\\\n",
       "\t  88   & 308   &    0  & 37.70 & 1    \\\\\n",
       "\t  89   & 308   &   10  & 37.46 & 1    \\\\\n",
       "\t  90   & 308   &   20  & 37.41 & 1    \\\\\n",
       "\t  91   & 308   &   30  & 37.46 & 1    \\\\\n",
       "\t  92   & 308   &   40  & 37.56 & 1    \\\\\n",
       "\t  93   & 308   &   50  & 37.55 & 1    \\\\\n",
       "\t  94   & 308   &  100  & 37.75 & 1    \\\\\n",
       "\t  95   & 308   &  110  & 37.76 & 1    \\\\\n",
       "\t  96   & 308   &  120  & 37.73 & 1    \\\\\n",
       "\t  97   & 308   &  130  & 37.77 & 1    \\\\\n",
       "\t  98   & 308   &  140  & 38.01 & 1    \\\\\n",
       "\t  99   & 308   &  150  & 38.04 & 1    \\\\\n",
       "\t 100   & 308   &  200  & 38.07 & 1    \\\\\n",
       "\\end{tabular}\n"
      ],
      "text/markdown": [
       "\n",
       "| V1 | V2 | V3 | V4 | V5 |\n",
       "|---|---|---|---|---|\n",
       "|  1    | 307   |  930  | 36.58 | 0     |\n",
       "|  2    | 307   |  940  | 36.73 | 0     |\n",
       "|  3    | 307   |  950  | 36.93 | 0     |\n",
       "|  4    | 307   | 1000  | 37.15 | 0     |\n",
       "|  5    | 307   | 1010  | 37.23 | 0     |\n",
       "|  6    | 307   | 1020  | 37.24 | 0     |\n",
       "|  7    | 307   | 1030  | 37.24 | 0     |\n",
       "|  8    | 307   | 1040  | 36.90 | 0     |\n",
       "|  9    | 307   | 1050  | 36.95 | 0     |\n",
       "| 10    | 307   | 1100  | 36.89 | 0     |\n",
       "| 11    | 307   | 1110  | 36.95 | 0     |\n",
       "| 12    | 307   | 1120  | 37.00 | 0     |\n",
       "| 13    | 307   | 1130  | 36.90 | 0     |\n",
       "| 14    | 307   | 1140  | 36.99 | 0     |\n",
       "| 15    | 307   | 1150  | 36.99 | 0     |\n",
       "| 16    | 307   | 1200  | 37.01 | 0     |\n",
       "| 17    | 307   | 1210  | 37.04 | 0     |\n",
       "| 18    | 307   | 1220  | 37.04 | 0     |\n",
       "| 19    | 307   | 1230  | 37.14 | 0     |\n",
       "| 20    | 307   | 1240  | 37.07 | 0     |\n",
       "| 21    | 307   | 1250  | 36.98 | 0     |\n",
       "| 22    | 307   | 1300  | 37.01 | 0     |\n",
       "| 23    | 307   | 1310  | 36.97 | 0     |\n",
       "| 24    | 307   | 1320  | 36.97 | 0     |\n",
       "| 25    | 307   | 1330  | 37.12 | 0     |\n",
       "| 26    | 307   | 1340  | 37.13 | 0     |\n",
       "| 27    | 307   | 1350  | 37.14 | 0     |\n",
       "| 28    | 307   | 1400  | 37.15 | 0     |\n",
       "| 29    | 307   | 1410  | 37.17 | 0     |\n",
       "| 30    | 307   | 1420  | 37.12 | 0     |\n",
       "| ... | ... | ... | ... | ... |\n",
       "|  71   | 307   | 2110  | 37.95 | 1     |\n",
       "|  72   | 307   | 2120  | 37.95 | 1     |\n",
       "|  73   | 307   | 2130  | 37.76 | 1     |\n",
       "|  74   | 307   | 2140  | 37.60 | 1     |\n",
       "|  75   | 307   | 2150  | 37.89 | 1     |\n",
       "|  76   | 307   | 2200  | 37.86 | 1     |\n",
       "|  77   | 307   | 2210  | 37.71 | 1     |\n",
       "|  78   | 307   | 2220  | 37.78 | 1     |\n",
       "|  79   | 307   | 2230  | 37.82 | 1     |\n",
       "|  80   | 307   | 2240  | 37.76 | 1     |\n",
       "|  81   | 307   | 2250  | 37.81 | 1     |\n",
       "|  82   | 307   | 2300  | 37.84 | 1     |\n",
       "|  83   | 307   | 2310  | 38.01 | 1     |\n",
       "|  84   | 307   | 2320  | 38.10 | 1     |\n",
       "|  85   | 307   | 2330  | 38.15 | 1     |\n",
       "|  86   | 307   | 2340  | 37.92 | 1     |\n",
       "|  87   | 307   | 2350  | 37.64 | 1     |\n",
       "|  88   | 308   |    0  | 37.70 | 1     |\n",
       "|  89   | 308   |   10  | 37.46 | 1     |\n",
       "|  90   | 308   |   20  | 37.41 | 1     |\n",
       "|  91   | 308   |   30  | 37.46 | 1     |\n",
       "|  92   | 308   |   40  | 37.56 | 1     |\n",
       "|  93   | 308   |   50  | 37.55 | 1     |\n",
       "|  94   | 308   |  100  | 37.75 | 1     |\n",
       "|  95   | 308   |  110  | 37.76 | 1     |\n",
       "|  96   | 308   |  120  | 37.73 | 1     |\n",
       "|  97   | 308   |  130  | 37.77 | 1     |\n",
       "|  98   | 308   |  140  | 38.01 | 1     |\n",
       "|  99   | 308   |  150  | 38.04 | 1     |\n",
       "| 100   | 308   |  200  | 38.07 | 1     |\n",
       "\n"
      ],
      "text/plain": [
       "    V1  V2  V3   V4    V5 \n",
       "1    1  307  930 36.58 0  \n",
       "2    2  307  940 36.73 0  \n",
       "3    3  307  950 36.93 0  \n",
       "4    4  307 1000 37.15 0  \n",
       "5    5  307 1010 37.23 0  \n",
       "6    6  307 1020 37.24 0  \n",
       "7    7  307 1030 37.24 0  \n",
       "8    8  307 1040 36.90 0  \n",
       "9    9  307 1050 36.95 0  \n",
       "10  10  307 1100 36.89 0  \n",
       "11  11  307 1110 36.95 0  \n",
       "12  12  307 1120 37.00 0  \n",
       "13  13  307 1130 36.90 0  \n",
       "14  14  307 1140 36.99 0  \n",
       "15  15  307 1150 36.99 0  \n",
       "16  16  307 1200 37.01 0  \n",
       "17  17  307 1210 37.04 0  \n",
       "18  18  307 1220 37.04 0  \n",
       "19  19  307 1230 37.14 0  \n",
       "20  20  307 1240 37.07 0  \n",
       "21  21  307 1250 36.98 0  \n",
       "22  22  307 1300 37.01 0  \n",
       "23  23  307 1310 36.97 0  \n",
       "24  24  307 1320 36.97 0  \n",
       "25  25  307 1330 37.12 0  \n",
       "26  26  307 1340 37.13 0  \n",
       "27  27  307 1350 37.14 0  \n",
       "28  28  307 1400 37.15 0  \n",
       "29  29  307 1410 37.17 0  \n",
       "30  30  307 1420 37.12 0  \n",
       "... ... ... ...  ...   ...\n",
       "71   71 307 2110 37.95 1  \n",
       "72   72 307 2120 37.95 1  \n",
       "73   73 307 2130 37.76 1  \n",
       "74   74 307 2140 37.60 1  \n",
       "75   75 307 2150 37.89 1  \n",
       "76   76 307 2200 37.86 1  \n",
       "77   77 307 2210 37.71 1  \n",
       "78   78 307 2220 37.78 1  \n",
       "79   79 307 2230 37.82 1  \n",
       "80   80 307 2240 37.76 1  \n",
       "81   81 307 2250 37.81 1  \n",
       "82   82 307 2300 37.84 1  \n",
       "83   83 307 2310 38.01 1  \n",
       "84   84 307 2320 38.10 1  \n",
       "85   85 307 2330 38.15 1  \n",
       "86   86 307 2340 37.92 1  \n",
       "87   87 307 2350 37.64 1  \n",
       "88   88 308    0 37.70 1  \n",
       "89   89 308   10 37.46 1  \n",
       "90   90 308   20 37.41 1  \n",
       "91   91 308   30 37.46 1  \n",
       "92   92 308   40 37.56 1  \n",
       "93   93 308   50 37.55 1  \n",
       "94   94 308  100 37.75 1  \n",
       "95   95 308  110 37.76 1  \n",
       "96   96 308  120 37.73 1  \n",
       "97   97 308  130 37.77 1  \n",
       "98   98 308  140 38.01 1  \n",
       "99   99 308  150 38.04 1  \n",
       "100 100 308  200 38.07 1  "
      ]
     },
     "metadata": {},
     "output_type": "display_data"
    }
   ],
   "source": [
    "### Reading data from the web...\n",
    "read.table(\"http://www.stats.ox.ac.uk/pub/datasets/csb/ch11b.dat\")"
   ]
  }
 ],
 "metadata": {
  "celltoolbar": "Create Assignment",
  "kernelspec": {
   "display_name": "R",
   "language": "R",
   "name": "ir"
  },
  "language_info": {
   "codemirror_mode": "r",
   "file_extension": ".r",
   "mimetype": "text/x-r-source",
   "name": "R",
   "pygments_lexer": "r",
   "version": "3.6.1"
  }
 },
 "nbformat": 4,
 "nbformat_minor": 2
}
