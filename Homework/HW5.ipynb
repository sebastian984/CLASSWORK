{
 "cells": [
  {
   "cell_type": "markdown",
   "metadata": {
    "nbgrader": {
     "grade": false,
     "grade_id": "cell-d407a42e84598925",
     "locked": true,
     "schema_version": 3,
     "solution": false,
     "task": false
    }
   },
   "source": [
    "# Homework #5\n",
    "\n",
    "**See Canvas for HW #5 assignment due date**. Complete all of the following problems. Ideally, the theoretical problems should be answered in a Markdown cell directly underneath the question. If you don't know LaTex/Markdown, you may submit separate handwritten solutions to the theoretical problems. Please do not turn in messy work. Computational problems should be completed in this notebook (using the R kernel is preferred). Computational questions may require code, plots, analysis, interpretation, etc. Working in small groups is allowed, but it is important that you make an effort to master the material and hand in your own work. \n",
    "\n"
   ]
  },
  {
   "cell_type": "markdown",
   "metadata": {
    "nbgrader": {
     "grade": false,
     "grade_id": "cell-2eb9f545398492cc",
     "locked": true,
     "schema_version": 3,
     "solution": false,
     "task": false
    }
   },
   "source": [
    "# This week, there won't be any \"theory\" homework. Please use that time to work on your project proposal."
   ]
  },
  {
   "cell_type": "markdown",
   "metadata": {
    "nbgrader": {
     "grade": false,
     "grade_id": "cell-7cc32b37fe5f372c",
     "locked": true,
     "schema_version": 3,
     "solution": false,
     "task": false
    }
   },
   "source": [
    "# Problem B.1: Model Selection Criterion (55 points)\n",
    "\n",
    "In this lesson, we will perform both the full and partial F-tests in R.\n",
    "\n",
    "Recall again, the Amazon book data. The data consists of data on $n = 325$ books and includes measurements of:\n",
    "\n",
    "- `aprice`: The price listed on Amazon (dollars)\n",
    "\n",
    "\n",
    "- `lprice`: The book's list price (dollars)\n",
    "\n",
    "\n",
    "- `weight`: The book's weight (ounces)\n",
    "\n",
    "\n",
    "- `pages`: The number of pages in the book\n",
    "\n",
    "\n",
    "- `height`: The book's height (inches)\n",
    "\n",
    "\n",
    "- `width`: The book's width (inches)\n",
    "\n",
    "\n",
    "- `thick`: The thickness of the book (inches)\n",
    "\n",
    "\n",
    "- `cover`: Whether the book is a hard cover of paperback.\n",
    "\n",
    "\n",
    "- And other variables...\n",
    "\n",
    "Before we do any model selection, we'll repeat the data cleaning methods from the previous lesson on this dataset. For all tests in this lesson, let $\\alpha = 0.05$."
   ]
  },
  {
   "cell_type": "code",
   "execution_count": 1,
   "metadata": {
    "nbgrader": {
     "grade": false,
     "grade_id": "cell-a8fedd71ba965332",
     "locked": true,
     "schema_version": 3,
     "solution": false,
     "task": false
    },
    "scrolled": true
   },
   "outputs": [
    {
     "name": "stderr",
     "output_type": "stream",
     "text": [
      "Registered S3 methods overwritten by 'ggplot2':\n",
      "  method         from \n",
      "  [.quosures     rlang\n",
      "  c.quosures     rlang\n",
      "  print.quosures rlang\n",
      "Registered S3 method overwritten by 'rvest':\n",
      "  method            from\n",
      "  read_xml.response xml2\n",
      "── Attaching packages ─────────────────────────────────────── tidyverse 1.2.1 ──\n",
      "✔ ggplot2 3.1.1       ✔ purrr   0.3.2  \n",
      "✔ tibble  2.1.1       ✔ dplyr   0.8.0.1\n",
      "✔ tidyr   0.8.3       ✔ stringr 1.4.0  \n",
      "✔ readr   1.3.1       ✔ forcats 0.4.0  \n",
      "── Conflicts ────────────────────────────────────────── tidyverse_conflicts() ──\n",
      "✖ dplyr::filter()  masks stats::filter()\n",
      "✖ purrr::is_null() masks testthat::is_null()\n",
      "✖ dplyr::lag()     masks stats::lag()\n",
      "✖ dplyr::matches() masks testthat::matches()\n",
      "Loading required package: carData\n",
      "\n",
      "Attaching package: ‘car’\n",
      "\n",
      "The following object is masked from ‘package:dplyr’:\n",
      "\n",
      "    recode\n",
      "\n",
      "The following object is masked from ‘package:purrr’:\n",
      "\n",
      "    some\n",
      "\n"
     ]
    }
   ],
   "source": [
    "# This cell loads the required packages\n",
    "library(testthat)\n",
    "library(tidyverse)\n",
    "library(car)"
   ]
  },
  {
   "cell_type": "code",
   "execution_count": 2,
   "metadata": {
    "nbgrader": {
     "grade": false,
     "grade_id": "cell-12e578eabae9f154",
     "locked": true,
     "schema_version": 3,
     "solution": false,
     "task": false
    }
   },
   "outputs": [
    {
     "name": "stderr",
     "output_type": "stream",
     "text": [
      "Loading required package: bitops\n",
      "\n",
      "Attaching package: ‘RCurl’\n",
      "\n",
      "The following object is masked from ‘package:tidyr’:\n",
      "\n",
      "    complete\n",
      "\n"
     ]
    },
    {
     "data": {
      "text/plain": [
       "     aprice            lprice           pages           width      \n",
       " Min.   :  0.770   Min.   :  1.50   Min.   : 24.0   Min.   :4.100  \n",
       " 1st Qu.:  8.598   1st Qu.: 13.95   1st Qu.:208.0   1st Qu.:5.200  \n",
       " Median : 10.200   Median : 15.00   Median :320.0   Median :5.400  \n",
       " Mean   : 13.010   Mean   : 18.58   Mean   :335.8   Mean   :5.584  \n",
       " 3rd Qu.: 13.033   3rd Qu.: 19.95   3rd Qu.:416.0   3rd Qu.:5.900  \n",
       " Max.   :139.950   Max.   :139.95   Max.   :896.0   Max.   :9.500  \n",
       "     weight          height           thick       cover  \n",
       " Min.   : 1.20   Min.   : 5.100   Min.   :0.100   H: 89  \n",
       " 1st Qu.: 7.80   1st Qu.: 7.900   1st Qu.:0.600   P:235  \n",
       " Median :11.20   Median : 8.100   Median :0.900          \n",
       " Mean   :12.48   Mean   : 8.161   Mean   :0.908          \n",
       " 3rd Qu.:16.00   3rd Qu.: 8.500   3rd Qu.:1.100          \n",
       " Max.   :35.20   Max.   :12.100   Max.   :2.100          "
      ]
     },
     "metadata": {},
     "output_type": "display_data"
    }
   ],
   "source": [
    "library(RCurl) #a package that includes the function getURL(), which allows for reading data from github.\n",
    "library(ggplot2)\n",
    "url = getURL(paste0(\"https://raw.githubusercontent.com/bzaharatos/\",\n",
    "                    \"-Statistical-Modeling-for-Data-Science-Applications/\",\n",
    "                    \"master/Modern%20Regression%20Analysis%20/Datasets/amazon.txt\"))\n",
    "amazon = read.csv(text = url, sep = \"\\t\")\n",
    "df = data.frame(aprice = amazon$Amazon.Price, lprice = as.numeric(amazon$List.Price),  \n",
    "                pages = amazon$NumPages, width = amazon$Width, weight = amazon$Weight..oz,  \n",
    "                height = amazon$Height, thick = amazon$Thick, cover = amazon$Hard..Paper)\n",
    "\n",
    "df$lprice[which(is.na(df$lprice))] = mean(df$lprice, na.rm = TRUE)\n",
    "df$weight[which(is.na(df$weight))] = mean(df$weight, na.rm = TRUE)\n",
    "df$pages[which(is.na(df$pages))] = mean(df$pages, na.rm = TRUE)\n",
    "df$height[which(is.na(df$height))] = mean(df$height, na.rm = TRUE)\n",
    "df$width[which(is.na(df$width))] = mean(df$width, na.rm = TRUE)\n",
    "df$thick[which(is.na(df$thick))] = mean(df$thick, na.rm = TRUE)\n",
    "df = df[-205,]\n",
    "summary(df)"
   ]
  },
  {
   "cell_type": "markdown",
   "metadata": {
    "nbgrader": {
     "grade": false,
     "grade_id": "cell-d7532c7c90e0a692",
     "locked": true,
     "schema_version": 3,
     "solution": false,
     "task": false
    }
   },
   "source": [
    "### B.1. (a) The Model (20 points)\n",
    "\n",
    "We want to determine which predictors impact the Amazon list price. Begin by fitting the full model.\n",
    "\n",
    "Fit a model named `lmod.full` to the data with `aprice` as the response and all other rows as predictors. Then calculate the AIC, BIC and adjusted $R^2$ for this model. Store these values in `AIC.full`, `BIC.full` and `adj.R2.full` respectively. "
   ]
  },
  {
   "cell_type": "code",
   "execution_count": 3,
   "metadata": {
    "nbgrader": {
     "grade": false,
     "grade_id": "cell-c75b99ddebd26d3e",
     "locked": false,
     "schema_version": 3,
     "solution": true,
     "task": false
    }
   },
   "outputs": [],
   "source": [
    "AIC.full = NA\n",
    "BIC.full = NA\n",
    "adj.R2.full = NA\n",
    "\n",
    "### BEGIN SOLUTION HERE\n",
    "lmod.full = lm(aprice~., data=df)\n",
    "AIC.full = AIC(lmod.full)\n",
    "BIC.full = AIC(lmod.full, k=log(nrow(df)))\n",
    "adj.R2.full = summary(lmod.full)$adj\n",
    "### END SOLUTION HERE"
   ]
  },
  {
   "cell_type": "code",
   "execution_count": 4,
   "metadata": {
    "nbgrader": {
     "grade": true,
     "grade_id": "cell-d1c1f638e818be86",
     "locked": true,
     "points": 20,
     "schema_version": 3,
     "solution": false,
     "task": false
    }
   },
   "outputs": [
    {
     "name": "stdout",
     "output_type": "stream",
     "text": [
      "[1] \"Correct number of parameters in the model.\"\n"
     ]
    }
   ],
   "source": [
    "# Test Cell\n",
    "# Check that the correct number of predictors were used in the model.\n",
    "if(test_that(\"Check number of model parameters.\", expect_equal(length(lmod.full$coefficients), 8))){\n",
    "    print(\"Correct number of parameters in the model.\")\n",
    "}else{\n",
    "    print(\"Make sure you're not using the Port column!\")\n",
    "}\n",
    "### BEGIN HIDDEN TESTS\n",
    "test.AIC.full = AIC(lmod.full)\n",
    "test.BIC.full = AIC(lmod.full, k=log(nrow(df)))\n",
    "test.adj.R2.full = summary(lmod.full)$adj\n",
    "test_that(\"Check correctness of model criterion\", {expect_equal(AIC.full, test.AIC.full, tol=1e-4)\n",
    "                                                   expect_equal(BIC.full, test.BIC.full, tol=1e-4)\n",
    "                                                   expect_equal(adj.R2.full, test.adj.R2.full, tol=1e-4)})\n",
    "### END HIDDEN TESTS"
   ]
  },
  {
   "cell_type": "markdown",
   "metadata": {
    "nbgrader": {
     "grade": false,
     "grade_id": "cell-4c475e85c54cd756",
     "locked": true,
     "schema_version": 3,
     "solution": false,
     "task": false
    }
   },
   "source": [
    "### B.1. (b) A Partial Model (20 points)\n",
    "\n",
    "Fit a partial model to the data, with `aprice` as the response and `lprice`, and `pages` as predictors. Calculate the AIC, BIC and adjusted $R^2$ for this partial model. Store their values in `AIC.part`, `BIC.part` and `adj.R2.part` respectively."
   ]
  },
  {
   "cell_type": "code",
   "execution_count": 5,
   "metadata": {
    "nbgrader": {
     "grade": false,
     "grade_id": "cell-39ee83e163b9c32e",
     "locked": false,
     "schema_version": 3,
     "solution": true,
     "task": false
    },
    "scrolled": true
   },
   "outputs": [],
   "source": [
    "AIC.part = NA\n",
    "BIC.part = NA\n",
    "adj.R2.part = NA\n",
    "\n",
    "### BEGIN SOLUTION HERE\n",
    "lmod.part = lm(aprice ~ lprice + pages, data=df)\n",
    "AIC.part = AIC(lmod.part)\n",
    "BIC.part = AIC(lmod.part, k=log(nrow(df)))\n",
    "adj.R2.part = summary(lmod.part)$adj\n",
    "### END SOLUTION HERE"
   ]
  },
  {
   "cell_type": "code",
   "execution_count": 6,
   "metadata": {
    "nbgrader": {
     "grade": true,
     "grade_id": "cell-459282508ecfd8ae",
     "locked": true,
     "points": 20,
     "schema_version": 3,
     "solution": false,
     "task": false
    }
   },
   "outputs": [],
   "source": [
    "# Test Cell\n",
    "### BEGIN HIDDEN TESTS\n",
    "test.AIC.part = AIC(lmod.part)\n",
    "test.BIC.part = AIC(lmod.part, k=log(nrow(df)))\n",
    "test.adj.R2.part = summary(lmod.part)$adj\n",
    "test_that(\"Check correctness of second model criterion\", {expect_equal(AIC.part, test.AIC.part, tol=1e-4)\n",
    "                                                          expect_equal(BIC.part, test.BIC.part, tol=1e-4)\n",
    "                                                          expect_equal(adj.R2.part, test.adj.R2.part, tol=1e-4)})\n",
    "### END HIDDEN TESTS"
   ]
  },
  {
   "cell_type": "markdown",
   "metadata": {
    "nbgrader": {
     "grade": false,
     "grade_id": "cell-33a2d5172bf5e191",
     "locked": true,
     "schema_version": 3,
     "solution": false,
     "task": false
    }
   },
   "source": [
    "### B.1. (c) Model Selection (10 points)\n",
    "\n",
    "Which model is better, `lmod.full` or `lmod.part` according to AIC, BIC, and $R^2_a$? Note that the answer may or may not be different across the different criteria. Save your selections as `selected.model.AIC`, `selected.model.BIC`, and `selected.model.adj.R2`."
   ]
  },
  {
   "cell_type": "code",
   "execution_count": 11,
   "metadata": {
    "nbgrader": {
     "grade": false,
     "grade_id": "cell-be9c28ff95c8f889",
     "locked": false,
     "schema_version": 3,
     "solution": true,
     "task": false
    }
   },
   "outputs": [
    {
     "data": {
      "text/plain": [
       "\n",
       "Call:\n",
       "lm(formula = aprice ~ lprice + pages, data = df)\n",
       "\n",
       "Coefficients:\n",
       "(Intercept)       lprice        pages  \n",
       "  -0.727973     0.844690    -0.005824  \n"
      ]
     },
     "metadata": {},
     "output_type": "display_data"
    }
   ],
   "source": [
    "selected.model.AIC = NA\n",
    "selected.model.BIC = NA\n",
    "selected.model.adj.R2 = NA\n",
    "### BEGIN SOLUTION HERE\n",
    "\n",
    "if (AIC.part < AIC.full){\n",
    "    selected.model.AIC = lmod.part\n",
    "} else {\n",
    "    selected.model.AIC = lmod.full\n",
    "    }\n",
    "\n",
    "if (BIC.part < BIC.full){\n",
    "    selected.model.BIC = lmod.part\n",
    "} else {\n",
    "    selected.model.BIC = lmod.full\n",
    "    }\n",
    "\n",
    "if (adj.R2.part < adj.R2.full){\n",
    "    selected.model.adj.R2 = lmod.part\n",
    "} else {\n",
    "    selected.model.adj.R2 = lmod.full\n",
    "    }\n",
    "### END SOLUTION HERE"
   ]
  },
  {
   "cell_type": "code",
   "execution_count": 8,
   "metadata": {
    "nbgrader": {
     "grade": true,
     "grade_id": "cell-857ab58a12789785",
     "locked": true,
     "points": 10,
     "schema_version": 3,
     "solution": false,
     "task": false
    }
   },
   "outputs": [
    {
     "name": "stdout",
     "output_type": "stream",
     "text": [
      "[1] \"Correct answer type. Make sure you're confident in your model decision.\"\n",
      "[1] \"Correct answer type. Make sure you're confident in your model decision.\"\n",
      "[1] \"Correct answer type. Make sure you're confident in your model decision.\"\n"
     ]
    }
   ],
   "source": [
    "# Test Cell\n",
    "### BEGIN HIDDEN TESTS\n",
    "if(test_that(\"Checking answer is a model\", expect_is(selected.model.AIC, \"lm\"))){\n",
    "    print(\"Correct answer type. Make sure you're confident in your model decision.\")\n",
    "}else{\n",
    "    print(\"Incorrect model type. Copy your selected model into the selected.model varaible.\")\n",
    "}\n",
    "if(test_that(\"Checking answer is a model\", expect_is(selected.model.BIC, \"lm\"))){\n",
    "    print(\"Correct answer type. Make sure you're confident in your model decision.\")\n",
    "}else{\n",
    "    print(\"Incorrect model type. Copy your selected model into the selected.model varaible.\")\n",
    "}\n",
    "if(test_that(\"Checking answer is a model\", expect_is(selected.model.adj.R2, \"lm\"))){\n",
    "    print(\"Correct answer type. Make sure you're confident in your model decision.\")\n",
    "}else{\n",
    "    print(\"Incorrect model type. Copy your selected model into the selected.model varaible.\")\n",
    "}\n",
    "\n",
    "test_that(\"Check the correct AIC model\", expect_equal(selected.model.AIC, lmod.full))\n",
    "test_that(\"Check the correct BIC model\", expect_equal(selected.model.BIC, lmod.part))\n",
    "test_that(\"Check the correct adjusted R2 model\", expect_equal(selected.model.adj.R2, lmod.part))\n",
    "### END HIDDEN TESTS"
   ]
  },
  {
   "cell_type": "markdown",
   "metadata": {
    "nbgrader": {
     "grade": false,
     "grade_id": "cell-2353f829d40c1c18",
     "locked": true,
     "schema_version": 3,
     "solution": false,
     "task": false
    }
   },
   "source": [
    "### B.1. (d) Model Validation (5 points)\n",
    "\n",
    "Recall that a simpler model may perform statistically worse than a larger model. Test whether there is a statistically significant difference between `lmod.part` and `lmod.full`. Based on the result of this test, what model should you use? Save your answer as `validated.model`."
   ]
  },
  {
   "cell_type": "code",
   "execution_count": 12,
   "metadata": {
    "nbgrader": {
     "grade": false,
     "grade_id": "cell-2867adca6b5a00d5",
     "locked": false,
     "schema_version": 3,
     "solution": true,
     "task": false
    }
   },
   "outputs": [
    {
     "data": {
      "text/html": [
       "<table>\n",
       "<thead><tr><th scope=col>Res.Df</th><th scope=col>RSS</th><th scope=col>Df</th><th scope=col>Sum of Sq</th><th scope=col>F</th><th scope=col>Pr(&gt;F)</th></tr></thead>\n",
       "<tbody>\n",
       "\t<tr><td>321         </td><td>4574.153    </td><td>NA          </td><td>    NA      </td><td>      NA    </td><td>          NA</td></tr>\n",
       "\t<tr><td>316         </td><td>4185.263    </td><td> 5          </td><td>388.89      </td><td>5.872473    </td><td>3.312548e-05</td></tr>\n",
       "</tbody>\n",
       "</table>\n"
      ],
      "text/latex": [
       "\\begin{tabular}{r|llllll}\n",
       " Res.Df & RSS & Df & Sum of Sq & F & Pr(>F)\\\\\n",
       "\\hline\n",
       "\t 321          & 4574.153     & NA           &     NA       &       NA     &           NA\\\\\n",
       "\t 316          & 4185.263     &  5           & 388.89       & 5.872473     & 3.312548e-05\\\\\n",
       "\\end{tabular}\n"
      ],
      "text/markdown": [
       "\n",
       "| Res.Df | RSS | Df | Sum of Sq | F | Pr(>F) |\n",
       "|---|---|---|---|---|---|\n",
       "| 321          | 4574.153     | NA           |     NA       |       NA     |           NA |\n",
       "| 316          | 4185.263     |  5           | 388.89       | 5.872473     | 3.312548e-05 |\n",
       "\n"
      ],
      "text/plain": [
       "  Res.Df RSS      Df Sum of Sq F        Pr(>F)      \n",
       "1 321    4574.153 NA     NA          NA           NA\n",
       "2 316    4185.263  5 388.89    5.872473 3.312548e-05"
      ]
     },
     "metadata": {},
     "output_type": "display_data"
    }
   ],
   "source": [
    "validated.model = NA\n",
    "\n",
    "### BEGIN SOLUTION HERE\n",
    "anova(lmod.part, lmod.full) #H_0: lmod.part is sufficient\n",
    "# F-Test says that there is not a significant difference, so use smaller model\n",
    "validated.model = lmod.full\n",
    "### END SOLUTION HERE"
   ]
  },
  {
   "cell_type": "code",
   "execution_count": 10,
   "metadata": {
    "nbgrader": {
     "grade": true,
     "grade_id": "cell-e5d91693e455c234",
     "locked": true,
     "points": 5,
     "schema_version": 3,
     "solution": false,
     "task": false
    }
   },
   "outputs": [],
   "source": [
    "# Test Cell\n",
    "### BEGIN HIDDEN TESTS\n",
    "test_that(\"Check that validated model is partial model\", expect_equal(validated.model, lmod.full))\n",
    "### END HIDDEN TESTS"
   ]
  },
  {
   "cell_type": "markdown",
   "metadata": {
    "nbgrader": {
     "grade": false,
     "grade_id": "cell-56e4472fd47f4a3e",
     "locked": true,
     "schema_version": 3,
     "solution": false,
     "task": false
    }
   },
   "source": [
    "## Problem B.2 (35 points)\n",
    "\n",
    "`divorce` is a data frame with 77 observations on the following 7 variables.\n",
    "\n",
    "1. `year`: the year from 1920-1996\n",
    "\n",
    "2. `divorce`: divorce per 1000 women aged 15 or more \n",
    "\n",
    "3. `unemployed` unemployment rate \n",
    "\n",
    "4. `femlab`: percent female participation in labor force aged 16+\n",
    "\n",
    "5. `marriage`: marriages per 1000 unmarried women aged 16+ \n",
    "\n",
    "6. `birth`: births per 1000 women aged 15-44 \n",
    "\n",
    "7. `military`: military personnel per 1000 population\n",
    "\n",
    "Here's the data:"
   ]
  },
  {
   "cell_type": "code",
   "execution_count": 11,
   "metadata": {
    "nbgrader": {
     "grade": false,
     "grade_id": "cell-9b2945e2d8a15691",
     "locked": true,
     "schema_version": 3,
     "solution": false,
     "task": false
    }
   },
   "outputs": [
    {
     "data": {
      "text/plain": [
       "      year         divorce        unemployed         femlab     \n",
       " Min.   :1920   Min.   : 6.10   Min.   : 1.200   Min.   :22.70  \n",
       " 1st Qu.:1939   1st Qu.: 8.70   1st Qu.: 4.200   1st Qu.:27.47  \n",
       " Median :1958   Median :10.60   Median : 5.600   Median :37.10  \n",
       " Mean   :1958   Mean   :13.27   Mean   : 7.173   Mean   :38.58  \n",
       " 3rd Qu.:1977   3rd Qu.:20.30   3rd Qu.: 7.500   3rd Qu.:47.80  \n",
       " Max.   :1996   Max.   :22.80   Max.   :24.900   Max.   :59.30  \n",
       "    marriage          birth           military     \n",
       " Min.   : 49.70   Min.   : 65.30   Min.   : 1.940  \n",
       " 1st Qu.: 61.90   1st Qu.: 68.90   1st Qu.: 3.469  \n",
       " Median : 74.10   Median : 85.90   Median : 9.102  \n",
       " Mean   : 72.97   Mean   : 88.89   Mean   :12.365  \n",
       " 3rd Qu.: 80.00   3rd Qu.:107.30   3rd Qu.:14.266  \n",
       " Max.   :118.10   Max.   :122.90   Max.   :86.641  "
      ]
     },
     "metadata": {},
     "output_type": "display_data"
    }
   ],
   "source": [
    "library(RCurl) #a package that includes the function getURL(), which allows for reading data from github.\n",
    "library(ggplot2)\n",
    "url = getURL(paste0(\"https://raw.githubusercontent.com/bzaharatos/\",\n",
    "                    \"-Statistical-Modeling-for-Data-Science-Applications/\",\n",
    "                    \"master/Modern%20Regression%20Analysis%20/Datasets/divusa.txt\"))\n",
    "divorce = read.csv(text = url, sep = \"\\t\")\n",
    "summary(divorce)"
   ]
  },
  {
   "cell_type": "markdown",
   "metadata": {
    "nbgrader": {
     "grade": false,
     "grade_id": "cell-96dd4285a9267ea8",
     "locked": true,
     "schema_version": 3,
     "solution": false,
     "task": false
    }
   },
   "source": [
    "**B.2 (a) (10 points) Using the `divorce` data, with `divorce` as the response and all other variables as predictors, select the \"best\" regression model, where \"best\" is defined using AIC. Save your final model as `lm_divorce`.**"
   ]
  },
  {
   "cell_type": "code",
   "execution_count": 12,
   "metadata": {
    "nbgrader": {
     "grade": false,
     "grade_id": "cell-26c07cf4e4547d9d",
     "locked": false,
     "schema_version": 3,
     "solution": true,
     "task": false
    }
   },
   "outputs": [
    {
     "name": "stderr",
     "output_type": "stream",
     "text": [
      "\n",
      "Attaching package: ‘MASS’\n",
      "\n",
      "The following object is masked from ‘package:dplyr’:\n",
      "\n",
      "    select\n",
      "\n"
     ]
    },
    {
     "data": {
      "text/html": [
       "<table>\n",
       "<thead><tr><th scope=col>(Intercept)</th><th scope=col>year</th><th scope=col>unemployed</th><th scope=col>femlab</th><th scope=col>marriage</th><th scope=col>birth</th><th scope=col>military</th></tr></thead>\n",
       "<tbody>\n",
       "\t<tr><td>TRUE </td><td>FALSE</td><td>FALSE</td><td>TRUE </td><td>FALSE</td><td>FALSE</td><td>FALSE</td></tr>\n",
       "\t<tr><td>TRUE </td><td>FALSE</td><td>FALSE</td><td>TRUE </td><td>FALSE</td><td> TRUE</td><td>FALSE</td></tr>\n",
       "\t<tr><td>TRUE </td><td>FALSE</td><td>FALSE</td><td>TRUE </td><td> TRUE</td><td> TRUE</td><td>FALSE</td></tr>\n",
       "\t<tr><td>TRUE </td><td> TRUE</td><td>FALSE</td><td>TRUE </td><td> TRUE</td><td> TRUE</td><td>FALSE</td></tr>\n",
       "\t<tr><td>TRUE </td><td> TRUE</td><td>FALSE</td><td>TRUE </td><td> TRUE</td><td> TRUE</td><td> TRUE</td></tr>\n",
       "\t<tr><td>TRUE </td><td> TRUE</td><td> TRUE</td><td>TRUE </td><td> TRUE</td><td> TRUE</td><td> TRUE</td></tr>\n",
       "</tbody>\n",
       "</table>\n"
      ],
      "text/latex": [
       "\\begin{tabular}{r|lllllll}\n",
       " (Intercept) & year & unemployed & femlab & marriage & birth & military\\\\\n",
       "\\hline\n",
       "\t TRUE  & FALSE & FALSE & TRUE  & FALSE & FALSE & FALSE\\\\\n",
       "\t TRUE  & FALSE & FALSE & TRUE  & FALSE &  TRUE & FALSE\\\\\n",
       "\t TRUE  & FALSE & FALSE & TRUE  &  TRUE &  TRUE & FALSE\\\\\n",
       "\t TRUE  &  TRUE & FALSE & TRUE  &  TRUE &  TRUE & FALSE\\\\\n",
       "\t TRUE  &  TRUE & FALSE & TRUE  &  TRUE &  TRUE &  TRUE\\\\\n",
       "\t TRUE  &  TRUE &  TRUE & TRUE  &  TRUE &  TRUE &  TRUE\\\\\n",
       "\\end{tabular}\n"
      ],
      "text/markdown": [
       "\n",
       "| (Intercept) | year | unemployed | femlab | marriage | birth | military |\n",
       "|---|---|---|---|---|---|---|\n",
       "| TRUE  | FALSE | FALSE | TRUE  | FALSE | FALSE | FALSE |\n",
       "| TRUE  | FALSE | FALSE | TRUE  | FALSE |  TRUE | FALSE |\n",
       "| TRUE  | FALSE | FALSE | TRUE  |  TRUE |  TRUE | FALSE |\n",
       "| TRUE  |  TRUE | FALSE | TRUE  |  TRUE |  TRUE | FALSE |\n",
       "| TRUE  |  TRUE | FALSE | TRUE  |  TRUE |  TRUE |  TRUE |\n",
       "| TRUE  |  TRUE |  TRUE | TRUE  |  TRUE |  TRUE |  TRUE |\n",
       "\n"
      ],
      "text/plain": [
       "  (Intercept) year  unemployed femlab marriage birth military\n",
       "1 TRUE        FALSE FALSE      TRUE   FALSE    FALSE FALSE   \n",
       "2 TRUE        FALSE FALSE      TRUE   FALSE     TRUE FALSE   \n",
       "3 TRUE        FALSE FALSE      TRUE    TRUE     TRUE FALSE   \n",
       "4 TRUE         TRUE FALSE      TRUE    TRUE     TRUE FALSE   \n",
       "5 TRUE         TRUE FALSE      TRUE    TRUE     TRUE  TRUE   \n",
       "6 TRUE         TRUE  TRUE      TRUE    TRUE     TRUE  TRUE   "
      ]
     },
     "metadata": {},
     "output_type": "display_data"
    },
    {
     "data": {
      "text/html": [
       "<ol class=list-inline>\n",
       "\t<li>418.104965743694</li>\n",
       "\t<li>304.378106160797</li>\n",
       "\t<li>209.840963261672</li>\n",
       "\t<li>183.079853731089</li>\n",
       "\t<li>162.122844339045</li>\n",
       "\t<li>160.197468657816</li>\n",
       "</ol>\n"
      ],
      "text/latex": [
       "\\begin{enumerate*}\n",
       "\\item 418.104965743694\n",
       "\\item 304.378106160797\n",
       "\\item 209.840963261672\n",
       "\\item 183.079853731089\n",
       "\\item 162.122844339045\n",
       "\\item 160.197468657816\n",
       "\\end{enumerate*}\n"
      ],
      "text/markdown": [
       "1. 418.104965743694\n",
       "2. 304.378106160797\n",
       "3. 209.840963261672\n",
       "4. 183.079853731089\n",
       "5. 162.122844339045\n",
       "6. 160.197468657816\n",
       "\n",
       "\n"
      ],
      "text/plain": [
       "[1] 418.1050 304.3781 209.8410 183.0799 162.1228 160.1975"
      ]
     },
     "metadata": {},
     "output_type": "display_data"
    },
    {
     "data": {
      "text/plain": [
       "\n",
       "Call:\n",
       "lm(formula = divorce ~ . - unemployed, data = divorce)\n",
       "\n",
       "Residuals:\n",
       "    Min      1Q  Median      3Q     Max \n",
       "-2.7586 -1.0494 -0.0424  0.7201  3.3075 \n",
       "\n",
       "Coefficients:\n",
       "             Estimate Std. Error t value Pr(>|t|)    \n",
       "(Intercept) 405.61670   95.13189   4.264 6.09e-05 ***\n",
       "year         -0.21790    0.05078  -4.291 5.52e-05 ***\n",
       "femlab        0.85480    0.10276   8.318 4.29e-12 ***\n",
       "marriage      0.15934    0.02140   7.447 1.76e-10 ***\n",
       "birth        -0.11012    0.01266  -8.700 8.43e-13 ***\n",
       "military     -0.04120    0.01360  -3.030  0.00341 ** \n",
       "---\n",
       "Signif. codes:  0 ‘***’ 0.001 ‘**’ 0.01 ‘*’ 0.05 ‘.’ 0.1 ‘ ’ 1\n",
       "\n",
       "Residual standard error: 1.511 on 71 degrees of freedom\n",
       "Multiple R-squared:  0.9336,\tAdjusted R-squared:  0.929 \n",
       "F-statistic: 199.7 on 5 and 71 DF,  p-value: < 2.2e-16\n"
      ]
     },
     "metadata": {},
     "output_type": "display_data"
    },
    {
     "data": {
      "image/png": "[encoded data removed]",
      "text/plain": [
       "plot without title"
      ]
     },
     "metadata": {},
     "output_type": "display_data"
    }
   ],
   "source": [
    "library(leaps)\n",
    "library(MASS)\n",
    "\n",
    "### BEGIN SOLUTION HERE\n",
    "n = dim(divorce)[1]; \n",
    "reg1 = regsubsets(divorce ~ ., data = divorce)\n",
    "rs = summary(reg1)\n",
    "rs$which\n",
    "rs$rss\n",
    "AIC = 2*(2:7) + n*log(rs$rss/n) \n",
    "plot(AIC ~ I(1:6), xlab = \"number of predictors\", ylab = \"AIC\")\n",
    "\n",
    "lm_divorce = lm(divorce ~ .-unemployed, data = divorce)\n",
    "summary(lm_divorce)\n",
    "### END SOLUTION HERE\n"
   ]
  },
  {
   "cell_type": "code",
   "execution_count": 13,
   "metadata": {
    "nbgrader": {
     "grade": true,
     "grade_id": "cell-83d568c2432e15d1",
     "locked": true,
     "points": 10,
     "schema_version": 3,
     "solution": false,
     "task": false
    }
   },
   "outputs": [],
   "source": [
    "# Test Cell\n",
    "### BEGIN HIDDEN TESTS\n",
    "lm_divorce_solution = lm(divorce ~ .-unemployed, data = divorce)\n",
    "test_that(\"Check that validated model is partial model\", expect_equal(lm_divorce, lm_divorce_solution))\n",
    "### END HIDDEN TESTS"
   ]
  },
  {
   "cell_type": "markdown",
   "metadata": {
    "nbgrader": {
     "grade": false,
     "grade_id": "cell-d1a2bcd1aec686d9",
     "locked": true,
     "schema_version": 3,
     "solution": false,
     "task": false
    }
   },
   "source": [
    "**B.2 (b) (15 points) Using your model from part (a), compute the variance inflation factors VIFs for each $\\widehat\\beta_j$, $j = 1,...,p$. Store them in the variable `v`. Also, compute the condition number for the design matrix, stored in `k`. Is there evidence that collinearity causes some predictors not to be significant? Explain your answer.**"
   ]
  },
  {
   "cell_type": "code",
   "execution_count": 14,
   "metadata": {
    "nbgrader": {
     "grade": false,
     "grade_id": "cell-7dba890a66daad63",
     "locked": false,
     "schema_version": 3,
     "solution": true,
     "task": false
    }
   },
   "outputs": [
    {
     "data": {
      "text/html": [
       "1083823.31583886"
      ],
      "text/latex": [
       "1083823.31583886"
      ],
      "text/markdown": [
       "1083823.31583886"
      ],
      "text/plain": [
       "[1] 1083823"
      ]
     },
     "metadata": {},
     "output_type": "display_data"
    },
    {
     "data": {
      "text/html": [
       "<dl class=dl-horizontal>\n",
       "\t<dt>year</dt>\n",
       "\t\t<dd>42.9482669472057</dd>\n",
       "\t<dt>femlab</dt>\n",
       "\t\t<dd>48.650934763108</dd>\n",
       "\t<dt>marriage</dt>\n",
       "\t\t<dd>2.62453070971815</dd>\n",
       "\t<dt>birth</dt>\n",
       "\t\t<dd>2.03167683563948</dd>\n",
       "\t<dt>military</dt>\n",
       "\t\t<dd>1.35800179637071</dd>\n",
       "</dl>\n"
      ],
      "text/latex": [
       "\\begin{description*}\n",
       "\\item[year] 42.9482669472057\n",
       "\\item[femlab] 48.650934763108\n",
       "\\item[marriage] 2.62453070971815\n",
       "\\item[birth] 2.03167683563948\n",
       "\\item[military] 1.35800179637071\n",
       "\\end{description*}\n"
      ],
      "text/markdown": [
       "year\n",
       ":   42.9482669472057femlab\n",
       ":   48.650934763108marriage\n",
       ":   2.62453070971815birth\n",
       ":   2.03167683563948military\n",
       ":   1.35800179637071\n",
       "\n"
      ],
      "text/plain": [
       "     year    femlab  marriage     birth  military \n",
       "42.948267 48.650935  2.624531  2.031677  1.358002 "
      ]
     },
     "metadata": {},
     "output_type": "display_data"
    },
    {
     "data": {
      "text/plain": [
       "\n",
       "Call:\n",
       "lm(formula = divorce ~ . - unemployed, data = divorce)\n",
       "\n",
       "Residuals:\n",
       "    Min      1Q  Median      3Q     Max \n",
       "-2.7586 -1.0494 -0.0424  0.7201  3.3075 \n",
       "\n",
       "Coefficients:\n",
       "             Estimate Std. Error t value Pr(>|t|)    \n",
       "(Intercept) 405.61670   95.13189   4.264 6.09e-05 ***\n",
       "year         -0.21790    0.05078  -4.291 5.52e-05 ***\n",
       "femlab        0.85480    0.10276   8.318 4.29e-12 ***\n",
       "marriage      0.15934    0.02140   7.447 1.76e-10 ***\n",
       "birth        -0.11012    0.01266  -8.700 8.43e-13 ***\n",
       "military     -0.04120    0.01360  -3.030  0.00341 ** \n",
       "---\n",
       "Signif. codes:  0 ‘***’ 0.001 ‘**’ 0.01 ‘*’ 0.05 ‘.’ 0.1 ‘ ’ 1\n",
       "\n",
       "Residual standard error: 1.511 on 71 degrees of freedom\n",
       "Multiple R-squared:  0.9336,\tAdjusted R-squared:  0.929 \n",
       "F-statistic: 199.7 on 5 and 71 DF,  p-value: < 2.2e-16\n"
      ]
     },
     "metadata": {},
     "output_type": "display_data"
    }
   ],
   "source": [
    "X = model.matrix(lm_divorce); A = t(X)%*%X; e = eigen(A); k = sqrt(max(e$values)/min(e$values)); k\n",
    "#Or: kappa(X, exact = TRUE)\n",
    "v = vif(lm_divorce); v\n",
    "co = cor(X[,-1])\n",
    "summary(lm_divorce)"
   ]
  },
  {
   "cell_type": "code",
   "execution_count": 15,
   "metadata": {
    "nbgrader": {
     "grade": true,
     "grade_id": "cell-3044dbc9979b7358",
     "locked": true,
     "points": 10,
     "schema_version": 3,
     "solution": false,
     "task": false
    }
   },
   "outputs": [],
   "source": [
    "# Test Cell\n",
    "### BEGIN HIDDEN TESTS\n",
    "X_solution = model.matrix(lm_divorce_solution); A_solution = t(X_solution)%*%X_solution; e_solution = eigen(A_solution); \n",
    "k_solution = sqrt(max(e_solution$values)/min(e_solution$values));\n",
    "#Or: kappa(X, exact = TRUE)\n",
    "v_solution = vif(lm_divorce_solution)\n",
    "co = cor(X_solution[,-1])\n",
    "test_that(\"Check VIF\", expect_equal(v_solution, v))\n",
    "test_that(\"Check k\", expect_equal(k_solution, k))\n",
    "### END HIDDEN TESTS"
   ]
  },
  {
   "cell_type": "markdown",
   "metadata": {
    "nbgrader": {
     "grade": true,
     "grade_id": "cell-02e579dd78f09afe",
     "locked": false,
     "points": 5,
     "schema_version": 3,
     "solution": true,
     "task": false
    }
   },
   "source": [
    "The condition number, $\\kappa$, measures the relative sizes of the eigenvalues. $\\kappa \\ge 30$ may be cause for concern. In this case, the condition number is very large. We can also see from the predictor correlation matrix that there are high pairwise correlations."
   ]
  },
  {
   "cell_type": "markdown",
   "metadata": {
    "nbgrader": {
     "grade": false,
     "grade_id": "cell-48883b2b9186c261",
     "locked": true,
     "schema_version": 3,
     "solution": false,
     "task": false
    }
   },
   "source": [
    "#### B.2 (c) (10 points) Remove the predictor with the highest VIF. Does that reduce the multicollinearity?  "
   ]
  },
  {
   "cell_type": "code",
   "execution_count": 16,
   "metadata": {
    "nbgrader": {
     "grade": true,
     "grade_id": "cell-58410fcc06d1f35a",
     "locked": false,
     "points": 5,
     "schema_version": 3,
     "solution": true,
     "task": false
    },
    "scrolled": false
   },
   "outputs": [
    {
     "data": {
      "text/plain": [
       "\n",
       "Call:\n",
       "lm(formula = divorce ~ year + marriage + birth + military, data = divorce)\n",
       "\n",
       "Residuals:\n",
       "    Min      1Q  Median      3Q     Max \n",
       "-4.3582 -1.4479 -0.0957  1.5513  4.1165 \n",
       "\n",
       "Coefficients:\n",
       "              Estimate Std. Error t value Pr(>|t|)    \n",
       "(Intercept) -3.654e+02  2.993e+01 -12.206  < 2e-16 ***\n",
       "year         1.954e-01  1.464e-02  13.344  < 2e-16 ***\n",
       "marriage     9.991e-02  2.814e-02   3.550 0.000683 ***\n",
       "birth       -1.265e-01  1.745e-02  -7.250 3.82e-10 ***\n",
       "military     5.578e-03  1.728e-02   0.323 0.747764    \n",
       "---\n",
       "Signif. codes:  0 ‘***’ 0.001 ‘**’ 0.01 ‘*’ 0.05 ‘.’ 0.1 ‘ ’ 1\n",
       "\n",
       "Residual standard error: 2.109 on 72 degrees of freedom\n",
       "Multiple R-squared:  0.8689,\tAdjusted R-squared:  0.8617 \n",
       "F-statistic: 119.3 on 4 and 72 DF,  p-value: < 2.2e-16\n"
      ]
     },
     "metadata": {},
     "output_type": "display_data"
    },
    {
     "data": {
      "text/html": [
       "<dl class=dl-horizontal>\n",
       "\t<dt>year</dt>\n",
       "\t\t<dd>1.83370639925006</dd>\n",
       "\t<dt>marriage</dt>\n",
       "\t\t<dd>2.33192135504646</dd>\n",
       "\t<dt>birth</dt>\n",
       "\t\t<dd>1.98254110704965</dd>\n",
       "\t<dt>military</dt>\n",
       "\t\t<dd>1.12580667212605</dd>\n",
       "</dl>\n"
      ],
      "text/latex": [
       "\\begin{description*}\n",
       "\\item[year] 1.83370639925006\n",
       "\\item[marriage] 2.33192135504646\n",
       "\\item[birth] 1.98254110704965\n",
       "\\item[military] 1.12580667212605\n",
       "\\end{description*}\n"
      ],
      "text/markdown": [
       "year\n",
       ":   1.83370639925006marriage\n",
       ":   2.33192135504646birth\n",
       ":   1.98254110704965military\n",
       ":   1.12580667212605\n",
       "\n"
      ],
      "text/plain": [
       "    year marriage    birth military \n",
       "1.833706 2.331921 1.982541 1.125807 "
      ]
     },
     "metadata": {},
     "output_type": "display_data"
    },
    {
     "data": {
      "text/html": [
       "244323.954475158"
      ],
      "text/latex": [
       "244323.954475158"
      ],
      "text/markdown": [
       "244323.954475158"
      ],
      "text/plain": [
       "[1] 244324"
      ]
     },
     "metadata": {},
     "output_type": "display_data"
    },
    {
     "data": {
      "text/html": [
       "<table>\n",
       "<thead><tr><th></th><th scope=col>year</th><th scope=col>marriage</th><th scope=col>birth</th><th scope=col>military</th></tr></thead>\n",
       "<tbody>\n",
       "\t<tr><th scope=row>year</th><td> 1.000000000</td><td>-0.6173255  </td><td>-0.5763140  </td><td>0.007267171 </td></tr>\n",
       "\t<tr><th scope=row>marriage</th><td>-0.617325533</td><td> 1.0000000  </td><td> 0.6737273  </td><td>0.258198260 </td></tr>\n",
       "\t<tr><th scope=row>birth</th><td>-0.576313991</td><td> 0.6737273  </td><td> 1.0000000  </td><td>0.140898643 </td></tr>\n",
       "\t<tr><th scope=row>military</th><td> 0.007267171</td><td> 0.2581983  </td><td> 0.1408986  </td><td>1.000000000 </td></tr>\n",
       "</tbody>\n",
       "</table>\n"
      ],
      "text/latex": [
       "\\begin{tabular}{r|llll}\n",
       "  & year & marriage & birth & military\\\\\n",
       "\\hline\n",
       "\tyear &  1.000000000 & -0.6173255   & -0.5763140   & 0.007267171 \\\\\n",
       "\tmarriage & -0.617325533 &  1.0000000   &  0.6737273   & 0.258198260 \\\\\n",
       "\tbirth & -0.576313991 &  0.6737273   &  1.0000000   & 0.140898643 \\\\\n",
       "\tmilitary &  0.007267171 &  0.2581983   &  0.1408986   & 1.000000000 \\\\\n",
       "\\end{tabular}\n"
      ],
      "text/markdown": [
       "\n",
       "| <!--/--> | year | marriage | birth | military |\n",
       "|---|---|---|---|---|\n",
       "| year |  1.000000000 | -0.6173255   | -0.5763140   | 0.007267171  |\n",
       "| marriage | -0.617325533 |  1.0000000   |  0.6737273   | 0.258198260  |\n",
       "| birth | -0.576313991 |  0.6737273   |  1.0000000   | 0.140898643  |\n",
       "| military |  0.007267171 |  0.2581983   |  0.1408986   | 1.000000000  |\n",
       "\n"
      ],
      "text/plain": [
       "         year         marriage   birth      military   \n",
       "year      1.000000000 -0.6173255 -0.5763140 0.007267171\n",
       "marriage -0.617325533  1.0000000  0.6737273 0.258198260\n",
       "birth    -0.576313991  0.6737273  1.0000000 0.140898643\n",
       "military  0.007267171  0.2581983  0.1408986 1.000000000"
      ]
     },
     "metadata": {},
     "output_type": "display_data"
    }
   ],
   "source": [
    "lmod2 = lm(divorce ~ year + marriage + birth + military, data = divorce)\n",
    "summary(lmod2)\n",
    "vif(lmod2)\n",
    "X2 = model.matrix(lmod2); A2 = t(X2)%*%X2; e = eigen(A2); k2 = sqrt(max(e$values)/min(e$values)); k2\n",
    "cor(X2[,-1])"
   ]
  },
  {
   "cell_type": "markdown",
   "metadata": {
    "nbgrader": {
     "grade": true,
     "grade_id": "cell-2dee5d1176534262",
     "locked": false,
     "points": 5,
     "schema_version": 3,
     "solution": true,
     "task": false
    }
   },
   "source": [
    "We see some reduction in the condition number and the VIFs. However, we haven't eliminated the high pairwise correlations, so collinearity still exists."
   ]
  }
 ],
 "metadata": {
  "celltoolbar": "Create Assignment",
  "kernelspec": {
   "display_name": "R",
   "language": "R",
   "name": "ir"
  },
  "language_info": {
   "codemirror_mode": "r",
   "file_extension": ".r",
   "mimetype": "text/x-r-source",
   "name": "R",
   "pygments_lexer": "r",
   "version": "3.6.1"
  }
 },
 "nbformat": 4,
 "nbformat_minor": 4
}
