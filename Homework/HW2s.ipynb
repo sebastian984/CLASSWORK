{
 "cells": [
  {
   "cell_type": "markdown",
   "metadata": {
    "id": "8woHle61ykvU",
    "nbgrader": {
     "grade": false,
     "grade_id": "cell-4cb9177ad6ee71aa",
     "locked": true,
     "schema_version": 3,
     "solution": false,
     "task": false
    }
   },
   "source": [
    "# Homework #2\n",
    "\n",
    "**See Canvas for this assignment due date**. Complete all of the following problems. Ideally, the theoretical problems should be answered in a Markdown cell directly underneath the question. If you don't know LaTex/Markdown, you may submit separate handwritten solutions to the theoretical problems. Please do not turn in messy work. Computational problems should be completed in this notebook (using the R kernel is preferred). Computational questions may require code, plots, analysis, interpretation, etc. Working in small groups is allowed, but it is important that you make an effort to master the material and hand in your own work. \n"
   ]
  },
  {
   "cell_type": "markdown",
   "metadata": {
    "id": "CMtvG6oGykve",
    "nbgrader": {
     "grade": false,
     "grade_id": "cell-f96559b34cabcd8d",
     "locked": true,
     "schema_version": 3,
     "solution": false,
     "task": false
    }
   },
   "source": [
    "## A. Theoretical Problems"
   ]
  },
  {
   "cell_type": "markdown",
   "metadata": {
    "id": "m8U83e5Vykve",
    "nbgrader": {
     "grade": false,
     "grade_id": "cell-f87cbee6636bae26",
     "locked": true,
     "schema_version": 3,
     "solution": false,
     "task": false
    }
   },
   "source": [
    "### Problem A.1\n",
    "\n",
    "#### Prove that, in the context of simple linear regression, $TSS = RSS + ESS$. Recall that $TSS$ is the total sum of squares, $RSS$ is the residual sum of squares, and $ESS$ is the explained (or model or regression) sum of squares. (HINT: you might start with TSS and add a fancy form of 0 somewhere.)\n",
    "\n",
    "(Note that this result is true for MLR too, but the proof is a little more involved.)\n"
   ]
  },
  {
   "cell_type": "markdown",
   "metadata": {
    "id": "qUtFt0BKykvf",
    "nbgrader": {
     "grade": true,
     "grade_id": "cell-1510a40bb38ecd66",
     "locked": false,
     "points": 9,
     "schema_version": 3,
     "solution": true,
     "task": false
    }
   },
   "source": [
    "\\begin{align*}\n",
    "TSS &=\\sum(􏰂Y_i - \\bar{Y})^2 = \\sum(\\widehat{Y}_i - \\bar{Y} + Y_i - \\widehat{Y}_i)^2 = \\sum \\bigg[(\\widehat{Y}_i - \\bar{Y})^2 + (Y_i − \\widehat{Y}_i)^2 + 2(\\widehat{Y}_i − \\bar{Y})(Y_i - \\widehat{Y}_i)\\bigg] \\\\\n",
    "&= \\sum  (\\widehat{Y}_i - \\bar{Y})^2 + \\sum(Y_i − \\widehat{Y}_i)^2 + 2\\sum(\\widehat{Y}_i − \\bar{Y})(Y_i - \\widehat{Y}_i) \\\\\n",
    "& \\overset{why?}{=} ESS + RSS + 0 = ESS + RSS\n",
    "\\end{align*}\n",
    "\n",
    "\n",
    "\\begin{align*}\n",
    "\\sum(\\widehat{Y}_i − \\bar{Y})(Y_i - \\widehat{Y}_i) = \\underbrace{\\sum(Y_i - \\widehat{Y}_i)\\widehat{Y}_i}_{A} - \\underbrace{\\bar{Y}\\sum(Y_i - \\widehat{Y}_i)}_{B}.\n",
    "\\end{align*}\n",
    "\n",
    "Both $A$ and $B$ are zero. Noting that $\\widehat Y_i = \\widehat\\beta_0 + \\widehat\\beta_1x_i$ and $\\widehat\\beta_0 = \\bar{Y} - \\widehat\\beta_1\\bar{x}$\n",
    "\n",
    "\\begin{align*}\n",
    "A &= \\sum(Y_i - \\widehat{Y}_i)\\widehat{Y}_i = \\sum\\widehat\\epsilon_i\\widehat{Y}_i = \\sum\\widehat\\epsilon_i(\\widehat\\beta_0 + \\widehat\\beta_1x_i) \\\\\n",
    "&= \\widehat\\beta_0\\sum\\widehat\\epsilon_i + \\widehat\\beta_1\\sum\\widehat\\epsilon_ix_i.\n",
    "\\end{align*}\n",
    "\n",
    "Note that\n",
    "\n",
    "1. $\\sum\\widehat\\epsilon_i$ is always equal to zero: $\\sum\\widehat\\epsilon_i = \\sum(Y_i - \\bar{Y} + \\widehat\\beta_1\\bar{x} - \\widehat\\beta_1x_i) = \\sum Y_i - \\sum\\bar{Y} + \\widehat\\beta_1\\sum\\bar{x} - \\widehat\\beta_1\\sum x_i = n\\bar{Y} - n\\bar{Y} + \\widehat\\beta_1n\\bar{x} - \\widehat\\beta_1n \\bar{x} = 0$\n",
    "\n",
    "2. $\\sum\\widehat\\epsilon_ix_i$ is the derivative of the residual sum of squares with respect to $\\beta_1$, with the least squares estimators, $\\widehat\\beta_0$ and $\\widehat\\beta_1$, plugged in (inside of $\\widehat\\varepsilon_i$). Remember that to find the least squares estimator, we set this derivative equal to zero and solve for $\\widehat\\beta_0$ and $\\widehat\\beta_1$. So, $\\sum\\widehat\\epsilon_ix_i = 0$ by design!\n",
    "\n",
    "Thus, $A = 0$. But $B$ is just a constant times $\\sum\\widehat\\epsilon_i$. But we argued that $\\sum\\widehat\\epsilon_i = 0$ in 1 above. Thus, $B = 0$ too. "
   ]
  },
  {
   "cell_type": "markdown",
   "metadata": {
    "id": "hj3IKD4qykvf",
    "nbgrader": {
     "grade": false,
     "grade_id": "cell-2753a8c38fd75dc9",
     "locked": true,
     "schema_version": 3,
     "solution": false,
     "task": false
    }
   },
   "source": [
    "### Problem A.2: The multivariate normal distribution and its application to regression!\n",
    "\n",
    "The multivariate normal distribution of an $n$-dimensional vector $\\mathbf{Y} = (Y_1,...,Y_n)^T$ can be written in the following notation: \n",
    "\n",
    "$$\\mathbf{Y} \\sim N\\left(\\boldsymbol{\\mu}, \\Sigma \\right),$$ \n",
    "\n",
    "where $\\boldsymbol{\\mu} = (\\underbrace{ \\mu_1 }_{E(Y_1)},...,\\underbrace{ \\mu_n }_{E(Y_n)})^T$ is a vector of means and \n",
    "\n",
    "$\\Sigma = \\left(\\begin{matrix}\n",
    "\\sigma_{Y_1, Y_1} & \\sigma_{Y_1, Y_2} & \\cdots & \\sigma_{Y_1, Y_n} \\\\\n",
    "\\sigma_{Y_2, Y_1} & \\sigma_{Y_2, Y_2} & \\cdots & \\sigma_{Y_2, Y_n} \\\\\n",
    "\\vdots & \\vdots & \\ddots & \\vdots \\\\\n",
    "\\sigma_{Y_n, Y_1} & \\sigma_{Y_n, Y_2} & \\cdots & \\sigma_{Y_n, Y_n} \\\\\n",
    "\\end{matrix}\\right)$\n",
    "\n",
    "and $\\Sigma$ is a *variance-covariance* matrix with entries $\\displaystyle \\sigma_{Y_i, Y_j} = Cov(Y_i,Y_j)$ for $i,j = 1,...,n$.\n",
    "\n",
    "What does it mean for a vector to have a *multivariate normal distribution*? It means that, for any constant (i.e., *non-random*) vector $\\mathbf{a} = (a_1,a_2,...,a_n)^T$, every linear combination $X = \\mathbf{a}^T\\mathbf{Y} = a_1Y_1 + a_2Y_2 + ... + a_nY_n$ has a univariate normal distribution with mean $\\mu_X =  \\mathbf{a}^T\\boldsymbol{\\mu}$ and variance $\\sigma_X^2 = \\mathbf{a}^T\\Sigma\\mathbf{a}$.\n",
    "\n",
    "Further, note that: if $\\mathbf{b}$ is an $m\\times1$ constant vector, and $B$ is an $m \\times n$ constant matrix, then $\\mathbf{b} + B\\mathbf{Y} \\sim N\\left(\\mathbf{b} + B\\boldsymbol\\mu, B\\Sigma B^T \\right)$. \n",
    "\n",
    "Ok, those were some great properties, and you should make use of them below.\n",
    "\n",
    "Consider the linear regression model $\\mathbf{Y} = X\\boldsymbol\\beta + \\boldsymbol{\\varepsilon}$, where $\\,\\boldsymbol{\\varepsilon} {\\sim} N(\\mathbf{0},\\sigma^2I_n)$, $\\mathbf{0}$ is an $n\\times 1$ vector, and $I_n$ is the $n \\times n$ identity matrix. \n",
    "\n",
    "**A.2 (a) Show that $\\varepsilon_i \\sim N(0,\\sigma^2)$.**"
   ]
  },
  {
   "cell_type": "markdown",
   "metadata": {
    "id": "brDEnQORykvg",
    "nbgrader": {
     "grade": true,
     "grade_id": "cell-6af0c316fdc6f714",
     "locked": false,
     "points": 8,
     "schema_version": 3,
     "solution": true,
     "task": false
    }
   },
   "source": [
    "Let $\\mathbf{a} = (0,0,...,0,1,0,...0)^T$ be of length $n$, where $1$ is in the $i^{th}$ position. Then $\\varepsilon_i = \\mathbf{a}^T\\boldsymbol{\\varepsilon}$ is normally distributed, by definition of the multivariate normal distribution. Further, from above:\n",
    "\n",
    "- $\\mu_{\\varepsilon_i} = \\mathbf{a}^T\\mathbf{0} = 0$.\n",
    "- $\\sigma^2_{\\varepsilon_i} = \\mathbf{a}^T\\sigma^2I_n \\mathbf{a} = \\sigma^2\\mathbf{a}^TI_n \\mathbf{a} = \\sigma^2$."
   ]
  },
  {
   "cell_type": "markdown",
   "metadata": {
    "id": "Biic1AN9ykvg",
    "nbgrader": {
     "grade": false,
     "grade_id": "cell-fe794c0eeb06fffa",
     "locked": true,
     "schema_version": 3,
     "solution": false,
     "task": false
    }
   },
   "source": [
    "**A.2 (b) Show that $\\mathbf{Y} \\sim N(X\\boldsymbol\\beta, \\sigma^2I_n)$**"
   ]
  },
  {
   "cell_type": "markdown",
   "metadata": {
    "id": "q7iL717qykvh",
    "nbgrader": {
     "grade": true,
     "grade_id": "cell-df0414dd4c802522",
     "locked": false,
     "points": 7,
     "schema_version": 3,
     "solution": true,
     "task": false
    }
   },
   "source": [
    "This follows directly from above, with $\\mathbf{b} = X\\boldsymbol\\beta$, $B = I_n$"
   ]
  },
  {
   "cell_type": "markdown",
   "metadata": {
    "id": "yp0me9C-ykvh",
    "nbgrader": {
     "grade": false,
     "grade_id": "cell-7e32274e44be2649",
     "locked": true,
     "schema_version": 3,
     "solution": false,
     "task": false
    }
   },
   "source": [
    "**A.2 (c) Let $\\boldsymbol{\\widehat\\beta} $ be the least squares estimator of $\\boldsymbol{\\beta}$. Prove that $\\boldsymbol{\\widehat\\beta}$ has a multivariate normal distribution. What are the mean and variance-covariance matrix?**"
   ]
  },
  {
   "cell_type": "markdown",
   "metadata": {
    "id": "G4rGLMwYykvi",
    "nbgrader": {
     "grade": true,
     "grade_id": "cell-ddb77192cb4152a8",
     "locked": false,
     "points": 14,
     "schema_version": 3,
     "solution": true,
     "task": false
    }
   },
   "source": [
    "Let $\\mathbf{a} = \\mathbf{0}$ and $B = \\left(X^TX\\right)^{-1}X^T$. Then it follows from above that $\\boldsymbol{\\widehat\\beta} = \\mathbf{a} + B\\mathbf{Y} = B\\mathbf{Y} \\sim N\\left(\\underbrace{B\\mathbf{Y}}_{E(\\boldsymbol{\\widehat\\beta})},\\, \\underbrace{ B\\sigma^2I_n B^T}_{Cov(\\widehat\\beta_i, \\widehat\\beta_j)}\\right)$. Note that\n",
    "\n",
    "- $E(\\boldsymbol{\\widehat\\beta}) = E(B\\mathbf{Y}) = BE\\left(\\mathbf{Y}\\right) = \\left(X^TX\\right)^{-1}X^T E(\\mathbf{Y}) = \\left(X^TX\\right)^{-1}X^T X\\boldsymbol\\beta = \\boldsymbol\\beta$\n",
    "\n",
    "\n",
    "- $Cov(\\widehat\\beta_i, \\widehat\\beta_j) = B\\sigma^2I_n B^T = \\sigma^2 \\left(X^TX\\right)^{-1}X^T I_n X\\left(X^TX\\right)^{-1} = \\sigma^2 \\left(X^TX\\right)^{-1}X^T  X\\left(X^TX\\right)^{-1} = \\sigma^2  \\left(X^TX\\right)^{-1}$"
   ]
  },
  {
   "cell_type": "markdown",
   "metadata": {
    "id": "QEmKPP4Iykvi",
    "nbgrader": {
     "grade": false,
     "grade_id": "cell-99dc6ff7930c0a83",
     "locked": true,
     "schema_version": 3,
     "solution": false,
     "task": false
    }
   },
   "source": [
    "### Problem A.3\n",
    "\n",
    "Suppose that, for $i = 1,...,n$, the pairs $(x_i, y_i)$ are generated according to a simple linear regression model \n",
    "\n",
    "$$Y_i = \\beta_0 + \\beta_1x_i + \\varepsilon_i,$$\n",
    "\n",
    "where $x_i$ are fixed constants and $\\varepsilon_i \\overset{iid}{\\sim} N(0,\\sigma^2)$. Then, imagine reparameterizing the model as\n",
    "\n",
    "$$Y_i = \\beta^*_0 + \\beta^*_1\\left(x_i- \\bar{x}\\right) + \\varepsilon_i.$$\n",
    "\n",
    "Let $\\widehat\\beta_j$ be the least squares estimator of $\\beta_j$, and $\\widehat\\beta^*_j$ be the least squares estimator of $\\beta^*_j$ for $j=0,1$.\n",
    "\n",
    "**A.3 (a) Show that $\\widehat\\beta^*_1 = \\widehat\\beta_1$. HINT: For SLR, $\\displaystyle \\widehat\\beta_1 = \\frac{\\sum^n_{i=1}\\left( x_i - \\bar{x}\\right)\\left(y_i - \\bar{y} \\right)}{\\sum^n_{i=1}\\left(x_i - \\bar{x}\\right)^2}$.**\n"
   ]
  },
  {
   "cell_type": "markdown",
   "metadata": {
    "id": "d5YNMZQIykvj",
    "nbgrader": {
     "grade": true,
     "grade_id": "cell-71b21ec4d93b8dbc",
     "locked": false,
     "points": 9,
     "schema_version": 3,
     "solution": true,
     "task": false
    }
   },
   "source": [
    "Let $z_i = (x_i - \\bar{x} )$. Note that $\\bar{z} = 0$. Thus,\n",
    "\n",
    "$$\\displaystyle \\widehat\\beta^*_1 = \\frac{\\sum^n_{i=1}\\left( z_i - \\bar{z}\\right)\\left(y_i - \\bar{y} \\right)}{\\sum^n_{i=1}\\left(z_i - \\bar{z}\\right)^2} = \\frac{\\sum^n_{i=1}\\left( z_i \\right)\\left(y_i - \\bar{y} \\right)}{\\sum^n_{i=1}\\left(z_i\\right)^2}  = \\frac{\\sum^n_{i=1}\\left( x_i - \\bar{x}\\right)\\left(y_i - \\bar{y} \\right)}{\\sum^n_{i=1}\\left(x_i - \\bar{x}\\right)^2} = \\widehat\\beta_1.$$"
   ]
  },
  {
   "cell_type": "markdown",
   "metadata": {
    "id": "jsoLw8Nwykvk",
    "nbgrader": {
     "grade": false,
     "grade_id": "cell-c9b6695b78357a36",
     "locked": true,
     "schema_version": 3,
     "solution": false,
     "task": false
    }
   },
   "source": [
    "**A.3 (b) Show that, in general, $\\widehat\\beta^*_0 \\ne \\widehat\\beta_0$, and find $\\widehat\\beta^*_0$ in terms of $Y_i$. In what particular case is $\\widehat\\beta^*_0 = \\widehat\\beta_0$?**\n",
    "\n",
    "HINT: For SLR, $\\widehat\\beta_0 = \\bar{y} - \\widehat\\beta_1 \\bar{x}$.\n"
   ]
  },
  {
   "cell_type": "markdown",
   "metadata": {
    "id": "68HfyQv-ykvk",
    "nbgrader": {
     "grade": true,
     "grade_id": "cell-8b1c9bafaef1b6b8",
     "locked": false,
     "points": 7,
     "schema_version": 3,
     "solution": true,
     "task": false
    }
   },
   "source": [
    "Again, note that $\\bar{z} = 0$. Thus, $\\widehat\\beta^*_0 = \\bar{y} - \\widehat\\beta_1 \\bar{z} = \\bar{y} \\ne \\widehat\\beta_0$ unless $\\bar{x} = 0$."
   ]
  },
  {
   "cell_type": "markdown",
   "metadata": {
    "id": "nWauR6aiykvl",
    "nbgrader": {
     "grade": false,
     "grade_id": "cell-bc3a70dd89381230",
     "locked": true,
     "schema_version": 3,
     "solution": false,
     "task": false
    }
   },
   "source": [
    "**A.3 (c) Why might the reparameterized model be beneficial?**"
   ]
  },
  {
   "cell_type": "markdown",
   "metadata": {
    "id": "xw2zTX_Kykvl",
    "nbgrader": {
     "grade": true,
     "grade_id": "cell-b788699cb842c377",
     "locked": false,
     "points": 6,
     "schema_version": 3,
     "solution": true,
     "task": false
    }
   },
   "source": [
    "This reparameterized model is beneficial because it helps with the interpretation of the parameters. Once centered, the interpretation of $\\widehat\\beta^*_0$ becomes the average value of $y$ when $x$ is equal to its (sample) mean. This is better than $x = 0$ in a lot of cases because often $x=0$ is not possible (e.g., if $x$ is height, weight)."
   ]
  },
  {
   "cell_type": "markdown",
   "metadata": {
    "id": "eDTkTdzhykvl",
    "nbgrader": {
     "grade": false,
     "grade_id": "cell-ab9484af5219cfd8",
     "locked": true,
     "schema_version": 3,
     "solution": false,
     "task": false
    }
   },
   "source": [
    "### Problem A.4 <span style=\"color: #CFB87C;\">(STAT 5010 Students Only)</span> \n",
    "\n",
    "Define the trace of a square matrix \n",
    "\n",
    "$A = \\left(\\begin{matrix}\n",
    "a_{1,1} & a_{1,2} & \\cdots & a_{1,n} \\\\\n",
    "a_{2,1} & a_{2,2} & \\cdots & a_{2,n} \\\\\n",
    "\\vdots & \\vdots & \\ddots & \\vdots \\\\\n",
    "a_{n,1} & a_{n,2} & \\cdots & a_{n,n} \n",
    "\\end{matrix} \\right)$\n",
    "\n",
    "to be $tr(A) = \\sum^n_{i=1}a_{i,i}$, i.e., the sum of the diagonal elements of $A$.\n",
    "\n",
    "**A.4 (a) Let $B$ be a $m \\times n$ matrix and $C$ $n\\times m$ matrix. Prove that $tr(BC) = tr(CB).$**"
   ]
  },
  {
   "cell_type": "markdown",
   "metadata": {
    "id": "i-TzJ5jMykvl",
    "nbgrader": {
     "grade": true,
     "grade_id": "cell-ae81926d8a4a90bf",
     "locked": false,
     "points": 6,
     "schema_version": 3,
     "solution": true,
     "task": false
    }
   },
   "source": [
    "\\begin{align*}\n",
    "tr(BC) &= \\left(b_{1,1}c_{1,1} + b_{1,2}c_{2,1} + ... + b_{1,n}c_{n,1}\\right) + \\left(b_{2,1}c_{1,2} + b_{2,2}c_{2,2} + ... + b_{2,n}c_{n,2}\\right) + ... + \\left(b_{m,1}c_{1,m} + b_{m,2}c_{2,m} + ... + b_{m,n}c_{n,m}\\right) \\\\\n",
    "&= \\sum^m_{i=1}\\left(b_{i,1}c_{1,i} + b_{i,2}c_{2,i} + ... + b_{i,n}c_{n,i}\\right) \\\\\n",
    "&= \\sum^m_{i=1}\\sum^n_{j=1} b_{i,j}c_{j,i} \\\\\n",
    "&= \\sum^n_{j=1}\\sum^m_{i=1}c_{j,i} b_{i,j} \\\\\n",
    "&= \\sum^n_{i=j}\\left(c_{j,1}b_{1,j} + c_{j,2}b_{2,j} + ... + c_{j,m}b_{m,j}\\right) \\\\\n",
    "&= \\left(c_{1,1}b_{1,1} + c_{1,2}b_{2,1} + ... + c_{1,m}b_{m,1}\\right) + \\left(c_{2,1}b_{1,2} + c_{2,2}b_{2,2} + ... + c_{2,m}b_{m,2}\\right) + ... + \\left(c_{n,1}b_{1,n} + c_{n,2}b_{2,n} + ... + c_{n,m}b_{m,n}\\right) \\\\\n",
    " &=tr(CB)\n",
    "\\end{align*}\n",
    "\n",
    "(OK, that's awesome!)"
   ]
  },
  {
   "cell_type": "markdown",
   "metadata": {
    "id": "2JnvjT6Kykvm",
    "nbgrader": {
     "grade": false,
     "grade_id": "cell-f6c792b97221c345",
     "locked": true,
     "schema_version": 3,
     "solution": false,
     "task": false
    }
   },
   "source": [
    "**A.4 (b) Let $H$ be the hat matrix as defined in class. Prove that $tr(H) = p+1$, where $p$ is the number of parameters in the regression.**\n"
   ]
  },
  {
   "cell_type": "markdown",
   "metadata": {
    "id": "21ia-Eitykvm",
    "nbgrader": {
     "grade": true,
     "grade_id": "cell-7396c44af274304c",
     "locked": false,
     "points": 4,
     "schema_version": 3,
     "solution": true,
     "task": false
    }
   },
   "source": [
    "$\\displaystyle tr\\left( H \\right) = tr\\left( \\underbrace{X\\left(X^TX\\right)^{-1}}_{n\\times (p+1)} \\, \\underbrace{X^T}_{(p+1) \\times n} \\right) = tr\\left( \\underbrace{X^T}_{(p+1) \\times n}\\underbrace{X\\left(X^TX\\right)^{-1}}_{n\\times (p+1)}  \\right) = tr\\left(I_{p+1}\\right) = p+1$"
   ]
  },
  {
   "cell_type": "markdown",
   "metadata": {
    "id": "PKpjG0Saykvm",
    "nbgrader": {
     "grade": false,
     "grade_id": "cell-e0c98096efe0c8f2",
     "locked": true,
     "schema_version": 3,
     "solution": false,
     "task": false
    }
   },
   "source": [
    "## B. Computational Problems"
   ]
  },
  {
   "cell_type": "code",
   "execution_count": null,
   "metadata": {
    "id": "nYZKkbbxykvn",
    "nbgrader": {
     "grade": false,
     "grade_id": "cell-73b276e7207bca78",
     "locked": true,
     "schema_version": 3,
     "solution": false,
     "task": false
    }
   },
   "outputs": [],
   "source": [
    "library(testthat)"
   ]
  },
  {
   "cell_type": "markdown",
   "metadata": {
    "id": "F3Nxfsdwykvo",
    "nbgrader": {
     "grade": false,
     "grade_id": "cell-bf0ea2b1223bfbdf",
     "locked": true,
     "schema_version": 3,
     "solution": false,
     "task": false
    }
   },
   "source": [
    "### Problem B.1\n",
    "\n",
    "**B.1 (a) Run a simulation to confirm your result in problem A.3 (a) - (b). Let's do this in parts. In the cell directly below:**\n",
    "\n",
    "- Set `n = 50`, $\\boldsymbol\\beta = $ `beta = c(1, 3.5)`.\n",
    "- Simulate $n$ predictor values ($x$) randomly from $N(3,1)$. Store those values in a variable `x`. \n",
    "- Simulate $n$ random error terms from $N(0,2)$. Store them in the variable `e`.\n",
    "- Calculate the response ($y$) according to `y = b0 + b1 x + e`\n",
    "- Fit a simple linear regression model to the data using the `lm()` function. Store the `lm()` object in a variable `l` and the coefficients of that model in a variable `b1 = coef(l)`."
   ]
  },
  {
   "cell_type": "code",
   "execution_count": 1,
   "metadata": {
    "executionInfo": {
     "elapsed": 235,
     "status": "ok",
     "timestamp": 1612991629136,
     "user": {
      "displayName": "Ksenia Lepikhina",
      "photoUrl": "",
      "userId": "10860340200491336439"
     },
     "user_tz": 420
    },
    "id": "kY4_UW8Lykvo",
    "nbgrader": {
     "grade": false,
     "grade_id": "cell-72234ccf6504ceaa",
     "locked": false,
     "schema_version": 3,
     "solution": true,
     "task": false
    }
   },
   "outputs": [
    {
     "data": {
      "text/html": [
       "<dl class=dl-horizontal>\n",
       "\t<dt>(Intercept)</dt>\n",
       "\t\t<dd>0.485648705908046</dd>\n",
       "\t<dt>x</dt>\n",
       "\t\t<dd>3.58491595479296</dd>\n",
       "</dl>\n"
      ],
      "text/latex": [
       "\\begin{description*}\n",
       "\\item[(Intercept)] 0.485648705908046\n",
       "\\item[x] 3.58491595479296\n",
       "\\end{description*}\n"
      ],
      "text/markdown": [
       "(Intercept)\n",
       ":   0.485648705908046x\n",
       ":   3.58491595479296\n",
       "\n"
      ],
      "text/plain": [
       "(Intercept)           x \n",
       "  0.4856487   3.5849160 "
      ]
     },
     "metadata": {},
     "output_type": "display_data"
    }
   ],
   "source": [
    "set.seed(1918)\n",
    "n = 50; beta = c(1,3.5);\n",
    "\n",
    "### BEGIN SOLUTION HERE\n",
    "e = rnorm(n, 0, 2)\n",
    "x = rnorm(n,3,1)\n",
    "y = beta[1] + beta[2]*x + e\n",
    "l = lm(y ~ x)\n",
    "### END SOLUTION HERE\n",
    "b1 = coef(l); b1"
   ]
  },
  {
   "cell_type": "code",
   "execution_count": 2,
   "metadata": {
    "colab": {
     "base_uri": "https://localhost:8080/",
     "height": 96
    },
    "executionInfo": {
     "elapsed": 343,
     "status": "error",
     "timestamp": 1612991629251,
     "user": {
      "displayName": "Ksenia Lepikhina",
      "photoUrl": "",
      "userId": "10860340200491336439"
     },
     "user_tz": 420
    },
    "id": "861Tccz5ykvo",
    "nbgrader": {
     "grade": true,
     "grade_id": "cell-05adb6b33250e156",
     "locked": true,
     "points": 10,
     "schema_version": 3,
     "solution": false,
     "task": false
    },
    "outputId": "c6462f90-12f8-4879-8bd5-7502ee76478d"
   },
   "outputs": [
    {
     "ename": "ERROR",
     "evalue": "Error in test_that(\"Is l correct type?\", {: could not find function \"test_that\"\n",
     "output_type": "error",
     "traceback": [
      "Error in test_that(\"Is l correct type?\", {: could not find function \"test_that\"\nTraceback:\n"
     ]
    }
   ],
   "source": [
    "### BEGIN HIDDEN TESTS\n",
    "set.seed(1918)\n",
    "n = 50; beta = c(1,3.5);\n",
    "e_solution = rnorm(n, 0, 2)\n",
    "x_solution = rnorm(n,3,1)\n",
    "y_solution = beta[1] + beta[2]*x + e\n",
    "l_solution = lm(y ~ x)\n",
    "b1_solution = coef(l)\n",
    "test_that(\"Is l correct type?\", {expect_is(l, \"lm\")})\n",
    "test_that(\"Is b correct?\", {expect_equal(b1_solution, b1)})\n",
    "test_that(\"Is b correct?\", {expect_equal(x, x_solution)})\n",
    "### END HIDDEN TESTS"
   ]
  },
  {
   "cell_type": "markdown",
   "metadata": {
    "id": "Hza_R32Iykvo",
    "nbgrader": {
     "grade": false,
     "grade_id": "cell-fd20529e1ad23298",
     "locked": true,
     "schema_version": 3,
     "solution": false,
     "task": false
    }
   },
   "source": [
    "**B.1 (b) Now:**\n",
    "\n",
    "- **Center the predictor values and store those values in a variable `z`.**\n",
    "- **Fit a simple linear regression model to the new data, $(z_i, y_i)$, using the `lm()` function. Store the `lm()` object in a variable `l2` and the coefficients of that model in a variable `b2 = coef(l2)` (`b2` shoujld be a vector of length $2$).**\n",
    "- **In the Markdown cell below the hidden test cell, describe the differences between `b` and `b2`.**"
   ]
  },
  {
   "cell_type": "code",
   "execution_count": 3,
   "metadata": {
    "id": "9lPgbYxHykvp",
    "nbgrader": {
     "grade": false,
     "grade_id": "cell-58454b1567d2c5e5",
     "locked": false,
     "schema_version": 3,
     "solution": true,
     "task": false
    }
   },
   "outputs": [
    {
     "data": {
      "text/html": [
       "<dl class=dl-horizontal>\n",
       "\t<dt>(Intercept)</dt>\n",
       "\t\t<dd>11.6979408770835</dd>\n",
       "\t<dt>z</dt>\n",
       "\t\t<dd>3.58491595479296</dd>\n",
       "</dl>\n"
      ],
      "text/latex": [
       "\\begin{description*}\n",
       "\\item[(Intercept)] 11.6979408770835\n",
       "\\item[z] 3.58491595479296\n",
       "\\end{description*}\n"
      ],
      "text/markdown": [
       "(Intercept)\n",
       ":   11.6979408770835z\n",
       ":   3.58491595479296\n",
       "\n"
      ],
      "text/plain": [
       "(Intercept)           z \n",
       "  11.697941    3.584916 "
      ]
     },
     "metadata": {},
     "output_type": "display_data"
    }
   ],
   "source": [
    "### BEGIN SOLUTION HERE\n",
    "z = x - mean(x)\n",
    "l2 = lm(y ~ z)\n",
    "### END SOLUTION HERE\n",
    "b2 = coef(l2); b2"
   ]
  },
  {
   "cell_type": "code",
   "execution_count": null,
   "metadata": {
    "id": "Kaca0xCMykvp",
    "nbgrader": {
     "grade": true,
     "grade_id": "cell-6d97bef43d86fad8",
     "locked": true,
     "points": 5,
     "schema_version": 3,
     "solution": false,
     "task": false
    }
   },
   "outputs": [],
   "source": [
    "### BEGIN HIDDEN TESTS\n",
    "z_solution = x_solution - mean(x_solution)\n",
    "l2_solution = lm(y ~ z)\n",
    "b2_solution = coef(l2)\n",
    "test_that(\"Is l2 correct type?\", {expect_is(l2, \"lm\")})\n",
    "test_that(\"Is z correct?\", {expect_equal(z, z_solution)})\n",
    "test_that(\"Is b2 correct?\", {expect_equal(b2_solution, b2)})\n",
    "### END HIDDEN TESTS"
   ]
  },
  {
   "cell_type": "markdown",
   "metadata": {
    "id": "wM-r6MSBykvp",
    "nbgrader": {
     "grade": true,
     "grade_id": "cell-dbf89f984bec2ae6",
     "locked": false,
     "points": 3,
     "schema_version": 3,
     "solution": true,
     "task": false
    }
   },
   "source": [
    "We see a confirmation of A.3 (a) - (b), that is, the slope terms are the same, but the intercept terms are different."
   ]
  },
  {
   "cell_type": "markdown",
   "metadata": {
    "id": "SI66QD9uykvp"
   },
   "source": [
    "**B.1 (c) Now confirm A.4 (b) using the model from B.1 (b) (STAT 4010 students, you will do this too, even though you don't have to do A.4 (b) above). That is, compute the hat matrix, and then compute its trace (sum of the diagonals). Store your answer in `pp1`. (To do this quickly, you can use the `tr()` function in the `psych` package. You'll probably need to install the package in Anaconda.)**"
   ]
  },
  {
   "cell_type": "code",
   "execution_count": null,
   "metadata": {
    "id": "v3B9BqjXykvp",
    "nbgrader": {
     "grade": false,
     "grade_id": "cell-05989d98bba83c16",
     "locked": false,
     "schema_version": 3,
     "solution": true,
     "task": false
    },
    "outputId": "bc2f64a9-d882-4138-ed02-dde000847104"
   },
   "outputs": [
    {
     "name": "stderr",
     "output_type": "stream",
     "text": [
      "\n",
      "Attaching package: ‘psych’\n",
      "\n",
      "The following object is masked from ‘package:testthat’:\n",
      "\n",
      "    describe\n",
      "\n"
     ]
    },
    {
     "data": {
      "text/html": [
       "2"
      ],
      "text/latex": [
       "2"
      ],
      "text/markdown": [
       "2"
      ],
      "text/plain": [
       "[1] 2"
      ]
     },
     "metadata": {
      "tags": []
     },
     "output_type": "display_data"
    }
   ],
   "source": [
    "library(psych)\n",
    "### BEGIN SOLUTION HERE\n",
    "X = model.matrix(l2)\n",
    "H = X%*%solve(t(X)%*%X)%*%t(X)\n",
    "pp1 = tr(H); pp1\n",
    "### END SOLUTION HERE"
   ]
  },
  {
   "cell_type": "code",
   "execution_count": null,
   "metadata": {
    "id": "oA-zsj0Bykvr",
    "nbgrader": {
     "grade": true,
     "grade_id": "cell-5926c5251286658c",
     "locked": true,
     "points": 3,
     "schema_version": 3,
     "solution": false,
     "task": false
    }
   },
   "outputs": [],
   "source": [
    "### BEGIN HIDDEN TESTS\n",
    "test_that(\"Is pp1 correct?\", {expect_equal(pp1, 2)})\n",
    "### END HIDDEN TESTS"
   ]
  },
  {
   "cell_type": "markdown",
   "metadata": {
    "id": "MVmazBbgykvr",
    "nbgrader": {
     "grade": false,
     "grade_id": "cell-10155b370ab5ccb4",
     "locked": true,
     "schema_version": 3,
     "solution": false,
     "task": false
    }
   },
   "source": [
    "### Problem B.2\n",
    "\n",
    "This [link](https://www.colorado.edu/amath/sites/default/files/attached-files/advertising.txt) contains advertising data. This dataset contains, in thousands of dollars, TV, Radio, and Newspaper budgets for 200 different markets along with the Sales, in thousands of units, for each market. \n",
    "\n",
    "In the cell directly below, I load the dataset using the link above. Explore it graphically and numerically and note whether there relationships between variables.\n",
    "\n",
    "In any tests below, let $\\alpha = 0.05$.\n"
   ]
  },
  {
   "cell_type": "code",
   "execution_count": null,
   "metadata": {
    "id": "xE3vubXmykvr",
    "nbgrader": {
     "grade": false,
     "grade_id": "cell-4b8f00760a2333a1",
     "locked": true,
     "schema_version": 3,
     "solution": false,
     "task": false
    },
    "outputId": "065a85fb-0a2e-4f88-c559-02a65264b23c"
   },
   "outputs": [
    {
     "name": "stderr",
     "output_type": "stream",
     "text": [
      "Registered S3 methods overwritten by 'ggplot2':\n",
      "  method         from \n",
      "  [.quosures     rlang\n",
      "  c.quosures     rlang\n",
      "  print.quosures rlang\n",
      "Registered S3 method overwritten by 'rvest':\n",
      "  method            from\n",
      "  read_xml.response xml2\n",
      "── Attaching packages ─────────────────────────────────────── tidyverse 1.2.1 ──\n",
      "✔ ggplot2 3.1.1       ✔ purrr   0.3.2  \n",
      "✔ tibble  2.1.1       ✔ dplyr   0.8.0.1\n",
      "✔ tidyr   0.8.3       ✔ stringr 1.4.0  \n",
      "✔ readr   1.3.1       ✔ forcats 0.4.0  \n",
      "── Conflicts ────────────────────────────────────────── tidyverse_conflicts() ──\n",
      "✖ ggplot2::%+%()   masks psych::%+%()\n",
      "✖ ggplot2::alpha() masks psych::alpha()\n",
      "✖ dplyr::filter()  masks stats::filter()\n",
      "✖ purrr::is_null() masks testthat::is_null()\n",
      "✖ dplyr::lag()     masks stats::lag()\n",
      "✖ dplyr::matches() masks testthat::matches()\n",
      "\n",
      "Attaching package: ‘modelr’\n",
      "\n",
      "The following object is masked from ‘package:psych’:\n",
      "\n",
      "    heights\n",
      "\n",
      "\n",
      "Attaching package: ‘broom’\n",
      "\n",
      "The following object is masked from ‘package:modelr’:\n",
      "\n",
      "    bootstrap\n",
      "\n"
     ]
    },
    {
     "data": {
      "text/html": [
       "<table>\n",
       "<thead><tr><th scope=col>TV</th><th scope=col>radio</th><th scope=col>newspaper</th><th scope=col>sales</th></tr></thead>\n",
       "<tbody>\n",
       "\t<tr><td>230.1</td><td>37.8 </td><td>69.2 </td><td>22.1 </td></tr>\n",
       "\t<tr><td> 44.5</td><td>39.3 </td><td>45.1 </td><td>10.4 </td></tr>\n",
       "\t<tr><td> 17.2</td><td>45.9 </td><td>69.3 </td><td> 9.3 </td></tr>\n",
       "\t<tr><td>151.5</td><td>41.3 </td><td>58.5 </td><td>18.5 </td></tr>\n",
       "\t<tr><td>180.8</td><td>10.8 </td><td>58.4 </td><td>12.9 </td></tr>\n",
       "\t<tr><td>  8.7</td><td>48.9 </td><td>75.0 </td><td> 7.2 </td></tr>\n",
       "</tbody>\n",
       "</table>\n"
      ],
      "text/latex": [
       "\\begin{tabular}{r|llll}\n",
       " TV & radio & newspaper & sales\\\\\n",
       "\\hline\n",
       "\t 230.1 & 37.8  & 69.2  & 22.1 \\\\\n",
       "\t  44.5 & 39.3  & 45.1  & 10.4 \\\\\n",
       "\t  17.2 & 45.9  & 69.3  &  9.3 \\\\\n",
       "\t 151.5 & 41.3  & 58.5  & 18.5 \\\\\n",
       "\t 180.8 & 10.8  & 58.4  & 12.9 \\\\\n",
       "\t   8.7 & 48.9  & 75.0  &  7.2 \\\\\n",
       "\\end{tabular}\n"
      ],
      "text/markdown": [
       "\n",
       "| TV | radio | newspaper | sales |\n",
       "|---|---|---|---|\n",
       "| 230.1 | 37.8  | 69.2  | 22.1  |\n",
       "|  44.5 | 39.3  | 45.1  | 10.4  |\n",
       "|  17.2 | 45.9  | 69.3  |  9.3  |\n",
       "| 151.5 | 41.3  | 58.5  | 18.5  |\n",
       "| 180.8 | 10.8  | 58.4  | 12.9  |\n",
       "|   8.7 | 48.9  | 75.0  |  7.2  |\n",
       "\n"
      ],
      "text/plain": [
       "  TV    radio newspaper sales\n",
       "1 230.1 37.8  69.2      22.1 \n",
       "2  44.5 39.3  45.1      10.4 \n",
       "3  17.2 45.9  69.3       9.3 \n",
       "4 151.5 41.3  58.5      18.5 \n",
       "5 180.8 10.8  58.4      12.9 \n",
       "6   8.7 48.9  75.0       7.2 "
      ]
     },
     "metadata": {
      "tags": []
     },
     "output_type": "display_data"
    }
   ],
   "source": [
    "library(tidyverse)  # data manipulation and visualization\n",
    "library(modelr)     # provides easy pipeline modeling functions\n",
    "library(broom)      # helps to tidy up model outputs\n",
    "library(ggplot2)\n",
    "# Load data (remove row numbers included as X1 variable)\n",
    "adv = read.csv(\"https://www.colorado.edu/amath/sites/default/files/attached-files/advertising.txt\", sep = \"\\t\")\n",
    "adv = adv[,-1]\n",
    "head(adv)"
   ]
  },
  {
   "cell_type": "markdown",
   "metadata": {
    "id": "gJIgrXp6ykvs",
    "nbgrader": {
     "grade": true,
     "grade_id": "cell-63d443dcc2530136",
     "locked": false,
     "points": 0,
     "schema_version": 3,
     "solution": true,
     "task": false
    }
   },
   "source": []
  },
  {
   "cell_type": "markdown",
   "metadata": {
    "id": "vLu-CHjcykvs",
    "nbgrader": {
     "grade": false,
     "grade_id": "cell-f54c6644f3d5fd4a",
     "locked": true,
     "schema_version": 3,
     "solution": false,
     "task": false
    }
   },
   "source": [
    "**B.2 (a) Perform MLR, using sales as the response and all other variables as predictors. Store the resulting `lm()` object in `mlr_sales`.**"
   ]
  },
  {
   "cell_type": "code",
   "execution_count": null,
   "metadata": {
    "id": "51KYUfVqykvs",
    "nbgrader": {
     "grade": false,
     "grade_id": "cell-86f6bbbd6ba1aa87",
     "locked": false,
     "schema_version": 3,
     "solution": true,
     "task": false
    },
    "outputId": "3776d802-dbb6-40ba-fd05-90ffdad9912c"
   },
   "outputs": [
    {
     "data": {
      "text/plain": [
       "\n",
       "Call:\n",
       "lm(formula = sales ~ ., data = adv)\n",
       "\n",
       "Residuals:\n",
       "    Min      1Q  Median      3Q     Max \n",
       "-8.8277 -0.8908  0.2418  1.1893  2.8292 \n",
       "\n",
       "Coefficients:\n",
       "             Estimate Std. Error t value Pr(>|t|)    \n",
       "(Intercept)  2.938889   0.311908   9.422   <2e-16 ***\n",
       "TV           0.045765   0.001395  32.809   <2e-16 ***\n",
       "radio        0.188530   0.008611  21.893   <2e-16 ***\n",
       "newspaper   -0.001037   0.005871  -0.177     0.86    \n",
       "---\n",
       "Signif. codes:  0 ‘***’ 0.001 ‘**’ 0.01 ‘*’ 0.05 ‘.’ 0.1 ‘ ’ 1\n",
       "\n",
       "Residual standard error: 1.686 on 196 degrees of freedom\n",
       "Multiple R-squared:  0.8972,\tAdjusted R-squared:  0.8956 \n",
       "F-statistic: 570.3 on 3 and 196 DF,  p-value: < 2.2e-16\n"
      ]
     },
     "metadata": {
      "tags": []
     },
     "output_type": "display_data"
    }
   ],
   "source": [
    "mlr_sales = lm(sales ~ ., data = adv)\n",
    "summary(mlr_sales)"
   ]
  },
  {
   "cell_type": "code",
   "execution_count": null,
   "metadata": {
    "id": "YC0fJPfAykvt",
    "nbgrader": {
     "grade": true,
     "grade_id": "cell-ca8e4f32d7a8b1c2",
     "locked": true,
     "points": 5,
     "schema_version": 3,
     "solution": false,
     "task": false
    }
   },
   "outputs": [],
   "source": [
    "### BEGIN HIDDEN TESTS\n",
    "mlr_sales_solution = lm(sales ~ ., data = adv)\n",
    "test_that(\"Is mlr_sales the correct type?\", {expect_is(mlr_sales, \"lm\")})\n",
    "test_that(\"Is mlr_sales the correct?\", {expect_equal(coef(mlr_sales), coef(mlr_sales_solution))})\n",
    "### END HIDDEN TESTS"
   ]
  },
  {
   "cell_type": "markdown",
   "metadata": {
    "id": "4yizjCcZykvt",
    "nbgrader": {
     "grade": false,
     "grade_id": "cell-8d48d69d4de2a066",
     "locked": true,
     "schema_version": 3,
     "solution": false,
     "task": false
    }
   },
   "source": [
    "**B.2 (b) Describe the full F-test for this model. Be sure to clearly state the null and alternative hypotheses, the test statistic, p-value, and decision.**"
   ]
  },
  {
   "cell_type": "markdown",
   "metadata": {
    "id": "VilX-znlykvt",
    "nbgrader": {
     "grade": true,
     "grade_id": "cell-db071da6ecaaa1a5",
     "locked": false,
     "points": 5,
     "schema_version": 3,
     "solution": true,
     "task": false
    }
   },
   "source": [
    "Hypotheses: $H_0: \\beta_j = 0$ for all $j = 1,2,3$ vs $H_1: \\beta_j \\ne 0$ for some $j = 1,2,3$.\n",
    "\n",
    "The F-statistic for this model is $467.9$ and the p-value is effectively zero. So, we reject the null, and note that some variability is being explained by the model."
   ]
  },
  {
   "cell_type": "markdown",
   "metadata": {
    "id": "cq3DQgCoykvt",
    "nbgrader": {
     "grade": false,
     "grade_id": "cell-4a4093d2a52e02db",
     "locked": true,
     "schema_version": 3,
     "solution": false,
     "task": false
    }
   },
   "source": [
    "**B.2 (c) Is there good evidence to suggest that newspaper advertising has a *negative* association with sales? Use a statistical test as justification.**"
   ]
  },
  {
   "cell_type": "markdown",
   "metadata": {
    "id": "2mOo-0H7ykvt",
    "nbgrader": {
     "grade": true,
     "grade_id": "cell-9d4a000d8d09171c",
     "locked": false,
     "points": 5,
     "schema_version": 3,
     "solution": true,
     "task": false
    }
   },
   "source": [
    "Since the p-value for the t-test associated with `newspaper` is large, we don't have evidence that the parameter associated with `newspaper` is different from zero. So, `newspaper` is not associated with `sales`."
   ]
  },
  {
   "cell_type": "markdown",
   "metadata": {
    "collapsed": true,
    "id": "rOhEh0B3ykvt",
    "nbgrader": {
     "grade": false,
     "grade_id": "cell-b5098fabf9ddeb94",
     "locked": true,
     "schema_version": 3,
     "solution": false,
     "task": false
    }
   },
   "source": [
    "**B.2 (d) Assume that the model is correct. How much variability in `sales` is being explained by the model `mlr_sales`? Store your answer, rounded to four digits, in `v` below.**"
   ]
  },
  {
   "cell_type": "code",
   "execution_count": null,
   "metadata": {
    "id": "t9cb8NIBykvu",
    "nbgrader": {
     "grade": false,
     "grade_id": "cell-86cb92340345d20b",
     "locked": false,
     "schema_version": 3,
     "solution": true,
     "task": false
    }
   },
   "outputs": [],
   "source": [
    "v = NA\n",
    "### BEGIN SOLUTION HERE\n",
    "v = round(summary(mlr_sales_solution)$r.squared,4)\n",
    "## END SOLUTION HERE"
   ]
  },
  {
   "cell_type": "code",
   "execution_count": null,
   "metadata": {
    "id": "3IZ3rVYPykvu",
    "nbgrader": {
     "grade": true,
     "grade_id": "cell-37026ca2800d4456",
     "locked": true,
     "points": 4,
     "schema_version": 3,
     "solution": false,
     "task": false
    }
   },
   "outputs": [],
   "source": [
    "### BEGIN HIDDEN TESTS\n",
    "v_solution = round(summary(mlr_sales_solution)$r.squared,4)\n",
    "test_that(\"Is r2 correct?\", {expect_equal(v, v_solution)})\n",
    "### END HIDDEN TESTS"
   ]
  }
 ],
 "metadata": {
  "celltoolbar": "Create Assignment",
  "colab": {
   "name": "STAT4010-5010_Sp21_HW2_Solutions.ipynb",
   "provenance": []
  },
  "kernelspec": {
   "display_name": "R",
   "language": "R",
   "name": "ir"
  },
  "language_info": {
   "codemirror_mode": "r",
   "file_extension": ".r",
   "mimetype": "text/x-r-source",
   "name": "R",
   "pygments_lexer": "r",
   "version": "4.1.2"
  }
 },
 "nbformat": 4,
 "nbformat_minor": 1
}
